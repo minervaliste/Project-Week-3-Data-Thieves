{
 "cells": [
  {
   "cell_type": "code",
   "execution_count": 1,
   "metadata": {},
   "outputs": [],
   "source": [
    "# import libraries here\n",
    "import requests\n",
    "import pandas as pd\n",
    "from pandas.io.json import json_normalize\n",
    "import json\n",
    "import datetime as dt\n",
    "import numpy as np\n",
    "import re\n",
    "import matplotlib"
   ]
  },
  {
   "cell_type": "markdown",
   "metadata": {},
   "source": [
    "### Spotify API to get playlist info"
   ]
  },
  {
   "cell_type": "code",
   "execution_count": 2,
   "metadata": {},
   "outputs": [],
   "source": [
    "df = pd.read_csv('/Users/yazanmasarweh/Desktop/IronHack/Bootcamp/Module_1/Project-Week-3/datasets/SpotifyFeatures.csv')"
   ]
  },
  {
   "cell_type": "markdown",
   "metadata": {},
   "source": [
    "## Drop some columns to get just metric ones"
   ]
  },
  {
   "cell_type": "code",
   "execution_count": 3,
   "metadata": {},
   "outputs": [],
   "source": [
    "df1 = df.drop(['key', 'mode', 'time_signature'], axis=1)"
   ]
  },
  {
   "cell_type": "code",
   "execution_count": 4,
   "metadata": {},
   "outputs": [
    {
     "name": "stdout",
     "output_type": "stream",
     "text": "popularity\nacousticness\ndanceability\nduration_ms\nenergy\ninstrumentalness\nliveness\nloudness\nspeechiness\ntempo\nvalence\n"
    }
   ],
   "source": [
    "for i in df1.columns[4:]:\n",
    "    print(i)"
   ]
  },
  {
   "cell_type": "markdown",
   "metadata": {},
   "source": [
    "# Frequency distribution of all data"
   ]
  },
  {
   "cell_type": "code",
   "execution_count": 5,
   "metadata": {},
   "outputs": [],
   "source": [
    "for i in df1.columns[4:]:\n",
    "    df1.hist(i)"
   ]
  },
  {
   "cell_type": "code",
   "execution_count": 6,
   "metadata": {},
   "outputs": [
    {
     "data": {
      "text/html": "<div>\n<style scoped>\n    .dataframe tbody tr th:only-of-type {\n        vertical-align: middle;\n    }\n\n    .dataframe tbody tr th {\n        vertical-align: top;\n    }\n\n    .dataframe thead th {\n        text-align: right;\n    }\n</style>\n<table border=\"1\" class=\"dataframe\">\n  <thead>\n    <tr style=\"text-align: right;\">\n      <th></th>\n      <th>popularity</th>\n      <th>acousticness</th>\n      <th>danceability</th>\n      <th>duration_ms</th>\n      <th>energy</th>\n      <th>instrumentalness</th>\n      <th>liveness</th>\n      <th>loudness</th>\n      <th>speechiness</th>\n      <th>tempo</th>\n      <th>valence</th>\n    </tr>\n  </thead>\n  <tbody>\n    <tr>\n      <th>count</th>\n      <td>232725.000000</td>\n      <td>232725.000000</td>\n      <td>232725.000000</td>\n      <td>2.327250e+05</td>\n      <td>232725.000000</td>\n      <td>232725.000000</td>\n      <td>232725.000000</td>\n      <td>232725.000000</td>\n      <td>232725.000000</td>\n      <td>232725.000000</td>\n      <td>232725.000000</td>\n    </tr>\n    <tr>\n      <th>mean</th>\n      <td>41.127502</td>\n      <td>0.368560</td>\n      <td>0.554364</td>\n      <td>2.351223e+05</td>\n      <td>0.570958</td>\n      <td>0.148301</td>\n      <td>0.215009</td>\n      <td>-9.569885</td>\n      <td>0.120765</td>\n      <td>117.666585</td>\n      <td>0.454917</td>\n    </tr>\n    <tr>\n      <th>std</th>\n      <td>18.189948</td>\n      <td>0.354768</td>\n      <td>0.185608</td>\n      <td>1.189359e+05</td>\n      <td>0.263456</td>\n      <td>0.302768</td>\n      <td>0.198273</td>\n      <td>5.998204</td>\n      <td>0.185518</td>\n      <td>30.898907</td>\n      <td>0.260065</td>\n    </tr>\n    <tr>\n      <th>min</th>\n      <td>0.000000</td>\n      <td>0.000000</td>\n      <td>0.056900</td>\n      <td>1.538700e+04</td>\n      <td>0.000020</td>\n      <td>0.000000</td>\n      <td>0.009670</td>\n      <td>-52.457000</td>\n      <td>0.022200</td>\n      <td>30.379000</td>\n      <td>0.000000</td>\n    </tr>\n    <tr>\n      <th>25%</th>\n      <td>29.000000</td>\n      <td>0.037600</td>\n      <td>0.435000</td>\n      <td>1.828570e+05</td>\n      <td>0.385000</td>\n      <td>0.000000</td>\n      <td>0.097400</td>\n      <td>-11.771000</td>\n      <td>0.036700</td>\n      <td>92.959000</td>\n      <td>0.237000</td>\n    </tr>\n    <tr>\n      <th>50%</th>\n      <td>43.000000</td>\n      <td>0.232000</td>\n      <td>0.571000</td>\n      <td>2.204270e+05</td>\n      <td>0.605000</td>\n      <td>0.000044</td>\n      <td>0.128000</td>\n      <td>-7.762000</td>\n      <td>0.050100</td>\n      <td>115.778000</td>\n      <td>0.444000</td>\n    </tr>\n    <tr>\n      <th>75%</th>\n      <td>55.000000</td>\n      <td>0.722000</td>\n      <td>0.692000</td>\n      <td>2.657680e+05</td>\n      <td>0.787000</td>\n      <td>0.035800</td>\n      <td>0.264000</td>\n      <td>-5.501000</td>\n      <td>0.105000</td>\n      <td>139.054000</td>\n      <td>0.660000</td>\n    </tr>\n    <tr>\n      <th>max</th>\n      <td>100.000000</td>\n      <td>0.996000</td>\n      <td>0.989000</td>\n      <td>5.552917e+06</td>\n      <td>0.999000</td>\n      <td>0.999000</td>\n      <td>1.000000</td>\n      <td>3.744000</td>\n      <td>0.967000</td>\n      <td>242.903000</td>\n      <td>1.000000</td>\n    </tr>\n  </tbody>\n</table>\n</div>",
      "text/plain": "          popularity   acousticness   danceability   duration_ms  \\\ncount  232725.000000  232725.000000  232725.000000  2.327250e+05   \nmean       41.127502       0.368560       0.554364  2.351223e+05   \nstd        18.189948       0.354768       0.185608  1.189359e+05   \nmin         0.000000       0.000000       0.056900  1.538700e+04   \n25%        29.000000       0.037600       0.435000  1.828570e+05   \n50%        43.000000       0.232000       0.571000  2.204270e+05   \n75%        55.000000       0.722000       0.692000  2.657680e+05   \nmax       100.000000       0.996000       0.989000  5.552917e+06   \n\n              energy  instrumentalness       liveness       loudness  \\\ncount  232725.000000     232725.000000  232725.000000  232725.000000   \nmean        0.570958          0.148301       0.215009      -9.569885   \nstd         0.263456          0.302768       0.198273       5.998204   \nmin         0.000020          0.000000       0.009670     -52.457000   \n25%         0.385000          0.000000       0.097400     -11.771000   \n50%         0.605000          0.000044       0.128000      -7.762000   \n75%         0.787000          0.035800       0.264000      -5.501000   \nmax         0.999000          0.999000       1.000000       3.744000   \n\n         speechiness          tempo        valence  \ncount  232725.000000  232725.000000  232725.000000  \nmean        0.120765     117.666585       0.454917  \nstd         0.185518      30.898907       0.260065  \nmin         0.022200      30.379000       0.000000  \n25%         0.036700      92.959000       0.237000  \n50%         0.050100     115.778000       0.444000  \n75%         0.105000     139.054000       0.660000  \nmax         0.967000     242.903000       1.000000  "
     },
     "execution_count": 6,
     "metadata": {},
     "output_type": "execute_result"
    }
   ],
   "source": [
    "df1.describe()"
   ]
  },
  {
   "cell_type": "markdown",
   "metadata": {},
   "source": [
    "## All correlations"
   ]
  },
  {
   "cell_type": "code",
   "execution_count": 7,
   "metadata": {},
   "outputs": [],
   "source": [
    "df1_corr = df1.corr()"
   ]
  },
  {
   "cell_type": "markdown",
   "metadata": {},
   "source": [
    "## Strong negative correlations from -1.0 to -0.5"
   ]
  },
  {
   "cell_type": "code",
   "execution_count": 8,
   "metadata": {},
   "outputs": [
    {
     "data": {
      "text/html": "<div>\n<style scoped>\n    .dataframe tbody tr th:only-of-type {\n        vertical-align: middle;\n    }\n\n    .dataframe tbody tr th {\n        vertical-align: top;\n    }\n\n    .dataframe thead th {\n        text-align: right;\n    }\n</style>\n<table border=\"1\" class=\"dataframe\">\n  <thead>\n    <tr style=\"text-align: right;\">\n      <th></th>\n      <th>popularity</th>\n      <th>acousticness</th>\n      <th>danceability</th>\n      <th>duration_ms</th>\n      <th>energy</th>\n      <th>instrumentalness</th>\n      <th>liveness</th>\n      <th>loudness</th>\n      <th>speechiness</th>\n      <th>tempo</th>\n      <th>valence</th>\n    </tr>\n  </thead>\n  <tbody>\n    <tr>\n      <th>popularity</th>\n      <td>NaN</td>\n      <td>NaN</td>\n      <td>NaN</td>\n      <td>NaN</td>\n      <td>NaN</td>\n      <td>NaN</td>\n      <td>NaN</td>\n      <td>NaN</td>\n      <td>NaN</td>\n      <td>NaN</td>\n      <td>NaN</td>\n    </tr>\n    <tr>\n      <th>acousticness</th>\n      <td>NaN</td>\n      <td>NaN</td>\n      <td>NaN</td>\n      <td>NaN</td>\n      <td>-0.725576</td>\n      <td>NaN</td>\n      <td>NaN</td>\n      <td>-0.690202</td>\n      <td>NaN</td>\n      <td>NaN</td>\n      <td>NaN</td>\n    </tr>\n    <tr>\n      <th>danceability</th>\n      <td>NaN</td>\n      <td>NaN</td>\n      <td>NaN</td>\n      <td>NaN</td>\n      <td>NaN</td>\n      <td>NaN</td>\n      <td>NaN</td>\n      <td>NaN</td>\n      <td>NaN</td>\n      <td>NaN</td>\n      <td>NaN</td>\n    </tr>\n    <tr>\n      <th>duration_ms</th>\n      <td>NaN</td>\n      <td>NaN</td>\n      <td>NaN</td>\n      <td>NaN</td>\n      <td>NaN</td>\n      <td>NaN</td>\n      <td>NaN</td>\n      <td>NaN</td>\n      <td>NaN</td>\n      <td>NaN</td>\n      <td>NaN</td>\n    </tr>\n    <tr>\n      <th>energy</th>\n      <td>NaN</td>\n      <td>-0.725576</td>\n      <td>NaN</td>\n      <td>NaN</td>\n      <td>NaN</td>\n      <td>NaN</td>\n      <td>NaN</td>\n      <td>NaN</td>\n      <td>NaN</td>\n      <td>NaN</td>\n      <td>NaN</td>\n    </tr>\n    <tr>\n      <th>instrumentalness</th>\n      <td>NaN</td>\n      <td>NaN</td>\n      <td>NaN</td>\n      <td>NaN</td>\n      <td>NaN</td>\n      <td>NaN</td>\n      <td>NaN</td>\n      <td>-0.506320</td>\n      <td>NaN</td>\n      <td>NaN</td>\n      <td>NaN</td>\n    </tr>\n    <tr>\n      <th>liveness</th>\n      <td>NaN</td>\n      <td>NaN</td>\n      <td>NaN</td>\n      <td>NaN</td>\n      <td>NaN</td>\n      <td>NaN</td>\n      <td>NaN</td>\n      <td>NaN</td>\n      <td>NaN</td>\n      <td>NaN</td>\n      <td>NaN</td>\n    </tr>\n    <tr>\n      <th>loudness</th>\n      <td>NaN</td>\n      <td>-0.690202</td>\n      <td>NaN</td>\n      <td>NaN</td>\n      <td>NaN</td>\n      <td>-0.50632</td>\n      <td>NaN</td>\n      <td>NaN</td>\n      <td>NaN</td>\n      <td>NaN</td>\n      <td>NaN</td>\n    </tr>\n    <tr>\n      <th>speechiness</th>\n      <td>NaN</td>\n      <td>NaN</td>\n      <td>NaN</td>\n      <td>NaN</td>\n      <td>NaN</td>\n      <td>NaN</td>\n      <td>NaN</td>\n      <td>NaN</td>\n      <td>NaN</td>\n      <td>NaN</td>\n      <td>NaN</td>\n    </tr>\n    <tr>\n      <th>tempo</th>\n      <td>NaN</td>\n      <td>NaN</td>\n      <td>NaN</td>\n      <td>NaN</td>\n      <td>NaN</td>\n      <td>NaN</td>\n      <td>NaN</td>\n      <td>NaN</td>\n      <td>NaN</td>\n      <td>NaN</td>\n      <td>NaN</td>\n    </tr>\n    <tr>\n      <th>valence</th>\n      <td>NaN</td>\n      <td>NaN</td>\n      <td>NaN</td>\n      <td>NaN</td>\n      <td>NaN</td>\n      <td>NaN</td>\n      <td>NaN</td>\n      <td>NaN</td>\n      <td>NaN</td>\n      <td>NaN</td>\n      <td>NaN</td>\n    </tr>\n  </tbody>\n</table>\n</div>",
      "text/plain": "                  popularity  acousticness  danceability  duration_ms  \\\npopularity               NaN           NaN           NaN          NaN   \nacousticness             NaN           NaN           NaN          NaN   \ndanceability             NaN           NaN           NaN          NaN   \nduration_ms              NaN           NaN           NaN          NaN   \nenergy                   NaN     -0.725576           NaN          NaN   \ninstrumentalness         NaN           NaN           NaN          NaN   \nliveness                 NaN           NaN           NaN          NaN   \nloudness                 NaN     -0.690202           NaN          NaN   \nspeechiness              NaN           NaN           NaN          NaN   \ntempo                    NaN           NaN           NaN          NaN   \nvalence                  NaN           NaN           NaN          NaN   \n\n                    energy  instrumentalness  liveness  loudness  speechiness  \\\npopularity             NaN               NaN       NaN       NaN          NaN   \nacousticness     -0.725576               NaN       NaN -0.690202          NaN   \ndanceability           NaN               NaN       NaN       NaN          NaN   \nduration_ms            NaN               NaN       NaN       NaN          NaN   \nenergy                 NaN               NaN       NaN       NaN          NaN   \ninstrumentalness       NaN               NaN       NaN -0.506320          NaN   \nliveness               NaN               NaN       NaN       NaN          NaN   \nloudness               NaN          -0.50632       NaN       NaN          NaN   \nspeechiness            NaN               NaN       NaN       NaN          NaN   \ntempo                  NaN               NaN       NaN       NaN          NaN   \nvalence                NaN               NaN       NaN       NaN          NaN   \n\n                  tempo  valence  \npopularity          NaN      NaN  \nacousticness        NaN      NaN  \ndanceability        NaN      NaN  \nduration_ms         NaN      NaN  \nenergy              NaN      NaN  \ninstrumentalness    NaN      NaN  \nliveness            NaN      NaN  \nloudness            NaN      NaN  \nspeechiness         NaN      NaN  \ntempo               NaN      NaN  \nvalence             NaN      NaN  "
     },
     "execution_count": 8,
     "metadata": {},
     "output_type": "execute_result"
    }
   ],
   "source": [
    "df1_corr[(df1_corr >= -1) & (df1_corr <= -0.5)]"
   ]
  },
  {
   "cell_type": "markdown",
   "metadata": {},
   "source": [
    "## Moderate negative correlations from -0.5 to -0.3"
   ]
  },
  {
   "cell_type": "code",
   "execution_count": 9,
   "metadata": {},
   "outputs": [
    {
     "data": {
      "text/html": "<div>\n<style scoped>\n    .dataframe tbody tr th:only-of-type {\n        vertical-align: middle;\n    }\n\n    .dataframe tbody tr th {\n        vertical-align: top;\n    }\n\n    .dataframe thead th {\n        text-align: right;\n    }\n</style>\n<table border=\"1\" class=\"dataframe\">\n  <thead>\n    <tr style=\"text-align: right;\">\n      <th></th>\n      <th>popularity</th>\n      <th>acousticness</th>\n      <th>danceability</th>\n      <th>duration_ms</th>\n      <th>energy</th>\n      <th>instrumentalness</th>\n      <th>liveness</th>\n      <th>loudness</th>\n      <th>speechiness</th>\n      <th>tempo</th>\n      <th>valence</th>\n    </tr>\n  </thead>\n  <tbody>\n    <tr>\n      <th>popularity</th>\n      <td>NaN</td>\n      <td>-0.381295</td>\n      <td>NaN</td>\n      <td>NaN</td>\n      <td>NaN</td>\n      <td>NaN</td>\n      <td>NaN</td>\n      <td>NaN</td>\n      <td>NaN</td>\n      <td>NaN</td>\n      <td>NaN</td>\n    </tr>\n    <tr>\n      <th>acousticness</th>\n      <td>-0.381295</td>\n      <td>NaN</td>\n      <td>-0.364546</td>\n      <td>NaN</td>\n      <td>NaN</td>\n      <td>NaN</td>\n      <td>NaN</td>\n      <td>NaN</td>\n      <td>NaN</td>\n      <td>NaN</td>\n      <td>-0.325798</td>\n    </tr>\n    <tr>\n      <th>danceability</th>\n      <td>NaN</td>\n      <td>-0.364546</td>\n      <td>NaN</td>\n      <td>NaN</td>\n      <td>NaN</td>\n      <td>-0.364941</td>\n      <td>NaN</td>\n      <td>NaN</td>\n      <td>NaN</td>\n      <td>NaN</td>\n      <td>NaN</td>\n    </tr>\n    <tr>\n      <th>duration_ms</th>\n      <td>NaN</td>\n      <td>NaN</td>\n      <td>NaN</td>\n      <td>NaN</td>\n      <td>NaN</td>\n      <td>NaN</td>\n      <td>NaN</td>\n      <td>NaN</td>\n      <td>NaN</td>\n      <td>NaN</td>\n      <td>NaN</td>\n    </tr>\n    <tr>\n      <th>energy</th>\n      <td>NaN</td>\n      <td>NaN</td>\n      <td>NaN</td>\n      <td>NaN</td>\n      <td>NaN</td>\n      <td>-0.378957</td>\n      <td>NaN</td>\n      <td>NaN</td>\n      <td>NaN</td>\n      <td>NaN</td>\n      <td>NaN</td>\n    </tr>\n    <tr>\n      <th>instrumentalness</th>\n      <td>NaN</td>\n      <td>NaN</td>\n      <td>-0.364941</td>\n      <td>NaN</td>\n      <td>-0.378957</td>\n      <td>NaN</td>\n      <td>NaN</td>\n      <td>NaN</td>\n      <td>NaN</td>\n      <td>NaN</td>\n      <td>-0.307522</td>\n    </tr>\n    <tr>\n      <th>liveness</th>\n      <td>NaN</td>\n      <td>NaN</td>\n      <td>NaN</td>\n      <td>NaN</td>\n      <td>NaN</td>\n      <td>NaN</td>\n      <td>NaN</td>\n      <td>NaN</td>\n      <td>NaN</td>\n      <td>NaN</td>\n      <td>NaN</td>\n    </tr>\n    <tr>\n      <th>loudness</th>\n      <td>NaN</td>\n      <td>NaN</td>\n      <td>NaN</td>\n      <td>NaN</td>\n      <td>NaN</td>\n      <td>NaN</td>\n      <td>NaN</td>\n      <td>NaN</td>\n      <td>NaN</td>\n      <td>NaN</td>\n      <td>NaN</td>\n    </tr>\n    <tr>\n      <th>speechiness</th>\n      <td>NaN</td>\n      <td>NaN</td>\n      <td>NaN</td>\n      <td>NaN</td>\n      <td>NaN</td>\n      <td>NaN</td>\n      <td>NaN</td>\n      <td>NaN</td>\n      <td>NaN</td>\n      <td>NaN</td>\n      <td>NaN</td>\n    </tr>\n    <tr>\n      <th>tempo</th>\n      <td>NaN</td>\n      <td>NaN</td>\n      <td>NaN</td>\n      <td>NaN</td>\n      <td>NaN</td>\n      <td>NaN</td>\n      <td>NaN</td>\n      <td>NaN</td>\n      <td>NaN</td>\n      <td>NaN</td>\n      <td>NaN</td>\n    </tr>\n    <tr>\n      <th>valence</th>\n      <td>NaN</td>\n      <td>-0.325798</td>\n      <td>NaN</td>\n      <td>NaN</td>\n      <td>NaN</td>\n      <td>-0.307522</td>\n      <td>NaN</td>\n      <td>NaN</td>\n      <td>NaN</td>\n      <td>NaN</td>\n      <td>NaN</td>\n    </tr>\n  </tbody>\n</table>\n</div>",
      "text/plain": "                  popularity  acousticness  danceability  duration_ms  \\\npopularity               NaN     -0.381295           NaN          NaN   \nacousticness       -0.381295           NaN     -0.364546          NaN   \ndanceability             NaN     -0.364546           NaN          NaN   \nduration_ms              NaN           NaN           NaN          NaN   \nenergy                   NaN           NaN           NaN          NaN   \ninstrumentalness         NaN           NaN     -0.364941          NaN   \nliveness                 NaN           NaN           NaN          NaN   \nloudness                 NaN           NaN           NaN          NaN   \nspeechiness              NaN           NaN           NaN          NaN   \ntempo                    NaN           NaN           NaN          NaN   \nvalence                  NaN     -0.325798           NaN          NaN   \n\n                    energy  instrumentalness  liveness  loudness  speechiness  \\\npopularity             NaN               NaN       NaN       NaN          NaN   \nacousticness           NaN               NaN       NaN       NaN          NaN   \ndanceability           NaN         -0.364941       NaN       NaN          NaN   \nduration_ms            NaN               NaN       NaN       NaN          NaN   \nenergy                 NaN         -0.378957       NaN       NaN          NaN   \ninstrumentalness -0.378957               NaN       NaN       NaN          NaN   \nliveness               NaN               NaN       NaN       NaN          NaN   \nloudness               NaN               NaN       NaN       NaN          NaN   \nspeechiness            NaN               NaN       NaN       NaN          NaN   \ntempo                  NaN               NaN       NaN       NaN          NaN   \nvalence                NaN         -0.307522       NaN       NaN          NaN   \n\n                  tempo   valence  \npopularity          NaN       NaN  \nacousticness        NaN -0.325798  \ndanceability        NaN       NaN  \nduration_ms         NaN       NaN  \nenergy              NaN       NaN  \ninstrumentalness    NaN -0.307522  \nliveness            NaN       NaN  \nloudness            NaN       NaN  \nspeechiness         NaN       NaN  \ntempo               NaN       NaN  \nvalence             NaN       NaN  "
     },
     "execution_count": 9,
     "metadata": {},
     "output_type": "execute_result"
    }
   ],
   "source": [
    "df1_corr[(df1_corr >= -0.5) & (df1_corr <= -0.3)]"
   ]
  },
  {
   "cell_type": "markdown",
   "metadata": {},
   "source": [
    "## Weak negative correlations from -0.3 to -0.1"
   ]
  },
  {
   "cell_type": "code",
   "execution_count": 10,
   "metadata": {},
   "outputs": [
    {
     "data": {
      "text/html": "<div>\n<style scoped>\n    .dataframe tbody tr th:only-of-type {\n        vertical-align: middle;\n    }\n\n    .dataframe tbody tr th {\n        vertical-align: top;\n    }\n\n    .dataframe thead th {\n        text-align: right;\n    }\n</style>\n<table border=\"1\" class=\"dataframe\">\n  <thead>\n    <tr style=\"text-align: right;\">\n      <th></th>\n      <th>popularity</th>\n      <th>acousticness</th>\n      <th>danceability</th>\n      <th>duration_ms</th>\n      <th>energy</th>\n      <th>instrumentalness</th>\n      <th>liveness</th>\n      <th>loudness</th>\n      <th>speechiness</th>\n      <th>tempo</th>\n      <th>valence</th>\n    </tr>\n  </thead>\n  <tbody>\n    <tr>\n      <th>popularity</th>\n      <td>NaN</td>\n      <td>NaN</td>\n      <td>NaN</td>\n      <td>NaN</td>\n      <td>NaN</td>\n      <td>-0.210983</td>\n      <td>-0.167995</td>\n      <td>NaN</td>\n      <td>-0.151076</td>\n      <td>NaN</td>\n      <td>NaN</td>\n    </tr>\n    <tr>\n      <th>acousticness</th>\n      <td>NaN</td>\n      <td>NaN</td>\n      <td>NaN</td>\n      <td>NaN</td>\n      <td>NaN</td>\n      <td>NaN</td>\n      <td>NaN</td>\n      <td>NaN</td>\n      <td>NaN</td>\n      <td>-0.238247</td>\n      <td>NaN</td>\n    </tr>\n    <tr>\n      <th>danceability</th>\n      <td>NaN</td>\n      <td>NaN</td>\n      <td>NaN</td>\n      <td>-0.125781</td>\n      <td>NaN</td>\n      <td>NaN</td>\n      <td>NaN</td>\n      <td>NaN</td>\n      <td>NaN</td>\n      <td>NaN</td>\n      <td>NaN</td>\n    </tr>\n    <tr>\n      <th>duration_ms</th>\n      <td>NaN</td>\n      <td>NaN</td>\n      <td>-0.125781</td>\n      <td>NaN</td>\n      <td>NaN</td>\n      <td>NaN</td>\n      <td>NaN</td>\n      <td>NaN</td>\n      <td>NaN</td>\n      <td>NaN</td>\n      <td>-0.141811</td>\n    </tr>\n    <tr>\n      <th>energy</th>\n      <td>NaN</td>\n      <td>NaN</td>\n      <td>NaN</td>\n      <td>NaN</td>\n      <td>NaN</td>\n      <td>NaN</td>\n      <td>NaN</td>\n      <td>NaN</td>\n      <td>NaN</td>\n      <td>NaN</td>\n      <td>NaN</td>\n    </tr>\n    <tr>\n      <th>instrumentalness</th>\n      <td>-0.210983</td>\n      <td>NaN</td>\n      <td>NaN</td>\n      <td>NaN</td>\n      <td>NaN</td>\n      <td>NaN</td>\n      <td>-0.134198</td>\n      <td>NaN</td>\n      <td>-0.177147</td>\n      <td>-0.104133</td>\n      <td>NaN</td>\n    </tr>\n    <tr>\n      <th>liveness</th>\n      <td>-0.167995</td>\n      <td>NaN</td>\n      <td>NaN</td>\n      <td>NaN</td>\n      <td>NaN</td>\n      <td>-0.134198</td>\n      <td>NaN</td>\n      <td>NaN</td>\n      <td>NaN</td>\n      <td>NaN</td>\n      <td>NaN</td>\n    </tr>\n    <tr>\n      <th>loudness</th>\n      <td>NaN</td>\n      <td>NaN</td>\n      <td>NaN</td>\n      <td>NaN</td>\n      <td>NaN</td>\n      <td>NaN</td>\n      <td>NaN</td>\n      <td>NaN</td>\n      <td>NaN</td>\n      <td>NaN</td>\n      <td>NaN</td>\n    </tr>\n    <tr>\n      <th>speechiness</th>\n      <td>-0.151076</td>\n      <td>NaN</td>\n      <td>NaN</td>\n      <td>NaN</td>\n      <td>NaN</td>\n      <td>-0.177147</td>\n      <td>NaN</td>\n      <td>NaN</td>\n      <td>NaN</td>\n      <td>NaN</td>\n      <td>NaN</td>\n    </tr>\n    <tr>\n      <th>tempo</th>\n      <td>NaN</td>\n      <td>-0.238247</td>\n      <td>NaN</td>\n      <td>NaN</td>\n      <td>NaN</td>\n      <td>-0.104133</td>\n      <td>NaN</td>\n      <td>NaN</td>\n      <td>NaN</td>\n      <td>NaN</td>\n      <td>NaN</td>\n    </tr>\n    <tr>\n      <th>valence</th>\n      <td>NaN</td>\n      <td>NaN</td>\n      <td>NaN</td>\n      <td>-0.141811</td>\n      <td>NaN</td>\n      <td>NaN</td>\n      <td>NaN</td>\n      <td>NaN</td>\n      <td>NaN</td>\n      <td>NaN</td>\n      <td>NaN</td>\n    </tr>\n  </tbody>\n</table>\n</div>",
      "text/plain": "                  popularity  acousticness  danceability  duration_ms  energy  \\\npopularity               NaN           NaN           NaN          NaN     NaN   \nacousticness             NaN           NaN           NaN          NaN     NaN   \ndanceability             NaN           NaN           NaN    -0.125781     NaN   \nduration_ms              NaN           NaN     -0.125781          NaN     NaN   \nenergy                   NaN           NaN           NaN          NaN     NaN   \ninstrumentalness   -0.210983           NaN           NaN          NaN     NaN   \nliveness           -0.167995           NaN           NaN          NaN     NaN   \nloudness                 NaN           NaN           NaN          NaN     NaN   \nspeechiness        -0.151076           NaN           NaN          NaN     NaN   \ntempo                    NaN     -0.238247           NaN          NaN     NaN   \nvalence                  NaN           NaN           NaN    -0.141811     NaN   \n\n                  instrumentalness  liveness  loudness  speechiness     tempo  \\\npopularity               -0.210983 -0.167995       NaN    -0.151076       NaN   \nacousticness                   NaN       NaN       NaN          NaN -0.238247   \ndanceability                   NaN       NaN       NaN          NaN       NaN   \nduration_ms                    NaN       NaN       NaN          NaN       NaN   \nenergy                         NaN       NaN       NaN          NaN       NaN   \ninstrumentalness               NaN -0.134198       NaN    -0.177147 -0.104133   \nliveness                 -0.134198       NaN       NaN          NaN       NaN   \nloudness                       NaN       NaN       NaN          NaN       NaN   \nspeechiness              -0.177147       NaN       NaN          NaN       NaN   \ntempo                    -0.104133       NaN       NaN          NaN       NaN   \nvalence                        NaN       NaN       NaN          NaN       NaN   \n\n                   valence  \npopularity             NaN  \nacousticness           NaN  \ndanceability           NaN  \nduration_ms      -0.141811  \nenergy                 NaN  \ninstrumentalness       NaN  \nliveness               NaN  \nloudness               NaN  \nspeechiness            NaN  \ntempo                  NaN  \nvalence                NaN  "
     },
     "execution_count": 10,
     "metadata": {},
     "output_type": "execute_result"
    }
   ],
   "source": [
    "df1_corr[(df1_corr >= -0.3) & (df1_corr <= -0.1)]"
   ]
  },
  {
   "cell_type": "markdown",
   "metadata": {},
   "source": [
    "## Strong positive correlations from 1.0 to 0.5"
   ]
  },
  {
   "cell_type": "code",
   "execution_count": 11,
   "metadata": {},
   "outputs": [
    {
     "data": {
      "text/html": "<div>\n<style scoped>\n    .dataframe tbody tr th:only-of-type {\n        vertical-align: middle;\n    }\n\n    .dataframe tbody tr th {\n        vertical-align: top;\n    }\n\n    .dataframe thead th {\n        text-align: right;\n    }\n</style>\n<table border=\"1\" class=\"dataframe\">\n  <thead>\n    <tr style=\"text-align: right;\">\n      <th></th>\n      <th>popularity</th>\n      <th>acousticness</th>\n      <th>danceability</th>\n      <th>duration_ms</th>\n      <th>energy</th>\n      <th>instrumentalness</th>\n      <th>liveness</th>\n      <th>loudness</th>\n      <th>speechiness</th>\n      <th>tempo</th>\n      <th>valence</th>\n    </tr>\n  </thead>\n  <tbody>\n    <tr>\n      <th>popularity</th>\n      <td>1.0</td>\n      <td>NaN</td>\n      <td>NaN</td>\n      <td>NaN</td>\n      <td>NaN</td>\n      <td>NaN</td>\n      <td>NaN</td>\n      <td>NaN</td>\n      <td>NaN</td>\n      <td>NaN</td>\n      <td>NaN</td>\n    </tr>\n    <tr>\n      <th>acousticness</th>\n      <td>NaN</td>\n      <td>1.0</td>\n      <td>NaN</td>\n      <td>NaN</td>\n      <td>NaN</td>\n      <td>NaN</td>\n      <td>NaN</td>\n      <td>NaN</td>\n      <td>NaN</td>\n      <td>NaN</td>\n      <td>NaN</td>\n    </tr>\n    <tr>\n      <th>danceability</th>\n      <td>NaN</td>\n      <td>NaN</td>\n      <td>1.000000</td>\n      <td>NaN</td>\n      <td>NaN</td>\n      <td>NaN</td>\n      <td>NaN</td>\n      <td>NaN</td>\n      <td>NaN</td>\n      <td>NaN</td>\n      <td>0.547154</td>\n    </tr>\n    <tr>\n      <th>duration_ms</th>\n      <td>NaN</td>\n      <td>NaN</td>\n      <td>NaN</td>\n      <td>1.0</td>\n      <td>NaN</td>\n      <td>NaN</td>\n      <td>NaN</td>\n      <td>NaN</td>\n      <td>NaN</td>\n      <td>NaN</td>\n      <td>NaN</td>\n    </tr>\n    <tr>\n      <th>energy</th>\n      <td>NaN</td>\n      <td>NaN</td>\n      <td>NaN</td>\n      <td>NaN</td>\n      <td>1.000000</td>\n      <td>NaN</td>\n      <td>NaN</td>\n      <td>0.816088</td>\n      <td>NaN</td>\n      <td>NaN</td>\n      <td>NaN</td>\n    </tr>\n    <tr>\n      <th>instrumentalness</th>\n      <td>NaN</td>\n      <td>NaN</td>\n      <td>NaN</td>\n      <td>NaN</td>\n      <td>NaN</td>\n      <td>1.0</td>\n      <td>NaN</td>\n      <td>NaN</td>\n      <td>NaN</td>\n      <td>NaN</td>\n      <td>NaN</td>\n    </tr>\n    <tr>\n      <th>liveness</th>\n      <td>NaN</td>\n      <td>NaN</td>\n      <td>NaN</td>\n      <td>NaN</td>\n      <td>NaN</td>\n      <td>NaN</td>\n      <td>1.000000</td>\n      <td>NaN</td>\n      <td>0.510147</td>\n      <td>NaN</td>\n      <td>NaN</td>\n    </tr>\n    <tr>\n      <th>loudness</th>\n      <td>NaN</td>\n      <td>NaN</td>\n      <td>NaN</td>\n      <td>NaN</td>\n      <td>0.816088</td>\n      <td>NaN</td>\n      <td>NaN</td>\n      <td>1.000000</td>\n      <td>NaN</td>\n      <td>NaN</td>\n      <td>NaN</td>\n    </tr>\n    <tr>\n      <th>speechiness</th>\n      <td>NaN</td>\n      <td>NaN</td>\n      <td>NaN</td>\n      <td>NaN</td>\n      <td>NaN</td>\n      <td>NaN</td>\n      <td>0.510147</td>\n      <td>NaN</td>\n      <td>1.000000</td>\n      <td>NaN</td>\n      <td>NaN</td>\n    </tr>\n    <tr>\n      <th>tempo</th>\n      <td>NaN</td>\n      <td>NaN</td>\n      <td>NaN</td>\n      <td>NaN</td>\n      <td>NaN</td>\n      <td>NaN</td>\n      <td>NaN</td>\n      <td>NaN</td>\n      <td>NaN</td>\n      <td>1.0</td>\n      <td>NaN</td>\n    </tr>\n    <tr>\n      <th>valence</th>\n      <td>NaN</td>\n      <td>NaN</td>\n      <td>0.547154</td>\n      <td>NaN</td>\n      <td>NaN</td>\n      <td>NaN</td>\n      <td>NaN</td>\n      <td>NaN</td>\n      <td>NaN</td>\n      <td>NaN</td>\n      <td>1.000000</td>\n    </tr>\n  </tbody>\n</table>\n</div>",
      "text/plain": "                  popularity  acousticness  danceability  duration_ms  \\\npopularity               1.0           NaN           NaN          NaN   \nacousticness             NaN           1.0           NaN          NaN   \ndanceability             NaN           NaN      1.000000          NaN   \nduration_ms              NaN           NaN           NaN          1.0   \nenergy                   NaN           NaN           NaN          NaN   \ninstrumentalness         NaN           NaN           NaN          NaN   \nliveness                 NaN           NaN           NaN          NaN   \nloudness                 NaN           NaN           NaN          NaN   \nspeechiness              NaN           NaN           NaN          NaN   \ntempo                    NaN           NaN           NaN          NaN   \nvalence                  NaN           NaN      0.547154          NaN   \n\n                    energy  instrumentalness  liveness  loudness  speechiness  \\\npopularity             NaN               NaN       NaN       NaN          NaN   \nacousticness           NaN               NaN       NaN       NaN          NaN   \ndanceability           NaN               NaN       NaN       NaN          NaN   \nduration_ms            NaN               NaN       NaN       NaN          NaN   \nenergy            1.000000               NaN       NaN  0.816088          NaN   \ninstrumentalness       NaN               1.0       NaN       NaN          NaN   \nliveness               NaN               NaN  1.000000       NaN     0.510147   \nloudness          0.816088               NaN       NaN  1.000000          NaN   \nspeechiness            NaN               NaN  0.510147       NaN     1.000000   \ntempo                  NaN               NaN       NaN       NaN          NaN   \nvalence                NaN               NaN       NaN       NaN          NaN   \n\n                  tempo   valence  \npopularity          NaN       NaN  \nacousticness        NaN       NaN  \ndanceability        NaN  0.547154  \nduration_ms         NaN       NaN  \nenergy              NaN       NaN  \ninstrumentalness    NaN       NaN  \nliveness            NaN       NaN  \nloudness            NaN       NaN  \nspeechiness         NaN       NaN  \ntempo               1.0       NaN  \nvalence             NaN  1.000000  "
     },
     "execution_count": 11,
     "metadata": {},
     "output_type": "execute_result"
    }
   ],
   "source": [
    "df1_corr[(df1_corr >= 0.5) & (df1_corr <= 1.0)]"
   ]
  },
  {
   "cell_type": "markdown",
   "metadata": {},
   "source": [
    "## Moderate positive correlations from 0.5 to 0.3"
   ]
  },
  {
   "cell_type": "code",
   "execution_count": 12,
   "metadata": {},
   "outputs": [
    {
     "data": {
      "text/html": "<div>\n<style scoped>\n    .dataframe tbody tr th:only-of-type {\n        vertical-align: middle;\n    }\n\n    .dataframe tbody tr th {\n        vertical-align: top;\n    }\n\n    .dataframe thead th {\n        text-align: right;\n    }\n</style>\n<table border=\"1\" class=\"dataframe\">\n  <thead>\n    <tr style=\"text-align: right;\">\n      <th></th>\n      <th>popularity</th>\n      <th>acousticness</th>\n      <th>danceability</th>\n      <th>duration_ms</th>\n      <th>energy</th>\n      <th>instrumentalness</th>\n      <th>liveness</th>\n      <th>loudness</th>\n      <th>speechiness</th>\n      <th>tempo</th>\n      <th>valence</th>\n    </tr>\n  </thead>\n  <tbody>\n    <tr>\n      <th>popularity</th>\n      <td>NaN</td>\n      <td>NaN</td>\n      <td>NaN</td>\n      <td>NaN</td>\n      <td>NaN</td>\n      <td>NaN</td>\n      <td>NaN</td>\n      <td>0.363011</td>\n      <td>NaN</td>\n      <td>NaN</td>\n      <td>NaN</td>\n    </tr>\n    <tr>\n      <th>acousticness</th>\n      <td>NaN</td>\n      <td>NaN</td>\n      <td>NaN</td>\n      <td>NaN</td>\n      <td>NaN</td>\n      <td>0.316154</td>\n      <td>NaN</td>\n      <td>NaN</td>\n      <td>NaN</td>\n      <td>NaN</td>\n      <td>NaN</td>\n    </tr>\n    <tr>\n      <th>danceability</th>\n      <td>NaN</td>\n      <td>NaN</td>\n      <td>NaN</td>\n      <td>NaN</td>\n      <td>0.325807</td>\n      <td>NaN</td>\n      <td>NaN</td>\n      <td>0.438668</td>\n      <td>NaN</td>\n      <td>NaN</td>\n      <td>NaN</td>\n    </tr>\n    <tr>\n      <th>duration_ms</th>\n      <td>NaN</td>\n      <td>NaN</td>\n      <td>NaN</td>\n      <td>NaN</td>\n      <td>NaN</td>\n      <td>NaN</td>\n      <td>NaN</td>\n      <td>NaN</td>\n      <td>NaN</td>\n      <td>NaN</td>\n      <td>NaN</td>\n    </tr>\n    <tr>\n      <th>energy</th>\n      <td>NaN</td>\n      <td>NaN</td>\n      <td>0.325807</td>\n      <td>NaN</td>\n      <td>NaN</td>\n      <td>NaN</td>\n      <td>NaN</td>\n      <td>NaN</td>\n      <td>NaN</td>\n      <td>NaN</td>\n      <td>0.436771</td>\n    </tr>\n    <tr>\n      <th>instrumentalness</th>\n      <td>NaN</td>\n      <td>0.316154</td>\n      <td>NaN</td>\n      <td>NaN</td>\n      <td>NaN</td>\n      <td>NaN</td>\n      <td>NaN</td>\n      <td>NaN</td>\n      <td>NaN</td>\n      <td>NaN</td>\n      <td>NaN</td>\n    </tr>\n    <tr>\n      <th>liveness</th>\n      <td>NaN</td>\n      <td>NaN</td>\n      <td>NaN</td>\n      <td>NaN</td>\n      <td>NaN</td>\n      <td>NaN</td>\n      <td>NaN</td>\n      <td>NaN</td>\n      <td>NaN</td>\n      <td>NaN</td>\n      <td>NaN</td>\n    </tr>\n    <tr>\n      <th>loudness</th>\n      <td>0.363011</td>\n      <td>NaN</td>\n      <td>0.438668</td>\n      <td>NaN</td>\n      <td>NaN</td>\n      <td>NaN</td>\n      <td>NaN</td>\n      <td>NaN</td>\n      <td>NaN</td>\n      <td>NaN</td>\n      <td>0.399901</td>\n    </tr>\n    <tr>\n      <th>speechiness</th>\n      <td>NaN</td>\n      <td>NaN</td>\n      <td>NaN</td>\n      <td>NaN</td>\n      <td>NaN</td>\n      <td>NaN</td>\n      <td>NaN</td>\n      <td>NaN</td>\n      <td>NaN</td>\n      <td>NaN</td>\n      <td>NaN</td>\n    </tr>\n    <tr>\n      <th>tempo</th>\n      <td>NaN</td>\n      <td>NaN</td>\n      <td>NaN</td>\n      <td>NaN</td>\n      <td>NaN</td>\n      <td>NaN</td>\n      <td>NaN</td>\n      <td>NaN</td>\n      <td>NaN</td>\n      <td>NaN</td>\n      <td>NaN</td>\n    </tr>\n    <tr>\n      <th>valence</th>\n      <td>NaN</td>\n      <td>NaN</td>\n      <td>NaN</td>\n      <td>NaN</td>\n      <td>0.436771</td>\n      <td>NaN</td>\n      <td>NaN</td>\n      <td>0.399901</td>\n      <td>NaN</td>\n      <td>NaN</td>\n      <td>NaN</td>\n    </tr>\n  </tbody>\n</table>\n</div>",
      "text/plain": "                  popularity  acousticness  danceability  duration_ms  \\\npopularity               NaN           NaN           NaN          NaN   \nacousticness             NaN           NaN           NaN          NaN   \ndanceability             NaN           NaN           NaN          NaN   \nduration_ms              NaN           NaN           NaN          NaN   \nenergy                   NaN           NaN      0.325807          NaN   \ninstrumentalness         NaN      0.316154           NaN          NaN   \nliveness                 NaN           NaN           NaN          NaN   \nloudness            0.363011           NaN      0.438668          NaN   \nspeechiness              NaN           NaN           NaN          NaN   \ntempo                    NaN           NaN           NaN          NaN   \nvalence                  NaN           NaN           NaN          NaN   \n\n                    energy  instrumentalness  liveness  loudness  speechiness  \\\npopularity             NaN               NaN       NaN  0.363011          NaN   \nacousticness           NaN          0.316154       NaN       NaN          NaN   \ndanceability      0.325807               NaN       NaN  0.438668          NaN   \nduration_ms            NaN               NaN       NaN       NaN          NaN   \nenergy                 NaN               NaN       NaN       NaN          NaN   \ninstrumentalness       NaN               NaN       NaN       NaN          NaN   \nliveness               NaN               NaN       NaN       NaN          NaN   \nloudness               NaN               NaN       NaN       NaN          NaN   \nspeechiness            NaN               NaN       NaN       NaN          NaN   \ntempo                  NaN               NaN       NaN       NaN          NaN   \nvalence           0.436771               NaN       NaN  0.399901          NaN   \n\n                  tempo   valence  \npopularity          NaN       NaN  \nacousticness        NaN       NaN  \ndanceability        NaN       NaN  \nduration_ms         NaN       NaN  \nenergy              NaN  0.436771  \ninstrumentalness    NaN       NaN  \nliveness            NaN       NaN  \nloudness            NaN  0.399901  \nspeechiness         NaN       NaN  \ntempo               NaN       NaN  \nvalence             NaN       NaN  "
     },
     "execution_count": 12,
     "metadata": {},
     "output_type": "execute_result"
    }
   ],
   "source": [
    "df1_corr[(df1_corr >= 0.3) & (df1_corr <= 0.5)]"
   ]
  },
  {
   "cell_type": "markdown",
   "metadata": {},
   "source": [
    "## Weak positive correlations from 0.1 to 0.3"
   ]
  },
  {
   "cell_type": "code",
   "execution_count": 13,
   "metadata": {},
   "outputs": [
    {
     "data": {
      "text/html": "<div>\n<style scoped>\n    .dataframe tbody tr th:only-of-type {\n        vertical-align: middle;\n    }\n\n    .dataframe tbody tr th {\n        vertical-align: top;\n    }\n\n    .dataframe thead th {\n        text-align: right;\n    }\n</style>\n<table border=\"1\" class=\"dataframe\">\n  <thead>\n    <tr style=\"text-align: right;\">\n      <th></th>\n      <th>popularity</th>\n      <th>acousticness</th>\n      <th>danceability</th>\n      <th>duration_ms</th>\n      <th>energy</th>\n      <th>instrumentalness</th>\n      <th>liveness</th>\n      <th>loudness</th>\n      <th>speechiness</th>\n      <th>tempo</th>\n      <th>valence</th>\n    </tr>\n  </thead>\n  <tbody>\n    <tr>\n      <th>popularity</th>\n      <td>NaN</td>\n      <td>NaN</td>\n      <td>0.256564</td>\n      <td>NaN</td>\n      <td>0.248922</td>\n      <td>NaN</td>\n      <td>NaN</td>\n      <td>NaN</td>\n      <td>NaN</td>\n      <td>NaN</td>\n      <td>NaN</td>\n    </tr>\n    <tr>\n      <th>acousticness</th>\n      <td>NaN</td>\n      <td>NaN</td>\n      <td>NaN</td>\n      <td>NaN</td>\n      <td>NaN</td>\n      <td>NaN</td>\n      <td>NaN</td>\n      <td>NaN</td>\n      <td>0.150935</td>\n      <td>NaN</td>\n      <td>NaN</td>\n    </tr>\n    <tr>\n      <th>danceability</th>\n      <td>0.256564</td>\n      <td>NaN</td>\n      <td>NaN</td>\n      <td>NaN</td>\n      <td>NaN</td>\n      <td>NaN</td>\n      <td>NaN</td>\n      <td>NaN</td>\n      <td>0.134560</td>\n      <td>NaN</td>\n      <td>NaN</td>\n    </tr>\n    <tr>\n      <th>duration_ms</th>\n      <td>NaN</td>\n      <td>NaN</td>\n      <td>NaN</td>\n      <td>NaN</td>\n      <td>NaN</td>\n      <td>NaN</td>\n      <td>NaN</td>\n      <td>NaN</td>\n      <td>NaN</td>\n      <td>NaN</td>\n      <td>NaN</td>\n    </tr>\n    <tr>\n      <th>energy</th>\n      <td>0.248922</td>\n      <td>NaN</td>\n      <td>NaN</td>\n      <td>NaN</td>\n      <td>NaN</td>\n      <td>NaN</td>\n      <td>0.192801</td>\n      <td>NaN</td>\n      <td>0.145120</td>\n      <td>0.228774</td>\n      <td>NaN</td>\n    </tr>\n    <tr>\n      <th>instrumentalness</th>\n      <td>NaN</td>\n      <td>NaN</td>\n      <td>NaN</td>\n      <td>NaN</td>\n      <td>NaN</td>\n      <td>NaN</td>\n      <td>NaN</td>\n      <td>NaN</td>\n      <td>NaN</td>\n      <td>NaN</td>\n      <td>NaN</td>\n    </tr>\n    <tr>\n      <th>liveness</th>\n      <td>NaN</td>\n      <td>NaN</td>\n      <td>NaN</td>\n      <td>NaN</td>\n      <td>0.192801</td>\n      <td>NaN</td>\n      <td>NaN</td>\n      <td>NaN</td>\n      <td>NaN</td>\n      <td>NaN</td>\n      <td>NaN</td>\n    </tr>\n    <tr>\n      <th>loudness</th>\n      <td>NaN</td>\n      <td>NaN</td>\n      <td>NaN</td>\n      <td>NaN</td>\n      <td>NaN</td>\n      <td>NaN</td>\n      <td>NaN</td>\n      <td>NaN</td>\n      <td>NaN</td>\n      <td>0.228364</td>\n      <td>NaN</td>\n    </tr>\n    <tr>\n      <th>speechiness</th>\n      <td>NaN</td>\n      <td>0.150935</td>\n      <td>0.134560</td>\n      <td>NaN</td>\n      <td>0.145120</td>\n      <td>NaN</td>\n      <td>NaN</td>\n      <td>NaN</td>\n      <td>NaN</td>\n      <td>NaN</td>\n      <td>NaN</td>\n    </tr>\n    <tr>\n      <th>tempo</th>\n      <td>NaN</td>\n      <td>NaN</td>\n      <td>NaN</td>\n      <td>NaN</td>\n      <td>0.228774</td>\n      <td>NaN</td>\n      <td>NaN</td>\n      <td>0.228364</td>\n      <td>NaN</td>\n      <td>NaN</td>\n      <td>0.134857</td>\n    </tr>\n    <tr>\n      <th>valence</th>\n      <td>NaN</td>\n      <td>NaN</td>\n      <td>NaN</td>\n      <td>NaN</td>\n      <td>NaN</td>\n      <td>NaN</td>\n      <td>NaN</td>\n      <td>NaN</td>\n      <td>NaN</td>\n      <td>0.134857</td>\n      <td>NaN</td>\n    </tr>\n  </tbody>\n</table>\n</div>",
      "text/plain": "                  popularity  acousticness  danceability  duration_ms  \\\npopularity               NaN           NaN      0.256564          NaN   \nacousticness             NaN           NaN           NaN          NaN   \ndanceability        0.256564           NaN           NaN          NaN   \nduration_ms              NaN           NaN           NaN          NaN   \nenergy              0.248922           NaN           NaN          NaN   \ninstrumentalness         NaN           NaN           NaN          NaN   \nliveness                 NaN           NaN           NaN          NaN   \nloudness                 NaN           NaN           NaN          NaN   \nspeechiness              NaN      0.150935      0.134560          NaN   \ntempo                    NaN           NaN           NaN          NaN   \nvalence                  NaN           NaN           NaN          NaN   \n\n                    energy  instrumentalness  liveness  loudness  speechiness  \\\npopularity        0.248922               NaN       NaN       NaN          NaN   \nacousticness           NaN               NaN       NaN       NaN     0.150935   \ndanceability           NaN               NaN       NaN       NaN     0.134560   \nduration_ms            NaN               NaN       NaN       NaN          NaN   \nenergy                 NaN               NaN  0.192801       NaN     0.145120   \ninstrumentalness       NaN               NaN       NaN       NaN          NaN   \nliveness          0.192801               NaN       NaN       NaN          NaN   \nloudness               NaN               NaN       NaN       NaN          NaN   \nspeechiness       0.145120               NaN       NaN       NaN          NaN   \ntempo             0.228774               NaN       NaN  0.228364          NaN   \nvalence                NaN               NaN       NaN       NaN          NaN   \n\n                     tempo   valence  \npopularity             NaN       NaN  \nacousticness           NaN       NaN  \ndanceability           NaN       NaN  \nduration_ms            NaN       NaN  \nenergy            0.228774       NaN  \ninstrumentalness       NaN       NaN  \nliveness               NaN       NaN  \nloudness          0.228364       NaN  \nspeechiness            NaN       NaN  \ntempo                  NaN  0.134857  \nvalence           0.134857       NaN  "
     },
     "execution_count": 13,
     "metadata": {},
     "output_type": "execute_result"
    }
   ],
   "source": [
    "df1_corr[(df1_corr >= 0.1) & (df1_corr <= 0.3)]"
   ]
  },
  {
   "cell_type": "markdown",
   "metadata": {},
   "source": [
    "# Comparing Drake, The Weeknd, and AC/DC"
   ]
  },
  {
   "cell_type": "code",
   "execution_count": 14,
   "metadata": {},
   "outputs": [],
   "source": [
    "drake = df1['artist_name'] == 'Drake'\n",
    "df_drake = df1.loc[drake]\n",
    "df_drake = df_drake[['popularity', 'acousticness', 'danceability', 'energy', 'loudness', 'tempo', 'valence']]"
   ]
  },
  {
   "cell_type": "code",
   "execution_count": 15,
   "metadata": {},
   "outputs": [
    {
     "data": {
      "text/html": "<div>\n<style scoped>\n    .dataframe tbody tr th:only-of-type {\n        vertical-align: middle;\n    }\n\n    .dataframe tbody tr th {\n        vertical-align: top;\n    }\n\n    .dataframe thead th {\n        text-align: right;\n    }\n</style>\n<table border=\"1\" class=\"dataframe\">\n  <thead>\n    <tr style=\"text-align: right;\">\n      <th></th>\n      <th>popularity</th>\n      <th>acousticness</th>\n      <th>danceability</th>\n      <th>energy</th>\n      <th>loudness</th>\n      <th>tempo</th>\n      <th>valence</th>\n    </tr>\n  </thead>\n  <tbody>\n    <tr>\n      <th>count</th>\n      <td>477.000000</td>\n      <td>477.000000</td>\n      <td>477.000000</td>\n      <td>477.000000</td>\n      <td>477.000000</td>\n      <td>477.000000</td>\n      <td>477.000000</td>\n    </tr>\n    <tr>\n      <th>mean</th>\n      <td>66.463312</td>\n      <td>0.195514</td>\n      <td>0.662675</td>\n      <td>0.559371</td>\n      <td>-8.084323</td>\n      <td>120.606354</td>\n      <td>0.359821</td>\n    </tr>\n    <tr>\n      <th>std</th>\n      <td>6.931630</td>\n      <td>0.222539</td>\n      <td>0.150277</td>\n      <td>0.174738</td>\n      <td>2.620956</td>\n      <td>31.992661</td>\n      <td>0.195109</td>\n    </tr>\n    <tr>\n      <th>min</th>\n      <td>50.000000</td>\n      <td>0.000052</td>\n      <td>0.333000</td>\n      <td>0.172000</td>\n      <td>-17.341000</td>\n      <td>65.041000</td>\n      <td>0.037100</td>\n    </tr>\n    <tr>\n      <th>25%</th>\n      <td>62.000000</td>\n      <td>0.031900</td>\n      <td>0.556000</td>\n      <td>0.445000</td>\n      <td>-9.523000</td>\n      <td>94.542000</td>\n      <td>0.221000</td>\n    </tr>\n    <tr>\n      <th>50%</th>\n      <td>66.000000</td>\n      <td>0.102000</td>\n      <td>0.669000</td>\n      <td>0.543000</td>\n      <td>-8.041000</td>\n      <td>119.917000</td>\n      <td>0.327000</td>\n    </tr>\n    <tr>\n      <th>75%</th>\n      <td>71.000000</td>\n      <td>0.304000</td>\n      <td>0.787000</td>\n      <td>0.690000</td>\n      <td>-6.144000</td>\n      <td>142.072000</td>\n      <td>0.465000</td>\n    </tr>\n    <tr>\n      <th>max</th>\n      <td>89.000000</td>\n      <td>0.939000</td>\n      <td>0.927000</td>\n      <td>0.920000</td>\n      <td>-1.474000</td>\n      <td>201.800000</td>\n      <td>0.952000</td>\n    </tr>\n  </tbody>\n</table>\n</div>",
      "text/plain": "       popularity  acousticness  danceability      energy    loudness  \\\ncount  477.000000    477.000000    477.000000  477.000000  477.000000   \nmean    66.463312      0.195514      0.662675    0.559371   -8.084323   \nstd      6.931630      0.222539      0.150277    0.174738    2.620956   \nmin     50.000000      0.000052      0.333000    0.172000  -17.341000   \n25%     62.000000      0.031900      0.556000    0.445000   -9.523000   \n50%     66.000000      0.102000      0.669000    0.543000   -8.041000   \n75%     71.000000      0.304000      0.787000    0.690000   -6.144000   \nmax     89.000000      0.939000      0.927000    0.920000   -1.474000   \n\n            tempo     valence  \ncount  477.000000  477.000000  \nmean   120.606354    0.359821  \nstd     31.992661    0.195109  \nmin     65.041000    0.037100  \n25%     94.542000    0.221000  \n50%    119.917000    0.327000  \n75%    142.072000    0.465000  \nmax    201.800000    0.952000  "
     },
     "execution_count": 15,
     "metadata": {},
     "output_type": "execute_result"
    }
   ],
   "source": [
    "df_drake.describe()"
   ]
  },
  {
   "cell_type": "code",
   "execution_count": 19,
   "metadata": {},
   "outputs": [],
   "source": [
    "weeknd = df1['artist_name'] == 'The Weeknd'\n",
    "df_weeknd = df1.loc[weeknd]\n",
    "df_weeknd = df_weeknd[['popularity', 'acousticness', 'danceability', 'energy', 'loudness', 'tempo', 'valence']]"
   ]
  },
  {
   "cell_type": "code",
   "execution_count": 20,
   "metadata": {},
   "outputs": [
    {
     "data": {
      "text/html": [
       "<div>\n",
       "<style scoped>\n",
       "    .dataframe tbody tr th:only-of-type {\n",
       "        vertical-align: middle;\n",
       "    }\n",
       "\n",
       "    .dataframe tbody tr th {\n",
       "        vertical-align: top;\n",
       "    }\n",
       "\n",
       "    .dataframe thead th {\n",
       "        text-align: right;\n",
       "    }\n",
       "</style>\n",
       "<table border=\"1\" class=\"dataframe\">\n",
       "  <thead>\n",
       "    <tr style=\"text-align: right;\">\n",
       "      <th></th>\n",
       "      <th>popularity</th>\n",
       "      <th>acousticness</th>\n",
       "      <th>danceability</th>\n",
       "      <th>energy</th>\n",
       "      <th>loudness</th>\n",
       "      <th>tempo</th>\n",
       "      <th>valence</th>\n",
       "    </tr>\n",
       "  </thead>\n",
       "  <tbody>\n",
       "    <tr>\n",
       "      <th>count</th>\n",
       "      <td>218.000000</td>\n",
       "      <td>218.000000</td>\n",
       "      <td>218.000000</td>\n",
       "      <td>218.000000</td>\n",
       "      <td>218.000000</td>\n",
       "      <td>218.000000</td>\n",
       "      <td>218.000000</td>\n",
       "    </tr>\n",
       "    <tr>\n",
       "      <th>mean</th>\n",
       "      <td>66.137615</td>\n",
       "      <td>0.270197</td>\n",
       "      <td>0.584674</td>\n",
       "      <td>0.599986</td>\n",
       "      <td>-7.370271</td>\n",
       "      <td>125.924220</td>\n",
       "      <td>0.332842</td>\n",
       "    </tr>\n",
       "    <tr>\n",
       "      <th>std</th>\n",
       "      <td>8.170948</td>\n",
       "      <td>0.222812</td>\n",
       "      <td>0.115719</td>\n",
       "      <td>0.130828</td>\n",
       "      <td>1.875058</td>\n",
       "      <td>29.475195</td>\n",
       "      <td>0.181950</td>\n",
       "    </tr>\n",
       "    <tr>\n",
       "      <th>min</th>\n",
       "      <td>48.000000</td>\n",
       "      <td>0.004340</td>\n",
       "      <td>0.287000</td>\n",
       "      <td>0.291000</td>\n",
       "      <td>-12.755000</td>\n",
       "      <td>74.809000</td>\n",
       "      <td>0.053900</td>\n",
       "    </tr>\n",
       "    <tr>\n",
       "      <th>25%</th>\n",
       "      <td>60.000000</td>\n",
       "      <td>0.079600</td>\n",
       "      <td>0.505000</td>\n",
       "      <td>0.505000</td>\n",
       "      <td>-8.275000</td>\n",
       "      <td>109.919000</td>\n",
       "      <td>0.188250</td>\n",
       "    </tr>\n",
       "    <tr>\n",
       "      <th>50%</th>\n",
       "      <td>66.000000</td>\n",
       "      <td>0.190000</td>\n",
       "      <td>0.599000</td>\n",
       "      <td>0.624000</td>\n",
       "      <td>-7.209000</td>\n",
       "      <td>120.104000</td>\n",
       "      <td>0.327500</td>\n",
       "    </tr>\n",
       "    <tr>\n",
       "      <th>75%</th>\n",
       "      <td>71.000000</td>\n",
       "      <td>0.426000</td>\n",
       "      <td>0.660000</td>\n",
       "      <td>0.690000</td>\n",
       "      <td>-5.946000</td>\n",
       "      <td>140.035000</td>\n",
       "      <td>0.431750</td>\n",
       "    </tr>\n",
       "    <tr>\n",
       "      <th>max</th>\n",
       "      <td>85.000000</td>\n",
       "      <td>0.913000</td>\n",
       "      <td>0.853000</td>\n",
       "      <td>0.897000</td>\n",
       "      <td>-2.463000</td>\n",
       "      <td>203.585000</td>\n",
       "      <td>0.864000</td>\n",
       "    </tr>\n",
       "  </tbody>\n",
       "</table>\n",
       "</div>"
      ],
      "text/plain": [
       "       popularity  acousticness  danceability      energy    loudness  \\\n",
       "count  218.000000    218.000000    218.000000  218.000000  218.000000   \n",
       "mean    66.137615      0.270197      0.584674    0.599986   -7.370271   \n",
       "std      8.170948      0.222812      0.115719    0.130828    1.875058   \n",
       "min     48.000000      0.004340      0.287000    0.291000  -12.755000   \n",
       "25%     60.000000      0.079600      0.505000    0.505000   -8.275000   \n",
       "50%     66.000000      0.190000      0.599000    0.624000   -7.209000   \n",
       "75%     71.000000      0.426000      0.660000    0.690000   -5.946000   \n",
       "max     85.000000      0.913000      0.853000    0.897000   -2.463000   \n",
       "\n",
       "            tempo     valence  \n",
       "count  218.000000  218.000000  \n",
       "mean   125.924220    0.332842  \n",
       "std     29.475195    0.181950  \n",
       "min     74.809000    0.053900  \n",
       "25%    109.919000    0.188250  \n",
       "50%    120.104000    0.327500  \n",
       "75%    140.035000    0.431750  \n",
       "max    203.585000    0.864000  "
      ]
     },
     "execution_count": 20,
     "metadata": {},
     "output_type": "execute_result"
    }
   ],
   "source": [
    "df_weeknd.describe()"
   ]
  },
  {
   "cell_type": "code",
   "execution_count": 21,
   "metadata": {},
   "outputs": [],
   "source": [
    "ac_dc = df1['artist_name'] == 'AC/DC'\n",
    "df_ac_dc = df1.loc[ac_dc]\n",
    "df_ac_dc = df_ac_dc[['popularity', 'acousticness', 'danceability', 'energy', 'loudness', 'tempo', 'valence']]\n"
   ]
  },
  {
   "cell_type": "code",
   "execution_count": 22,
   "metadata": {},
   "outputs": [
    {
     "data": {
      "text/html": [
       "<div>\n",
       "<style scoped>\n",
       "    .dataframe tbody tr th:only-of-type {\n",
       "        vertical-align: middle;\n",
       "    }\n",
       "\n",
       "    .dataframe tbody tr th {\n",
       "        vertical-align: top;\n",
       "    }\n",
       "\n",
       "    .dataframe thead th {\n",
       "        text-align: right;\n",
       "    }\n",
       "</style>\n",
       "<table border=\"1\" class=\"dataframe\">\n",
       "  <thead>\n",
       "    <tr style=\"text-align: right;\">\n",
       "      <th></th>\n",
       "      <th>popularity</th>\n",
       "      <th>acousticness</th>\n",
       "      <th>danceability</th>\n",
       "      <th>energy</th>\n",
       "      <th>loudness</th>\n",
       "      <th>tempo</th>\n",
       "      <th>valence</th>\n",
       "    </tr>\n",
       "  </thead>\n",
       "  <tbody>\n",
       "    <tr>\n",
       "      <th>count</th>\n",
       "      <td>38.000000</td>\n",
       "      <td>38.000000</td>\n",
       "      <td>38.000000</td>\n",
       "      <td>38.000000</td>\n",
       "      <td>38.000000</td>\n",
       "      <td>38.000000</td>\n",
       "      <td>38.000000</td>\n",
       "    </tr>\n",
       "    <tr>\n",
       "      <th>mean</th>\n",
       "      <td>63.868421</td>\n",
       "      <td>0.041869</td>\n",
       "      <td>0.515868</td>\n",
       "      <td>0.840868</td>\n",
       "      <td>-4.782658</td>\n",
       "      <td>125.949026</td>\n",
       "      <td>0.515421</td>\n",
       "    </tr>\n",
       "    <tr>\n",
       "      <th>std</th>\n",
       "      <td>8.207350</td>\n",
       "      <td>0.085577</td>\n",
       "      <td>0.094285</td>\n",
       "      <td>0.087927</td>\n",
       "      <td>0.799008</td>\n",
       "      <td>19.188680</td>\n",
       "      <td>0.150456</td>\n",
       "    </tr>\n",
       "    <tr>\n",
       "      <th>min</th>\n",
       "      <td>53.000000</td>\n",
       "      <td>0.000048</td>\n",
       "      <td>0.290000</td>\n",
       "      <td>0.635000</td>\n",
       "      <td>-6.326000</td>\n",
       "      <td>91.134000</td>\n",
       "      <td>0.200000</td>\n",
       "    </tr>\n",
       "    <tr>\n",
       "      <th>25%</th>\n",
       "      <td>59.000000</td>\n",
       "      <td>0.001086</td>\n",
       "      <td>0.462500</td>\n",
       "      <td>0.771250</td>\n",
       "      <td>-5.281750</td>\n",
       "      <td>116.768750</td>\n",
       "      <td>0.420500</td>\n",
       "    </tr>\n",
       "    <tr>\n",
       "      <th>50%</th>\n",
       "      <td>62.000000</td>\n",
       "      <td>0.005325</td>\n",
       "      <td>0.528000</td>\n",
       "      <td>0.860500</td>\n",
       "      <td>-4.933000</td>\n",
       "      <td>126.864000</td>\n",
       "      <td>0.501000</td>\n",
       "    </tr>\n",
       "    <tr>\n",
       "      <th>75%</th>\n",
       "      <td>67.250000</td>\n",
       "      <td>0.036600</td>\n",
       "      <td>0.571500</td>\n",
       "      <td>0.905500</td>\n",
       "      <td>-4.314500</td>\n",
       "      <td>135.119500</td>\n",
       "      <td>0.603750</td>\n",
       "    </tr>\n",
       "    <tr>\n",
       "      <th>max</th>\n",
       "      <td>84.000000</td>\n",
       "      <td>0.438000</td>\n",
       "      <td>0.754000</td>\n",
       "      <td>0.978000</td>\n",
       "      <td>-2.356000</td>\n",
       "      <td>188.386000</td>\n",
       "      <td>0.839000</td>\n",
       "    </tr>\n",
       "  </tbody>\n",
       "</table>\n",
       "</div>"
      ],
      "text/plain": [
       "       popularity  acousticness  danceability     energy   loudness  \\\n",
       "count   38.000000     38.000000     38.000000  38.000000  38.000000   \n",
       "mean    63.868421      0.041869      0.515868   0.840868  -4.782658   \n",
       "std      8.207350      0.085577      0.094285   0.087927   0.799008   \n",
       "min     53.000000      0.000048      0.290000   0.635000  -6.326000   \n",
       "25%     59.000000      0.001086      0.462500   0.771250  -5.281750   \n",
       "50%     62.000000      0.005325      0.528000   0.860500  -4.933000   \n",
       "75%     67.250000      0.036600      0.571500   0.905500  -4.314500   \n",
       "max     84.000000      0.438000      0.754000   0.978000  -2.356000   \n",
       "\n",
       "            tempo    valence  \n",
       "count   38.000000  38.000000  \n",
       "mean   125.949026   0.515421  \n",
       "std     19.188680   0.150456  \n",
       "min     91.134000   0.200000  \n",
       "25%    116.768750   0.420500  \n",
       "50%    126.864000   0.501000  \n",
       "75%    135.119500   0.603750  \n",
       "max    188.386000   0.839000  "
      ]
     },
     "execution_count": 22,
     "metadata": {},
     "output_type": "execute_result"
    }
   ],
   "source": [
    "df_ac_dc.describe()"
   ]
  },
  {
   "cell_type": "markdown",
   "metadata": {},
   "source": [
    "# Comparing Genres"
   ]
  },
  {
   "cell_type": "code",
   "execution_count": 23,
   "metadata": {},
   "outputs": [
    {
     "data": {
      "text/html": [
       "<div>\n",
       "<style scoped>\n",
       "    .dataframe tbody tr th:only-of-type {\n",
       "        vertical-align: middle;\n",
       "    }\n",
       "\n",
       "    .dataframe tbody tr th {\n",
       "        vertical-align: top;\n",
       "    }\n",
       "\n",
       "    .dataframe thead th {\n",
       "        text-align: right;\n",
       "    }\n",
       "</style>\n",
       "<table border=\"1\" class=\"dataframe\">\n",
       "  <thead>\n",
       "    <tr style=\"text-align: right;\">\n",
       "      <th></th>\n",
       "      <th>genre</th>\n",
       "      <th>artist_name</th>\n",
       "      <th>track_name</th>\n",
       "      <th>track_id</th>\n",
       "      <th>popularity</th>\n",
       "      <th>acousticness</th>\n",
       "      <th>danceability</th>\n",
       "      <th>duration_ms</th>\n",
       "      <th>energy</th>\n",
       "      <th>instrumentalness</th>\n",
       "      <th>liveness</th>\n",
       "      <th>loudness</th>\n",
       "      <th>speechiness</th>\n",
       "      <th>tempo</th>\n",
       "      <th>valence</th>\n",
       "    </tr>\n",
       "  </thead>\n",
       "  <tbody>\n",
       "    <tr>\n",
       "      <th>0</th>\n",
       "      <td>Movie</td>\n",
       "      <td>Henri Salvador</td>\n",
       "      <td>C'est beau de faire un Show</td>\n",
       "      <td>0BRjO6ga9RKCKjfDqeFgWV</td>\n",
       "      <td>0</td>\n",
       "      <td>0.611</td>\n",
       "      <td>0.389</td>\n",
       "      <td>99373</td>\n",
       "      <td>0.910</td>\n",
       "      <td>0.000</td>\n",
       "      <td>0.3460</td>\n",
       "      <td>-1.828</td>\n",
       "      <td>0.0525</td>\n",
       "      <td>166.969</td>\n",
       "      <td>0.814</td>\n",
       "    </tr>\n",
       "    <tr>\n",
       "      <th>1</th>\n",
       "      <td>Movie</td>\n",
       "      <td>Martin &amp; les fées</td>\n",
       "      <td>Perdu d'avance (par Gad Elmaleh)</td>\n",
       "      <td>0BjC1NfoEOOusryehmNudP</td>\n",
       "      <td>1</td>\n",
       "      <td>0.246</td>\n",
       "      <td>0.590</td>\n",
       "      <td>137373</td>\n",
       "      <td>0.737</td>\n",
       "      <td>0.000</td>\n",
       "      <td>0.1510</td>\n",
       "      <td>-5.559</td>\n",
       "      <td>0.0868</td>\n",
       "      <td>174.003</td>\n",
       "      <td>0.816</td>\n",
       "    </tr>\n",
       "    <tr>\n",
       "      <th>2</th>\n",
       "      <td>Movie</td>\n",
       "      <td>Joseph Williams</td>\n",
       "      <td>Don't Let Me Be Lonely Tonight</td>\n",
       "      <td>0CoSDzoNIKCRs124s9uTVy</td>\n",
       "      <td>3</td>\n",
       "      <td>0.952</td>\n",
       "      <td>0.663</td>\n",
       "      <td>170267</td>\n",
       "      <td>0.131</td>\n",
       "      <td>0.000</td>\n",
       "      <td>0.1030</td>\n",
       "      <td>-13.879</td>\n",
       "      <td>0.0362</td>\n",
       "      <td>99.488</td>\n",
       "      <td>0.368</td>\n",
       "    </tr>\n",
       "    <tr>\n",
       "      <th>3</th>\n",
       "      <td>Movie</td>\n",
       "      <td>Henri Salvador</td>\n",
       "      <td>Dis-moi Monsieur Gordon Cooper</td>\n",
       "      <td>0Gc6TVm52BwZD07Ki6tIvf</td>\n",
       "      <td>0</td>\n",
       "      <td>0.703</td>\n",
       "      <td>0.240</td>\n",
       "      <td>152427</td>\n",
       "      <td>0.326</td>\n",
       "      <td>0.000</td>\n",
       "      <td>0.0985</td>\n",
       "      <td>-12.178</td>\n",
       "      <td>0.0395</td>\n",
       "      <td>171.758</td>\n",
       "      <td>0.227</td>\n",
       "    </tr>\n",
       "    <tr>\n",
       "      <th>4</th>\n",
       "      <td>Movie</td>\n",
       "      <td>Fabien Nataf</td>\n",
       "      <td>Ouverture</td>\n",
       "      <td>0IuslXpMROHdEPvSl1fTQK</td>\n",
       "      <td>4</td>\n",
       "      <td>0.950</td>\n",
       "      <td>0.331</td>\n",
       "      <td>82625</td>\n",
       "      <td>0.225</td>\n",
       "      <td>0.123</td>\n",
       "      <td>0.2020</td>\n",
       "      <td>-21.150</td>\n",
       "      <td>0.0456</td>\n",
       "      <td>140.576</td>\n",
       "      <td>0.390</td>\n",
       "    </tr>\n",
       "  </tbody>\n",
       "</table>\n",
       "</div>"
      ],
      "text/plain": [
       "   genre        artist_name                        track_name  \\\n",
       "0  Movie     Henri Salvador       C'est beau de faire un Show   \n",
       "1  Movie  Martin & les fées  Perdu d'avance (par Gad Elmaleh)   \n",
       "2  Movie    Joseph Williams    Don't Let Me Be Lonely Tonight   \n",
       "3  Movie     Henri Salvador    Dis-moi Monsieur Gordon Cooper   \n",
       "4  Movie       Fabien Nataf                         Ouverture   \n",
       "\n",
       "                 track_id  popularity  acousticness  danceability  \\\n",
       "0  0BRjO6ga9RKCKjfDqeFgWV           0         0.611         0.389   \n",
       "1  0BjC1NfoEOOusryehmNudP           1         0.246         0.590   \n",
       "2  0CoSDzoNIKCRs124s9uTVy           3         0.952         0.663   \n",
       "3  0Gc6TVm52BwZD07Ki6tIvf           0         0.703         0.240   \n",
       "4  0IuslXpMROHdEPvSl1fTQK           4         0.950         0.331   \n",
       "\n",
       "   duration_ms  energy  instrumentalness  liveness  loudness  speechiness  \\\n",
       "0        99373   0.910             0.000    0.3460    -1.828       0.0525   \n",
       "1       137373   0.737             0.000    0.1510    -5.559       0.0868   \n",
       "2       170267   0.131             0.000    0.1030   -13.879       0.0362   \n",
       "3       152427   0.326             0.000    0.0985   -12.178       0.0395   \n",
       "4        82625   0.225             0.123    0.2020   -21.150       0.0456   \n",
       "\n",
       "     tempo  valence  \n",
       "0  166.969    0.814  \n",
       "1  174.003    0.816  \n",
       "2   99.488    0.368  \n",
       "3  171.758    0.227  \n",
       "4  140.576    0.390  "
      ]
     },
     "execution_count": 23,
     "metadata": {},
     "output_type": "execute_result"
    }
   ],
   "source": [
    "df1.head()"
   ]
  },
  {
   "cell_type": "code",
   "execution_count": 24,
   "metadata": {},
   "outputs": [
    {
     "data": {
      "text/plain": [
       "array(['Movie', 'R&B', 'A Capella', 'Alternative', 'Country', 'Dance',\n",
       "       'Electronic', 'Anime', 'Folk', 'Blues', 'Opera', 'Hip-Hop',\n",
       "       \"Children's Music\", 'Children’s Music', 'Rap', 'Indie',\n",
       "       'Classical', 'Pop', 'Reggae', 'Reggaeton', 'Jazz', 'Rock', 'Ska',\n",
       "       'Comedy', 'Soul', 'Soundtrack', 'World'], dtype=object)"
      ]
     },
     "execution_count": 24,
     "metadata": {},
     "output_type": "execute_result"
    }
   ],
   "source": [
    "df1.genre.unique()"
   ]
  },
  {
   "cell_type": "code",
   "execution_count": 25,
   "metadata": {},
   "outputs": [],
   "source": [
    "rock = df1['genre'] == 'Rock'\n",
    "df_rock = df1.loc[rock]\n",
    "df_rock = df_rock[['popularity', 'acousticness', 'danceability', 'energy', 'loudness', 'tempo', 'valence']]\n"
   ]
  },
  {
   "cell_type": "code",
   "execution_count": 26,
   "metadata": {},
   "outputs": [
    {
     "data": {
      "text/plain": [
       "popularity       59.619392\n",
       "acousticness      0.196429\n",
       "danceability      0.538292\n",
       "energy            0.683670\n",
       "loudness         -7.285875\n",
       "tempo           122.629630\n",
       "valence           0.517113\n",
       "dtype: float64"
      ]
     },
     "execution_count": 26,
     "metadata": {},
     "output_type": "execute_result"
    }
   ],
   "source": [
    "df_rock.mean()"
   ]
  },
  {
   "cell_type": "code",
   "execution_count": 27,
   "metadata": {},
   "outputs": [],
   "source": [
    "pop = df1['genre'] == 'Pop'\n",
    "df_pop = df1.loc[pop]\n",
    "df_pop = df_pop[['popularity', 'acousticness', 'danceability', 'energy', 'loudness', 'tempo', 'valence']]\n"
   ]
  },
  {
   "cell_type": "code",
   "execution_count": 28,
   "metadata": {},
   "outputs": [
    {
     "data": {
      "text/plain": [
       "popularity       66.590667\n",
       "acousticness      0.224819\n",
       "danceability      0.640236\n",
       "energy            0.642208\n",
       "loudness         -6.495423\n",
       "tempo           121.175844\n",
       "valence           0.481371\n",
       "dtype: float64"
      ]
     },
     "execution_count": 28,
     "metadata": {},
     "output_type": "execute_result"
    }
   ],
   "source": [
    "df_pop.mean()"
   ]
  },
  {
   "cell_type": "markdown",
   "metadata": {},
   "source": [
    "# Creating a boringness metric"
   ]
  },
  {
   "cell_type": "code",
   "execution_count": 29,
   "metadata": {},
   "outputs": [],
   "source": [
    "# boringness = loudness + tempo + (energy*100) + (danceability*100)\n",
    "\n",
    "df1['boringness'] = round(df1['loudness'] + df1['tempo'] + (df1['energy'] * 100) + (df1['danceability'] * 100),-1)\n"
   ]
  },
  {
   "cell_type": "code",
   "execution_count": 30,
   "metadata": {},
   "outputs": [
    {
     "data": {
      "text/html": [
       "<div>\n",
       "<style scoped>\n",
       "    .dataframe tbody tr th:only-of-type {\n",
       "        vertical-align: middle;\n",
       "    }\n",
       "\n",
       "    .dataframe tbody tr th {\n",
       "        vertical-align: top;\n",
       "    }\n",
       "\n",
       "    .dataframe thead th {\n",
       "        text-align: right;\n",
       "    }\n",
       "</style>\n",
       "<table border=\"1\" class=\"dataframe\">\n",
       "  <thead>\n",
       "    <tr style=\"text-align: right;\">\n",
       "      <th></th>\n",
       "      <th>genre</th>\n",
       "      <th>artist_name</th>\n",
       "      <th>track_name</th>\n",
       "      <th>track_id</th>\n",
       "      <th>popularity</th>\n",
       "      <th>acousticness</th>\n",
       "      <th>danceability</th>\n",
       "      <th>duration_ms</th>\n",
       "      <th>energy</th>\n",
       "      <th>instrumentalness</th>\n",
       "      <th>liveness</th>\n",
       "      <th>loudness</th>\n",
       "      <th>speechiness</th>\n",
       "      <th>tempo</th>\n",
       "      <th>valence</th>\n",
       "      <th>boringness</th>\n",
       "    </tr>\n",
       "  </thead>\n",
       "  <tbody>\n",
       "    <tr>\n",
       "      <th>0</th>\n",
       "      <td>Movie</td>\n",
       "      <td>Henri Salvador</td>\n",
       "      <td>C'est beau de faire un Show</td>\n",
       "      <td>0BRjO6ga9RKCKjfDqeFgWV</td>\n",
       "      <td>0</td>\n",
       "      <td>0.611</td>\n",
       "      <td>0.389</td>\n",
       "      <td>99373</td>\n",
       "      <td>0.910</td>\n",
       "      <td>0.000</td>\n",
       "      <td>0.3460</td>\n",
       "      <td>-1.828</td>\n",
       "      <td>0.0525</td>\n",
       "      <td>166.969</td>\n",
       "      <td>0.814</td>\n",
       "      <td>300.0</td>\n",
       "    </tr>\n",
       "    <tr>\n",
       "      <th>1</th>\n",
       "      <td>Movie</td>\n",
       "      <td>Martin &amp; les fées</td>\n",
       "      <td>Perdu d'avance (par Gad Elmaleh)</td>\n",
       "      <td>0BjC1NfoEOOusryehmNudP</td>\n",
       "      <td>1</td>\n",
       "      <td>0.246</td>\n",
       "      <td>0.590</td>\n",
       "      <td>137373</td>\n",
       "      <td>0.737</td>\n",
       "      <td>0.000</td>\n",
       "      <td>0.1510</td>\n",
       "      <td>-5.559</td>\n",
       "      <td>0.0868</td>\n",
       "      <td>174.003</td>\n",
       "      <td>0.816</td>\n",
       "      <td>300.0</td>\n",
       "    </tr>\n",
       "    <tr>\n",
       "      <th>2</th>\n",
       "      <td>Movie</td>\n",
       "      <td>Joseph Williams</td>\n",
       "      <td>Don't Let Me Be Lonely Tonight</td>\n",
       "      <td>0CoSDzoNIKCRs124s9uTVy</td>\n",
       "      <td>3</td>\n",
       "      <td>0.952</td>\n",
       "      <td>0.663</td>\n",
       "      <td>170267</td>\n",
       "      <td>0.131</td>\n",
       "      <td>0.000</td>\n",
       "      <td>0.1030</td>\n",
       "      <td>-13.879</td>\n",
       "      <td>0.0362</td>\n",
       "      <td>99.488</td>\n",
       "      <td>0.368</td>\n",
       "      <td>170.0</td>\n",
       "    </tr>\n",
       "    <tr>\n",
       "      <th>3</th>\n",
       "      <td>Movie</td>\n",
       "      <td>Henri Salvador</td>\n",
       "      <td>Dis-moi Monsieur Gordon Cooper</td>\n",
       "      <td>0Gc6TVm52BwZD07Ki6tIvf</td>\n",
       "      <td>0</td>\n",
       "      <td>0.703</td>\n",
       "      <td>0.240</td>\n",
       "      <td>152427</td>\n",
       "      <td>0.326</td>\n",
       "      <td>0.000</td>\n",
       "      <td>0.0985</td>\n",
       "      <td>-12.178</td>\n",
       "      <td>0.0395</td>\n",
       "      <td>171.758</td>\n",
       "      <td>0.227</td>\n",
       "      <td>220.0</td>\n",
       "    </tr>\n",
       "    <tr>\n",
       "      <th>4</th>\n",
       "      <td>Movie</td>\n",
       "      <td>Fabien Nataf</td>\n",
       "      <td>Ouverture</td>\n",
       "      <td>0IuslXpMROHdEPvSl1fTQK</td>\n",
       "      <td>4</td>\n",
       "      <td>0.950</td>\n",
       "      <td>0.331</td>\n",
       "      <td>82625</td>\n",
       "      <td>0.225</td>\n",
       "      <td>0.123</td>\n",
       "      <td>0.2020</td>\n",
       "      <td>-21.150</td>\n",
       "      <td>0.0456</td>\n",
       "      <td>140.576</td>\n",
       "      <td>0.390</td>\n",
       "      <td>180.0</td>\n",
       "    </tr>\n",
       "  </tbody>\n",
       "</table>\n",
       "</div>"
      ],
      "text/plain": [
       "   genre        artist_name                        track_name  \\\n",
       "0  Movie     Henri Salvador       C'est beau de faire un Show   \n",
       "1  Movie  Martin & les fées  Perdu d'avance (par Gad Elmaleh)   \n",
       "2  Movie    Joseph Williams    Don't Let Me Be Lonely Tonight   \n",
       "3  Movie     Henri Salvador    Dis-moi Monsieur Gordon Cooper   \n",
       "4  Movie       Fabien Nataf                         Ouverture   \n",
       "\n",
       "                 track_id  popularity  acousticness  danceability  \\\n",
       "0  0BRjO6ga9RKCKjfDqeFgWV           0         0.611         0.389   \n",
       "1  0BjC1NfoEOOusryehmNudP           1         0.246         0.590   \n",
       "2  0CoSDzoNIKCRs124s9uTVy           3         0.952         0.663   \n",
       "3  0Gc6TVm52BwZD07Ki6tIvf           0         0.703         0.240   \n",
       "4  0IuslXpMROHdEPvSl1fTQK           4         0.950         0.331   \n",
       "\n",
       "   duration_ms  energy  instrumentalness  liveness  loudness  speechiness  \\\n",
       "0        99373   0.910             0.000    0.3460    -1.828       0.0525   \n",
       "1       137373   0.737             0.000    0.1510    -5.559       0.0868   \n",
       "2       170267   0.131             0.000    0.1030   -13.879       0.0362   \n",
       "3       152427   0.326             0.000    0.0985   -12.178       0.0395   \n",
       "4        82625   0.225             0.123    0.2020   -21.150       0.0456   \n",
       "\n",
       "     tempo  valence  boringness  \n",
       "0  166.969    0.814       300.0  \n",
       "1  174.003    0.816       300.0  \n",
       "2   99.488    0.368       170.0  \n",
       "3  171.758    0.227       220.0  \n",
       "4  140.576    0.390       180.0  "
      ]
     },
     "execution_count": 30,
     "metadata": {},
     "output_type": "execute_result"
    }
   ],
   "source": [
    "df1.head()"
   ]
  },
  {
   "cell_type": "code",
   "execution_count": 80,
   "metadata": {},
   "outputs": [],
   "source": [
    "df_boring = df1.to_csv('/Users/yazanmasarweh/Desktop/IronHack/Bootcamp/Module_1/Project-Week-3/boringness.csv')"
   ]
  },
  {
   "cell_type": "markdown",
   "metadata": {},
   "source": [
    "# Combining Kevin's csvs by country\n"
   ]
  },
  {
   "cell_type": "code",
   "execution_count": 31,
   "metadata": {},
   "outputs": [],
   "source": [
    "df_jordan = pd.read_csv('/Users/yazanmasarweh/Desktop/IronHack/Bootcamp/Module_1/Project-Week-3/datasets/kevin/top_artist_jordan.csv')"
   ]
  },
  {
   "cell_type": "code",
   "execution_count": 32,
   "metadata": {},
   "outputs": [],
   "source": [
    "df_cuba = pd.read_csv('/Users/yazanmasarweh/Desktop/IronHack/Bootcamp/Module_1/Project-Week-3/datasets/kevin/top_artist_cuba.csv')"
   ]
  },
  {
   "cell_type": "code",
   "execution_count": 33,
   "metadata": {},
   "outputs": [],
   "source": [
    "df_australia = pd.read_csv('/Users/yazanmasarweh/Desktop/IronHack/Bootcamp/Module_1/Project-Week-3/datasets/kevin/top_artist_australia.csv')"
   ]
  },
  {
   "cell_type": "code",
   "execution_count": 34,
   "metadata": {},
   "outputs": [],
   "source": [
    "df_netherlands = pd.read_csv('/Users/yazanmasarweh/Desktop/IronHack/Bootcamp/Module_1/Project-Week-3/datasets/kevin/top_artist_netherlands.csv')"
   ]
  },
  {
   "cell_type": "code",
   "execution_count": 35,
   "metadata": {},
   "outputs": [],
   "source": [
    "df_spain = pd.read_csv('/Users/yazanmasarweh/Desktop/IronHack/Bootcamp/Module_1/Project-Week-3/datasets/kevin/top_artist_spain.csv')"
   ]
  },
  {
   "cell_type": "code",
   "execution_count": 36,
   "metadata": {},
   "outputs": [],
   "source": [
    "df_switzerland = pd.read_csv('/Users/yazanmasarweh/Desktop/IronHack/Bootcamp/Module_1/Project-Week-3/datasets/kevin/top_artist_switzerland.csv')"
   ]
  },
  {
   "cell_type": "code",
   "execution_count": 37,
   "metadata": {},
   "outputs": [],
   "source": [
    "df_zimbabwe = pd.read_csv('/Users/yazanmasarweh/Desktop/IronHack/Bootcamp/Module_1/Project-Week-3/datasets/kevin/top_artist_zimbabwe.csv')"
   ]
  },
  {
   "cell_type": "code",
   "execution_count": 38,
   "metadata": {},
   "outputs": [
    {
     "data": {
      "text/html": [
       "<div>\n",
       "<style scoped>\n",
       "    .dataframe tbody tr th:only-of-type {\n",
       "        vertical-align: middle;\n",
       "    }\n",
       "\n",
       "    .dataframe tbody tr th {\n",
       "        vertical-align: top;\n",
       "    }\n",
       "\n",
       "    .dataframe thead th {\n",
       "        text-align: right;\n",
       "    }\n",
       "</style>\n",
       "<table border=\"1\" class=\"dataframe\">\n",
       "  <thead>\n",
       "    <tr style=\"text-align: right;\">\n",
       "      <th></th>\n",
       "      <th>Unnamed: 0</th>\n",
       "      <th>rank</th>\n",
       "      <th>artist</th>\n",
       "      <th>country</th>\n",
       "    </tr>\n",
       "  </thead>\n",
       "  <tbody>\n",
       "    <tr>\n",
       "      <th>0</th>\n",
       "      <td>0</td>\n",
       "      <td>1</td>\n",
       "      <td>Lana Del Rey</td>\n",
       "      <td>Jordan</td>\n",
       "    </tr>\n",
       "    <tr>\n",
       "      <th>1</th>\n",
       "      <td>1</td>\n",
       "      <td>2</td>\n",
       "      <td>Pink Floyd</td>\n",
       "      <td>Jordan</td>\n",
       "    </tr>\n",
       "    <tr>\n",
       "      <th>2</th>\n",
       "      <td>2</td>\n",
       "      <td>3</td>\n",
       "      <td>Queen</td>\n",
       "      <td>Jordan</td>\n",
       "    </tr>\n",
       "    <tr>\n",
       "      <th>3</th>\n",
       "      <td>3</td>\n",
       "      <td>4</td>\n",
       "      <td>Coldplay</td>\n",
       "      <td>Jordan</td>\n",
       "    </tr>\n",
       "    <tr>\n",
       "      <th>4</th>\n",
       "      <td>4</td>\n",
       "      <td>5</td>\n",
       "      <td>The Weeknd</td>\n",
       "      <td>Jordan</td>\n",
       "    </tr>\n",
       "    <tr>\n",
       "      <th>...</th>\n",
       "      <td>...</td>\n",
       "      <td>...</td>\n",
       "      <td>...</td>\n",
       "      <td>...</td>\n",
       "    </tr>\n",
       "    <tr>\n",
       "      <th>45</th>\n",
       "      <td>45</td>\n",
       "      <td>46</td>\n",
       "      <td>Twenty One Pilots</td>\n",
       "      <td>Zimbabwe</td>\n",
       "    </tr>\n",
       "    <tr>\n",
       "      <th>46</th>\n",
       "      <td>46</td>\n",
       "      <td>47</td>\n",
       "      <td>Snow Patrol</td>\n",
       "      <td>Zimbabwe</td>\n",
       "    </tr>\n",
       "    <tr>\n",
       "      <th>47</th>\n",
       "      <td>47</td>\n",
       "      <td>48</td>\n",
       "      <td>P!nk</td>\n",
       "      <td>Zimbabwe</td>\n",
       "    </tr>\n",
       "    <tr>\n",
       "      <th>48</th>\n",
       "      <td>48</td>\n",
       "      <td>49</td>\n",
       "      <td>Elvis Presley</td>\n",
       "      <td>Zimbabwe</td>\n",
       "    </tr>\n",
       "    <tr>\n",
       "      <th>49</th>\n",
       "      <td>49</td>\n",
       "      <td>50</td>\n",
       "      <td>The Beach Boys</td>\n",
       "      <td>Zimbabwe</td>\n",
       "    </tr>\n",
       "  </tbody>\n",
       "</table>\n",
       "<p>350 rows × 4 columns</p>\n",
       "</div>"
      ],
      "text/plain": [
       "    Unnamed: 0  rank             artist   country\n",
       "0            0     1       Lana Del Rey    Jordan\n",
       "1            1     2         Pink Floyd    Jordan\n",
       "2            2     3              Queen    Jordan\n",
       "3            3     4           Coldplay    Jordan\n",
       "4            4     5         The Weeknd    Jordan\n",
       "..         ...   ...                ...       ...\n",
       "45          45    46  Twenty One Pilots  Zimbabwe\n",
       "46          46    47        Snow Patrol  Zimbabwe\n",
       "47          47    48               P!nk  Zimbabwe\n",
       "48          48    49      Elvis Presley  Zimbabwe\n",
       "49          49    50     The Beach Boys  Zimbabwe\n",
       "\n",
       "[350 rows x 4 columns]"
      ]
     },
     "execution_count": 38,
     "metadata": {},
     "output_type": "execute_result"
    }
   ],
   "source": [
    "df_countries = pd.concat([df_jordan, df_cuba, df_australia, df_netherlands, df_spain, df_switzerland, df_zimbabwe])\n",
    "df_countries"
   ]
  },
  {
   "cell_type": "code",
   "execution_count": 37,
   "metadata": {},
   "outputs": [],
   "source": [
    "df_countires = df_countries.to_csv('/Users/yazanmasarweh/Desktop/IronHack/Bootcamp/Module_1/Project-Week-3/datasets/country_chart.csv')"
   ]
  },
  {
   "cell_type": "code",
   "execution_count": 39,
   "metadata": {},
   "outputs": [],
   "source": [
    "lana_del_rey = df1['artist_name'] == 'Lana Del Rey'\n",
    "df_lana = df1.loc[lana_del_rey]\n",
    "df_lana = df_lana[['popularity', 'acousticness', 'danceability', 'energy', 'loudness', 'tempo', 'valence']]"
   ]
  },
  {
   "cell_type": "code",
   "execution_count": 40,
   "metadata": {},
   "outputs": [
    {
     "data": {
      "text/html": [
       "<div>\n",
       "<style scoped>\n",
       "    .dataframe tbody tr th:only-of-type {\n",
       "        vertical-align: middle;\n",
       "    }\n",
       "\n",
       "    .dataframe tbody tr th {\n",
       "        vertical-align: top;\n",
       "    }\n",
       "\n",
       "    .dataframe thead th {\n",
       "        text-align: right;\n",
       "    }\n",
       "</style>\n",
       "<table border=\"1\" class=\"dataframe\">\n",
       "  <thead>\n",
       "    <tr style=\"text-align: right;\">\n",
       "      <th></th>\n",
       "      <th>popularity</th>\n",
       "      <th>acousticness</th>\n",
       "      <th>danceability</th>\n",
       "      <th>energy</th>\n",
       "      <th>loudness</th>\n",
       "      <th>tempo</th>\n",
       "      <th>valence</th>\n",
       "    </tr>\n",
       "  </thead>\n",
       "  <tbody>\n",
       "    <tr>\n",
       "      <th>count</th>\n",
       "      <td>82.000000</td>\n",
       "      <td>82.000000</td>\n",
       "      <td>82.000000</td>\n",
       "      <td>82.000000</td>\n",
       "      <td>82.000000</td>\n",
       "      <td>82.000000</td>\n",
       "      <td>82.000000</td>\n",
       "    </tr>\n",
       "    <tr>\n",
       "      <th>mean</th>\n",
       "      <td>61.036585</td>\n",
       "      <td>0.290019</td>\n",
       "      <td>0.482512</td>\n",
       "      <td>0.625744</td>\n",
       "      <td>-7.293402</td>\n",
       "      <td>119.154280</td>\n",
       "      <td>0.275154</td>\n",
       "    </tr>\n",
       "    <tr>\n",
       "      <th>std</th>\n",
       "      <td>6.397232</td>\n",
       "      <td>0.221242</td>\n",
       "      <td>0.115694</td>\n",
       "      <td>0.141052</td>\n",
       "      <td>1.737262</td>\n",
       "      <td>29.534215</td>\n",
       "      <td>0.155023</td>\n",
       "    </tr>\n",
       "    <tr>\n",
       "      <th>min</th>\n",
       "      <td>45.000000</td>\n",
       "      <td>0.001930</td>\n",
       "      <td>0.205000</td>\n",
       "      <td>0.284000</td>\n",
       "      <td>-11.487000</td>\n",
       "      <td>65.627000</td>\n",
       "      <td>0.037900</td>\n",
       "    </tr>\n",
       "    <tr>\n",
       "      <th>25%</th>\n",
       "      <td>56.250000</td>\n",
       "      <td>0.091625</td>\n",
       "      <td>0.385750</td>\n",
       "      <td>0.529000</td>\n",
       "      <td>-8.526000</td>\n",
       "      <td>99.931750</td>\n",
       "      <td>0.143250</td>\n",
       "    </tr>\n",
       "    <tr>\n",
       "      <th>50%</th>\n",
       "      <td>61.000000</td>\n",
       "      <td>0.257000</td>\n",
       "      <td>0.514500</td>\n",
       "      <td>0.639500</td>\n",
       "      <td>-7.132500</td>\n",
       "      <td>116.031000</td>\n",
       "      <td>0.235000</td>\n",
       "    </tr>\n",
       "    <tr>\n",
       "      <th>75%</th>\n",
       "      <td>65.750000</td>\n",
       "      <td>0.486250</td>\n",
       "      <td>0.557000</td>\n",
       "      <td>0.696000</td>\n",
       "      <td>-5.949000</td>\n",
       "      <td>131.988000</td>\n",
       "      <td>0.409500</td>\n",
       "    </tr>\n",
       "    <tr>\n",
       "      <th>max</th>\n",
       "      <td>74.000000</td>\n",
       "      <td>0.834000</td>\n",
       "      <td>0.760000</td>\n",
       "      <td>0.946000</td>\n",
       "      <td>-3.821000</td>\n",
       "      <td>203.944000</td>\n",
       "      <td>0.668000</td>\n",
       "    </tr>\n",
       "  </tbody>\n",
       "</table>\n",
       "</div>"
      ],
      "text/plain": [
       "       popularity  acousticness  danceability     energy   loudness  \\\n",
       "count   82.000000     82.000000     82.000000  82.000000  82.000000   \n",
       "mean    61.036585      0.290019      0.482512   0.625744  -7.293402   \n",
       "std      6.397232      0.221242      0.115694   0.141052   1.737262   \n",
       "min     45.000000      0.001930      0.205000   0.284000 -11.487000   \n",
       "25%     56.250000      0.091625      0.385750   0.529000  -8.526000   \n",
       "50%     61.000000      0.257000      0.514500   0.639500  -7.132500   \n",
       "75%     65.750000      0.486250      0.557000   0.696000  -5.949000   \n",
       "max     74.000000      0.834000      0.760000   0.946000  -3.821000   \n",
       "\n",
       "            tempo    valence  \n",
       "count   82.000000  82.000000  \n",
       "mean   119.154280   0.275154  \n",
       "std     29.534215   0.155023  \n",
       "min     65.627000   0.037900  \n",
       "25%     99.931750   0.143250  \n",
       "50%    116.031000   0.235000  \n",
       "75%    131.988000   0.409500  \n",
       "max    203.944000   0.668000  "
      ]
     },
     "execution_count": 40,
     "metadata": {},
     "output_type": "execute_result"
    }
   ],
   "source": [
    "df_lana.describe()"
   ]
  },
  {
   "cell_type": "code",
   "execution_count": 41,
   "metadata": {},
   "outputs": [],
   "source": [
    "radiohead = df1['artist_name'] == 'Radiohead'\n",
    "df_radiohead = df1.loc[radiohead]\n",
    "df_radiohead = df_radiohead[['popularity', 'acousticness', 'danceability', 'energy', 'loudness', 'tempo', 'valence']]"
   ]
  },
  {
   "cell_type": "code",
   "execution_count": 42,
   "metadata": {},
   "outputs": [
    {
     "data": {
      "text/html": [
       "<div>\n",
       "<style scoped>\n",
       "    .dataframe tbody tr th:only-of-type {\n",
       "        vertical-align: middle;\n",
       "    }\n",
       "\n",
       "    .dataframe tbody tr th {\n",
       "        vertical-align: top;\n",
       "    }\n",
       "\n",
       "    .dataframe thead th {\n",
       "        text-align: right;\n",
       "    }\n",
       "</style>\n",
       "<table border=\"1\" class=\"dataframe\">\n",
       "  <thead>\n",
       "    <tr style=\"text-align: right;\">\n",
       "      <th></th>\n",
       "      <th>popularity</th>\n",
       "      <th>acousticness</th>\n",
       "      <th>danceability</th>\n",
       "      <th>energy</th>\n",
       "      <th>loudness</th>\n",
       "      <th>tempo</th>\n",
       "      <th>valence</th>\n",
       "    </tr>\n",
       "  </thead>\n",
       "  <tbody>\n",
       "    <tr>\n",
       "      <th>count</th>\n",
       "      <td>211.000000</td>\n",
       "      <td>211.000000</td>\n",
       "      <td>211.000000</td>\n",
       "      <td>211.000000</td>\n",
       "      <td>211.000000</td>\n",
       "      <td>211.000000</td>\n",
       "      <td>211.000000</td>\n",
       "    </tr>\n",
       "    <tr>\n",
       "      <th>mean</th>\n",
       "      <td>58.563981</td>\n",
       "      <td>0.308520</td>\n",
       "      <td>0.416825</td>\n",
       "      <td>0.562019</td>\n",
       "      <td>-9.558810</td>\n",
       "      <td>121.724327</td>\n",
       "      <td>0.317575</td>\n",
       "    </tr>\n",
       "    <tr>\n",
       "      <th>std</th>\n",
       "      <td>6.804021</td>\n",
       "      <td>0.323248</td>\n",
       "      <td>0.151668</td>\n",
       "      <td>0.221608</td>\n",
       "      <td>2.498156</td>\n",
       "      <td>29.998925</td>\n",
       "      <td>0.221304</td>\n",
       "    </tr>\n",
       "    <tr>\n",
       "      <th>min</th>\n",
       "      <td>46.000000</td>\n",
       "      <td>0.000124</td>\n",
       "      <td>0.127000</td>\n",
       "      <td>0.128000</td>\n",
       "      <td>-17.536000</td>\n",
       "      <td>58.993000</td>\n",
       "      <td>0.037900</td>\n",
       "    </tr>\n",
       "    <tr>\n",
       "      <th>25%</th>\n",
       "      <td>54.000000</td>\n",
       "      <td>0.048900</td>\n",
       "      <td>0.293000</td>\n",
       "      <td>0.393000</td>\n",
       "      <td>-11.195000</td>\n",
       "      <td>91.910000</td>\n",
       "      <td>0.145000</td>\n",
       "    </tr>\n",
       "    <tr>\n",
       "      <th>50%</th>\n",
       "      <td>58.000000</td>\n",
       "      <td>0.167000</td>\n",
       "      <td>0.426000</td>\n",
       "      <td>0.505000</td>\n",
       "      <td>-9.129000</td>\n",
       "      <td>125.636000</td>\n",
       "      <td>0.226000</td>\n",
       "    </tr>\n",
       "    <tr>\n",
       "      <th>75%</th>\n",
       "      <td>61.000000</td>\n",
       "      <td>0.660000</td>\n",
       "      <td>0.537000</td>\n",
       "      <td>0.757000</td>\n",
       "      <td>-7.800000</td>\n",
       "      <td>148.951000</td>\n",
       "      <td>0.446500</td>\n",
       "    </tr>\n",
       "    <tr>\n",
       "      <th>max</th>\n",
       "      <td>82.000000</td>\n",
       "      <td>0.968000</td>\n",
       "      <td>0.721000</td>\n",
       "      <td>0.977000</td>\n",
       "      <td>-4.993000</td>\n",
       "      <td>175.699000</td>\n",
       "      <td>0.847000</td>\n",
       "    </tr>\n",
       "  </tbody>\n",
       "</table>\n",
       "</div>"
      ],
      "text/plain": [
       "       popularity  acousticness  danceability      energy    loudness  \\\n",
       "count  211.000000    211.000000    211.000000  211.000000  211.000000   \n",
       "mean    58.563981      0.308520      0.416825    0.562019   -9.558810   \n",
       "std      6.804021      0.323248      0.151668    0.221608    2.498156   \n",
       "min     46.000000      0.000124      0.127000    0.128000  -17.536000   \n",
       "25%     54.000000      0.048900      0.293000    0.393000  -11.195000   \n",
       "50%     58.000000      0.167000      0.426000    0.505000   -9.129000   \n",
       "75%     61.000000      0.660000      0.537000    0.757000   -7.800000   \n",
       "max     82.000000      0.968000      0.721000    0.977000   -4.993000   \n",
       "\n",
       "            tempo     valence  \n",
       "count  211.000000  211.000000  \n",
       "mean   121.724327    0.317575  \n",
       "std     29.998925    0.221304  \n",
       "min     58.993000    0.037900  \n",
       "25%     91.910000    0.145000  \n",
       "50%    125.636000    0.226000  \n",
       "75%    148.951000    0.446500  \n",
       "max    175.699000    0.847000  "
      ]
     },
     "execution_count": 42,
     "metadata": {},
     "output_type": "execute_result"
    }
   ],
   "source": [
    "df_radiohead.describe()"
   ]
  },
  {
   "cell_type": "code",
   "execution_count": 43,
   "metadata": {},
   "outputs": [],
   "source": [
    "coldplay = df1['artist_name'] == 'Coldplay'\n",
    "df_coldplay = df1.loc[coldplay]\n",
    "df_coldplay = df_coldplay[['popularity', 'acousticness', 'danceability', 'energy', 'loudness', 'tempo', 'valence']]"
   ]
  },
  {
   "cell_type": "code",
   "execution_count": 44,
   "metadata": {},
   "outputs": [
    {
     "data": {
      "text/html": [
       "<div>\n",
       "<style scoped>\n",
       "    .dataframe tbody tr th:only-of-type {\n",
       "        vertical-align: middle;\n",
       "    }\n",
       "\n",
       "    .dataframe tbody tr th {\n",
       "        vertical-align: top;\n",
       "    }\n",
       "\n",
       "    .dataframe thead th {\n",
       "        text-align: right;\n",
       "    }\n",
       "</style>\n",
       "<table border=\"1\" class=\"dataframe\">\n",
       "  <thead>\n",
       "    <tr style=\"text-align: right;\">\n",
       "      <th></th>\n",
       "      <th>popularity</th>\n",
       "      <th>acousticness</th>\n",
       "      <th>danceability</th>\n",
       "      <th>energy</th>\n",
       "      <th>loudness</th>\n",
       "      <th>tempo</th>\n",
       "      <th>valence</th>\n",
       "    </tr>\n",
       "  </thead>\n",
       "  <tbody>\n",
       "    <tr>\n",
       "      <th>count</th>\n",
       "      <td>21.000000</td>\n",
       "      <td>21.000000</td>\n",
       "      <td>21.000000</td>\n",
       "      <td>21.000000</td>\n",
       "      <td>21.000000</td>\n",
       "      <td>21.000000</td>\n",
       "      <td>21.000000</td>\n",
       "    </tr>\n",
       "    <tr>\n",
       "      <th>mean</th>\n",
       "      <td>72.666667</td>\n",
       "      <td>0.158764</td>\n",
       "      <td>0.518714</td>\n",
       "      <td>0.660333</td>\n",
       "      <td>-6.754905</td>\n",
       "      <td>127.510524</td>\n",
       "      <td>0.283019</td>\n",
       "    </tr>\n",
       "    <tr>\n",
       "      <th>std</th>\n",
       "      <td>5.944185</td>\n",
       "      <td>0.225743</td>\n",
       "      <td>0.087459</td>\n",
       "      <td>0.146864</td>\n",
       "      <td>1.473700</td>\n",
       "      <td>22.905394</td>\n",
       "      <td>0.112707</td>\n",
       "    </tr>\n",
       "    <tr>\n",
       "      <th>min</th>\n",
       "      <td>64.000000</td>\n",
       "      <td>0.001930</td>\n",
       "      <td>0.397000</td>\n",
       "      <td>0.405000</td>\n",
       "      <td>-9.155000</td>\n",
       "      <td>84.990000</td>\n",
       "      <td>0.094400</td>\n",
       "    </tr>\n",
       "    <tr>\n",
       "      <th>25%</th>\n",
       "      <td>68.000000</td>\n",
       "      <td>0.007130</td>\n",
       "      <td>0.430000</td>\n",
       "      <td>0.585000</td>\n",
       "      <td>-7.227000</td>\n",
       "      <td>116.707000</td>\n",
       "      <td>0.203000</td>\n",
       "    </tr>\n",
       "    <tr>\n",
       "      <th>50%</th>\n",
       "      <td>71.000000</td>\n",
       "      <td>0.048500</td>\n",
       "      <td>0.523000</td>\n",
       "      <td>0.661000</td>\n",
       "      <td>-7.076000</td>\n",
       "      <td>129.540000</td>\n",
       "      <td>0.261000</td>\n",
       "    </tr>\n",
       "    <tr>\n",
       "      <th>75%</th>\n",
       "      <td>78.000000</td>\n",
       "      <td>0.206000</td>\n",
       "      <td>0.565000</td>\n",
       "      <td>0.743000</td>\n",
       "      <td>-6.186000</td>\n",
       "      <td>139.755000</td>\n",
       "      <td>0.355000</td>\n",
       "    </tr>\n",
       "    <tr>\n",
       "      <th>max</th>\n",
       "      <td>84.000000</td>\n",
       "      <td>0.727000</td>\n",
       "      <td>0.738000</td>\n",
       "      <td>0.924000</td>\n",
       "      <td>-3.516000</td>\n",
       "      <td>173.365000</td>\n",
       "      <td>0.529000</td>\n",
       "    </tr>\n",
       "  </tbody>\n",
       "</table>\n",
       "</div>"
      ],
      "text/plain": [
       "       popularity  acousticness  danceability     energy   loudness  \\\n",
       "count   21.000000     21.000000     21.000000  21.000000  21.000000   \n",
       "mean    72.666667      0.158764      0.518714   0.660333  -6.754905   \n",
       "std      5.944185      0.225743      0.087459   0.146864   1.473700   \n",
       "min     64.000000      0.001930      0.397000   0.405000  -9.155000   \n",
       "25%     68.000000      0.007130      0.430000   0.585000  -7.227000   \n",
       "50%     71.000000      0.048500      0.523000   0.661000  -7.076000   \n",
       "75%     78.000000      0.206000      0.565000   0.743000  -6.186000   \n",
       "max     84.000000      0.727000      0.738000   0.924000  -3.516000   \n",
       "\n",
       "            tempo    valence  \n",
       "count   21.000000  21.000000  \n",
       "mean   127.510524   0.283019  \n",
       "std     22.905394   0.112707  \n",
       "min     84.990000   0.094400  \n",
       "25%    116.707000   0.203000  \n",
       "50%    129.540000   0.261000  \n",
       "75%    139.755000   0.355000  \n",
       "max    173.365000   0.529000  "
      ]
     },
     "execution_count": 44,
     "metadata": {},
     "output_type": "execute_result"
    }
   ],
   "source": [
    "df_coldplay.describe()"
   ]
  },
  {
   "cell_type": "code",
   "execution_count": 45,
   "metadata": {},
   "outputs": [],
   "source": [
    "al_green = df1['artist_name'] == 'Al Green'\n",
    "df_al_green = df1.loc[al_green]\n",
    "df_al_green = df_al_green[['popularity', 'acousticness', 'danceability', 'energy', 'loudness', 'tempo', 'valence']]"
   ]
  },
  {
   "cell_type": "code",
   "execution_count": 46,
   "metadata": {},
   "outputs": [
    {
     "data": {
      "text/html": [
       "<div>\n",
       "<style scoped>\n",
       "    .dataframe tbody tr th:only-of-type {\n",
       "        vertical-align: middle;\n",
       "    }\n",
       "\n",
       "    .dataframe tbody tr th {\n",
       "        vertical-align: top;\n",
       "    }\n",
       "\n",
       "    .dataframe thead th {\n",
       "        text-align: right;\n",
       "    }\n",
       "</style>\n",
       "<table border=\"1\" class=\"dataframe\">\n",
       "  <thead>\n",
       "    <tr style=\"text-align: right;\">\n",
       "      <th></th>\n",
       "      <th>popularity</th>\n",
       "      <th>acousticness</th>\n",
       "      <th>danceability</th>\n",
       "      <th>energy</th>\n",
       "      <th>loudness</th>\n",
       "      <th>tempo</th>\n",
       "      <th>valence</th>\n",
       "    </tr>\n",
       "  </thead>\n",
       "  <tbody>\n",
       "    <tr>\n",
       "      <th>count</th>\n",
       "      <td>94.000000</td>\n",
       "      <td>94.000000</td>\n",
       "      <td>94.000000</td>\n",
       "      <td>94.000000</td>\n",
       "      <td>94.000000</td>\n",
       "      <td>94.000000</td>\n",
       "      <td>94.000000</td>\n",
       "    </tr>\n",
       "    <tr>\n",
       "      <th>mean</th>\n",
       "      <td>42.319149</td>\n",
       "      <td>0.348698</td>\n",
       "      <td>0.669457</td>\n",
       "      <td>0.416713</td>\n",
       "      <td>-10.794500</td>\n",
       "      <td>113.626777</td>\n",
       "      <td>0.640500</td>\n",
       "    </tr>\n",
       "    <tr>\n",
       "      <th>std</th>\n",
       "      <td>9.905155</td>\n",
       "      <td>0.178027</td>\n",
       "      <td>0.114455</td>\n",
       "      <td>0.105765</td>\n",
       "      <td>2.786488</td>\n",
       "      <td>26.098738</td>\n",
       "      <td>0.202596</td>\n",
       "    </tr>\n",
       "    <tr>\n",
       "      <th>min</th>\n",
       "      <td>24.000000</td>\n",
       "      <td>0.017300</td>\n",
       "      <td>0.366000</td>\n",
       "      <td>0.189000</td>\n",
       "      <td>-16.477000</td>\n",
       "      <td>75.288000</td>\n",
       "      <td>0.148000</td>\n",
       "    </tr>\n",
       "    <tr>\n",
       "      <th>25%</th>\n",
       "      <td>35.000000</td>\n",
       "      <td>0.220000</td>\n",
       "      <td>0.581750</td>\n",
       "      <td>0.360000</td>\n",
       "      <td>-13.059000</td>\n",
       "      <td>94.661750</td>\n",
       "      <td>0.490500</td>\n",
       "    </tr>\n",
       "    <tr>\n",
       "      <th>50%</th>\n",
       "      <td>40.000000</td>\n",
       "      <td>0.340000</td>\n",
       "      <td>0.685000</td>\n",
       "      <td>0.398000</td>\n",
       "      <td>-10.711500</td>\n",
       "      <td>109.432000</td>\n",
       "      <td>0.644500</td>\n",
       "    </tr>\n",
       "    <tr>\n",
       "      <th>75%</th>\n",
       "      <td>46.000000</td>\n",
       "      <td>0.477000</td>\n",
       "      <td>0.768000</td>\n",
       "      <td>0.471000</td>\n",
       "      <td>-8.582000</td>\n",
       "      <td>138.362000</td>\n",
       "      <td>0.814000</td>\n",
       "    </tr>\n",
       "    <tr>\n",
       "      <th>max</th>\n",
       "      <td>76.000000</td>\n",
       "      <td>0.694000</td>\n",
       "      <td>0.848000</td>\n",
       "      <td>0.720000</td>\n",
       "      <td>-6.010000</td>\n",
       "      <td>172.364000</td>\n",
       "      <td>0.962000</td>\n",
       "    </tr>\n",
       "  </tbody>\n",
       "</table>\n",
       "</div>"
      ],
      "text/plain": [
       "       popularity  acousticness  danceability     energy   loudness  \\\n",
       "count   94.000000     94.000000     94.000000  94.000000  94.000000   \n",
       "mean    42.319149      0.348698      0.669457   0.416713 -10.794500   \n",
       "std      9.905155      0.178027      0.114455   0.105765   2.786488   \n",
       "min     24.000000      0.017300      0.366000   0.189000 -16.477000   \n",
       "25%     35.000000      0.220000      0.581750   0.360000 -13.059000   \n",
       "50%     40.000000      0.340000      0.685000   0.398000 -10.711500   \n",
       "75%     46.000000      0.477000      0.768000   0.471000  -8.582000   \n",
       "max     76.000000      0.694000      0.848000   0.720000  -6.010000   \n",
       "\n",
       "            tempo    valence  \n",
       "count   94.000000  94.000000  \n",
       "mean   113.626777   0.640500  \n",
       "std     26.098738   0.202596  \n",
       "min     75.288000   0.148000  \n",
       "25%     94.661750   0.490500  \n",
       "50%    109.432000   0.644500  \n",
       "75%    138.362000   0.814000  \n",
       "max    172.364000   0.962000  "
      ]
     },
     "execution_count": 46,
     "metadata": {},
     "output_type": "execute_result"
    }
   ],
   "source": [
    "df_al_green.describe()"
   ]
  },
  {
   "cell_type": "markdown",
   "metadata": {},
   "source": [
    "# Creating boringness metrics and analysis\n"
   ]
  },
  {
   "cell_type": "code",
   "execution_count": 47,
   "metadata": {},
   "outputs": [],
   "source": [
    "df_jordan = df_jordan.rename(columns={'artist':'artist_name'})"
   ]
  },
  {
   "cell_type": "code",
   "execution_count": 48,
   "metadata": {},
   "outputs": [],
   "source": [
    "df_boring = pd.read_csv('/Users/yazanmasarweh/Desktop/IronHack/Bootcamp/Module_1/Project-Week-3-Data-Thieves/yazan/datasets/boringness.csv')"
   ]
  },
  {
   "cell_type": "code",
   "execution_count": 49,
   "metadata": {},
   "outputs": [],
   "source": [
    "df_merge_jordan = pd.merge(df_jordan, df_boring, on='artist_name')\n"
   ]
  },
  {
   "cell_type": "code",
   "execution_count": 70,
   "metadata": {},
   "outputs": [
    {
     "data": {
      "text/html": [
       "<div>\n",
       "<style scoped>\n",
       "    .dataframe tbody tr th:only-of-type {\n",
       "        vertical-align: middle;\n",
       "    }\n",
       "\n",
       "    .dataframe tbody tr th {\n",
       "        vertical-align: top;\n",
       "    }\n",
       "\n",
       "    .dataframe thead th {\n",
       "        text-align: right;\n",
       "    }\n",
       "</style>\n",
       "<table border=\"1\" class=\"dataframe\">\n",
       "  <thead>\n",
       "    <tr style=\"text-align: right;\">\n",
       "      <th></th>\n",
       "      <th>Unnamed: 0_x</th>\n",
       "      <th>rank</th>\n",
       "      <th>Unnamed: 0_y</th>\n",
       "      <th>popularity</th>\n",
       "      <th>acousticness</th>\n",
       "      <th>danceability</th>\n",
       "      <th>duration_ms</th>\n",
       "      <th>energy</th>\n",
       "      <th>instrumentalness</th>\n",
       "      <th>liveness</th>\n",
       "      <th>loudness</th>\n",
       "      <th>speechiness</th>\n",
       "      <th>tempo</th>\n",
       "      <th>valence</th>\n",
       "      <th>boringness</th>\n",
       "    </tr>\n",
       "  </thead>\n",
       "  <tbody>\n",
       "    <tr>\n",
       "      <th>count</th>\n",
       "      <td>4999.000000</td>\n",
       "      <td>4999.000000</td>\n",
       "      <td>4999.000000</td>\n",
       "      <td>4999.000000</td>\n",
       "      <td>4999.000000</td>\n",
       "      <td>4999.000000</td>\n",
       "      <td>4.999000e+03</td>\n",
       "      <td>4999.000000</td>\n",
       "      <td>4999.000000</td>\n",
       "      <td>4999.000000</td>\n",
       "      <td>4999.000000</td>\n",
       "      <td>4999.000000</td>\n",
       "      <td>4999.000000</td>\n",
       "      <td>4999.000000</td>\n",
       "      <td>4999.000000</td>\n",
       "    </tr>\n",
       "    <tr>\n",
       "      <th>mean</th>\n",
       "      <td>21.833167</td>\n",
       "      <td>22.833167</td>\n",
       "      <td>102664.853171</td>\n",
       "      <td>61.470294</td>\n",
       "      <td>0.209300</td>\n",
       "      <td>0.583585</td>\n",
       "      <td>2.478076e+05</td>\n",
       "      <td>0.646567</td>\n",
       "      <td>0.061063</td>\n",
       "      <td>0.204513</td>\n",
       "      <td>-7.275062</td>\n",
       "      <td>0.110933</td>\n",
       "      <td>120.503176</td>\n",
       "      <td>0.459087</td>\n",
       "      <td>236.211242</td>\n",
       "    </tr>\n",
       "    <tr>\n",
       "      <th>std</th>\n",
       "      <td>13.220260</td>\n",
       "      <td>13.220260</td>\n",
       "      <td>65348.807229</td>\n",
       "      <td>10.246202</td>\n",
       "      <td>0.247640</td>\n",
       "      <td>0.155207</td>\n",
       "      <td>8.280571e+04</td>\n",
       "      <td>0.193848</td>\n",
       "      <td>0.180728</td>\n",
       "      <td>0.166443</td>\n",
       "      <td>3.152202</td>\n",
       "      <td>0.117987</td>\n",
       "      <td>29.334839</td>\n",
       "      <td>0.229763</td>\n",
       "      <td>40.010605</td>\n",
       "    </tr>\n",
       "    <tr>\n",
       "      <th>min</th>\n",
       "      <td>0.000000</td>\n",
       "      <td>1.000000</td>\n",
       "      <td>136.000000</td>\n",
       "      <td>0.000000</td>\n",
       "      <td>0.000001</td>\n",
       "      <td>0.127000</td>\n",
       "      <td>3.309300e+04</td>\n",
       "      <td>0.019600</td>\n",
       "      <td>0.000000</td>\n",
       "      <td>0.012000</td>\n",
       "      <td>-33.350000</td>\n",
       "      <td>0.023100</td>\n",
       "      <td>34.717000</td>\n",
       "      <td>0.020500</td>\n",
       "      <td>50.000000</td>\n",
       "    </tr>\n",
       "    <tr>\n",
       "      <th>25%</th>\n",
       "      <td>11.000000</td>\n",
       "      <td>12.000000</td>\n",
       "      <td>54938.500000</td>\n",
       "      <td>55.000000</td>\n",
       "      <td>0.020250</td>\n",
       "      <td>0.476000</td>\n",
       "      <td>2.057865e+05</td>\n",
       "      <td>0.505000</td>\n",
       "      <td>0.000000</td>\n",
       "      <td>0.101000</td>\n",
       "      <td>-8.912500</td>\n",
       "      <td>0.036300</td>\n",
       "      <td>96.786000</td>\n",
       "      <td>0.281500</td>\n",
       "      <td>210.000000</td>\n",
       "    </tr>\n",
       "    <tr>\n",
       "      <th>50%</th>\n",
       "      <td>20.000000</td>\n",
       "      <td>21.000000</td>\n",
       "      <td>108866.000000</td>\n",
       "      <td>61.000000</td>\n",
       "      <td>0.096400</td>\n",
       "      <td>0.592000</td>\n",
       "      <td>2.361330e+05</td>\n",
       "      <td>0.670000</td>\n",
       "      <td>0.000016</td>\n",
       "      <td>0.136000</td>\n",
       "      <td>-6.719000</td>\n",
       "      <td>0.054800</td>\n",
       "      <td>119.403000</td>\n",
       "      <td>0.437000</td>\n",
       "      <td>240.000000</td>\n",
       "    </tr>\n",
       "    <tr>\n",
       "      <th>75%</th>\n",
       "      <td>34.000000</td>\n",
       "      <td>35.000000</td>\n",
       "      <td>151550.000000</td>\n",
       "      <td>68.000000</td>\n",
       "      <td>0.325000</td>\n",
       "      <td>0.694000</td>\n",
       "      <td>2.784020e+05</td>\n",
       "      <td>0.799000</td>\n",
       "      <td>0.003320</td>\n",
       "      <td>0.260000</td>\n",
       "      <td>-5.066000</td>\n",
       "      <td>0.136000</td>\n",
       "      <td>138.069500</td>\n",
       "      <td>0.630000</td>\n",
       "      <td>260.000000</td>\n",
       "    </tr>\n",
       "    <tr>\n",
       "      <th>max</th>\n",
       "      <td>49.000000</td>\n",
       "      <td>50.000000</td>\n",
       "      <td>229830.000000</td>\n",
       "      <td>100.000000</td>\n",
       "      <td>0.994000</td>\n",
       "      <td>0.962000</td>\n",
       "      <td>2.731067e+06</td>\n",
       "      <td>0.997000</td>\n",
       "      <td>0.994000</td>\n",
       "      <td>0.986000</td>\n",
       "      <td>0.496000</td>\n",
       "      <td>0.883000</td>\n",
       "      <td>217.538000</td>\n",
       "      <td>0.977000</td>\n",
       "      <td>340.000000</td>\n",
       "    </tr>\n",
       "  </tbody>\n",
       "</table>\n",
       "</div>"
      ],
      "text/plain": [
       "       Unnamed: 0_x         rank   Unnamed: 0_y   popularity  acousticness  \\\n",
       "count   4999.000000  4999.000000    4999.000000  4999.000000   4999.000000   \n",
       "mean      21.833167    22.833167  102664.853171    61.470294      0.209300   \n",
       "std       13.220260    13.220260   65348.807229    10.246202      0.247640   \n",
       "min        0.000000     1.000000     136.000000     0.000000      0.000001   \n",
       "25%       11.000000    12.000000   54938.500000    55.000000      0.020250   \n",
       "50%       20.000000    21.000000  108866.000000    61.000000      0.096400   \n",
       "75%       34.000000    35.000000  151550.000000    68.000000      0.325000   \n",
       "max       49.000000    50.000000  229830.000000   100.000000      0.994000   \n",
       "\n",
       "       danceability   duration_ms       energy  instrumentalness     liveness  \\\n",
       "count   4999.000000  4.999000e+03  4999.000000       4999.000000  4999.000000   \n",
       "mean       0.583585  2.478076e+05     0.646567          0.061063     0.204513   \n",
       "std        0.155207  8.280571e+04     0.193848          0.180728     0.166443   \n",
       "min        0.127000  3.309300e+04     0.019600          0.000000     0.012000   \n",
       "25%        0.476000  2.057865e+05     0.505000          0.000000     0.101000   \n",
       "50%        0.592000  2.361330e+05     0.670000          0.000016     0.136000   \n",
       "75%        0.694000  2.784020e+05     0.799000          0.003320     0.260000   \n",
       "max        0.962000  2.731067e+06     0.997000          0.994000     0.986000   \n",
       "\n",
       "          loudness  speechiness        tempo      valence   boringness  \n",
       "count  4999.000000  4999.000000  4999.000000  4999.000000  4999.000000  \n",
       "mean     -7.275062     0.110933   120.503176     0.459087   236.211242  \n",
       "std       3.152202     0.117987    29.334839     0.229763    40.010605  \n",
       "min     -33.350000     0.023100    34.717000     0.020500    50.000000  \n",
       "25%      -8.912500     0.036300    96.786000     0.281500   210.000000  \n",
       "50%      -6.719000     0.054800   119.403000     0.437000   240.000000  \n",
       "75%      -5.066000     0.136000   138.069500     0.630000   260.000000  \n",
       "max       0.496000     0.883000   217.538000     0.977000   340.000000  "
      ]
     },
     "execution_count": 70,
     "metadata": {},
     "output_type": "execute_result"
    }
   ],
   "source": [
    "df_merge_jordan.describe()"
   ]
  },
  {
   "cell_type": "markdown",
   "metadata": {},
   "source": [
    "## Create a summary of all means of audio features of Jordan"
   ]
  },
  {
   "cell_type": "code",
   "execution_count": 65,
   "metadata": {},
   "outputs": [
    {
     "data": {
      "text/html": [
       "<div>\n",
       "<style scoped>\n",
       "    .dataframe tbody tr th:only-of-type {\n",
       "        vertical-align: middle;\n",
       "    }\n",
       "\n",
       "    .dataframe tbody tr th {\n",
       "        vertical-align: top;\n",
       "    }\n",
       "\n",
       "    .dataframe thead th {\n",
       "        text-align: right;\n",
       "    }\n",
       "</style>\n",
       "<table border=\"1\" class=\"dataframe\">\n",
       "  <thead>\n",
       "    <tr style=\"text-align: right;\">\n",
       "      <th></th>\n",
       "      <th>0</th>\n",
       "      <th>index</th>\n",
       "    </tr>\n",
       "  </thead>\n",
       "  <tbody>\n",
       "    <tr>\n",
       "      <th>Unnamed: 0_x</th>\n",
       "      <td>21.833167</td>\n",
       "      <td>1</td>\n",
       "    </tr>\n",
       "    <tr>\n",
       "      <th>rank</th>\n",
       "      <td>22.833167</td>\n",
       "      <td>1</td>\n",
       "    </tr>\n",
       "    <tr>\n",
       "      <th>Unnamed: 0_y</th>\n",
       "      <td>102664.853171</td>\n",
       "      <td>1</td>\n",
       "    </tr>\n",
       "    <tr>\n",
       "      <th>popularity</th>\n",
       "      <td>61.470294</td>\n",
       "      <td>1</td>\n",
       "    </tr>\n",
       "    <tr>\n",
       "      <th>acousticness</th>\n",
       "      <td>0.209300</td>\n",
       "      <td>1</td>\n",
       "    </tr>\n",
       "    <tr>\n",
       "      <th>danceability</th>\n",
       "      <td>0.583585</td>\n",
       "      <td>1</td>\n",
       "    </tr>\n",
       "    <tr>\n",
       "      <th>duration_ms</th>\n",
       "      <td>247807.635127</td>\n",
       "      <td>1</td>\n",
       "    </tr>\n",
       "    <tr>\n",
       "      <th>energy</th>\n",
       "      <td>0.646567</td>\n",
       "      <td>1</td>\n",
       "    </tr>\n",
       "    <tr>\n",
       "      <th>instrumentalness</th>\n",
       "      <td>0.061063</td>\n",
       "      <td>1</td>\n",
       "    </tr>\n",
       "    <tr>\n",
       "      <th>liveness</th>\n",
       "      <td>0.204513</td>\n",
       "      <td>1</td>\n",
       "    </tr>\n",
       "    <tr>\n",
       "      <th>loudness</th>\n",
       "      <td>-7.275062</td>\n",
       "      <td>1</td>\n",
       "    </tr>\n",
       "    <tr>\n",
       "      <th>speechiness</th>\n",
       "      <td>0.110933</td>\n",
       "      <td>1</td>\n",
       "    </tr>\n",
       "    <tr>\n",
       "      <th>tempo</th>\n",
       "      <td>120.503176</td>\n",
       "      <td>1</td>\n",
       "    </tr>\n",
       "    <tr>\n",
       "      <th>valence</th>\n",
       "      <td>0.459087</td>\n",
       "      <td>1</td>\n",
       "    </tr>\n",
       "    <tr>\n",
       "      <th>boringness</th>\n",
       "      <td>236.211242</td>\n",
       "      <td>1</td>\n",
       "    </tr>\n",
       "  </tbody>\n",
       "</table>\n",
       "</div>"
      ],
      "text/plain": [
       "                              0  index\n",
       "Unnamed: 0_x          21.833167      1\n",
       "rank                  22.833167      1\n",
       "Unnamed: 0_y      102664.853171      1\n",
       "popularity            61.470294      1\n",
       "acousticness           0.209300      1\n",
       "danceability           0.583585      1\n",
       "duration_ms       247807.635127      1\n",
       "energy                 0.646567      1\n",
       "instrumentalness       0.061063      1\n",
       "liveness               0.204513      1\n",
       "loudness              -7.275062      1\n",
       "speechiness            0.110933      1\n",
       "tempo                120.503176      1\n",
       "valence                0.459087      1\n",
       "boringness           236.211242      1"
      ]
     },
     "execution_count": 65,
     "metadata": {},
     "output_type": "execute_result"
    }
   ],
   "source": [
    "df_avg_jordan = pd.DataFrame(df_merge_jordan.mean())\n",
    "df_avg_jordan['index']= 1\n",
    "df_avg_jordan"
   ]
  },
  {
   "cell_type": "code",
   "execution_count": 84,
   "metadata": {},
   "outputs": [],
   "source": [
    "df_merge_jordan.to_csv('/Users/yazanmasarweh/Desktop/IronHack/Bootcamp/Module_1/Project-Week-3-Data-Thieves/yazan/datasets/merge_jordan.csv')"
   ]
  },
  {
   "cell_type": "code",
   "execution_count": 35,
   "metadata": {},
   "outputs": [],
   "source": [
    "df_spain = df_spain.rename(columns={'artist':'artist_name'})"
   ]
  },
  {
   "cell_type": "code",
   "execution_count": 89,
   "metadata": {},
   "outputs": [],
   "source": [
    "df_merge_spain = pd.merge(df_spain, df_boring, on='artist_name')"
   ]
  },
  {
   "cell_type": "markdown",
   "metadata": {},
   "source": [
    "## Create a summary of all means of audio features of Spain"
   ]
  },
  {
   "cell_type": "code",
   "execution_count": 90,
   "metadata": {},
   "outputs": [
    {
     "data": {
      "text/html": [
       "<div>\n",
       "<style scoped>\n",
       "    .dataframe tbody tr th:only-of-type {\n",
       "        vertical-align: middle;\n",
       "    }\n",
       "\n",
       "    .dataframe tbody tr th {\n",
       "        vertical-align: top;\n",
       "    }\n",
       "\n",
       "    .dataframe thead th {\n",
       "        text-align: right;\n",
       "    }\n",
       "</style>\n",
       "<table border=\"1\" class=\"dataframe\">\n",
       "  <thead>\n",
       "    <tr style=\"text-align: right;\">\n",
       "      <th></th>\n",
       "      <th>0</th>\n",
       "    </tr>\n",
       "  </thead>\n",
       "  <tbody>\n",
       "    <tr>\n",
       "      <th>Unnamed: 0_x</th>\n",
       "      <td>21.845288</td>\n",
       "    </tr>\n",
       "    <tr>\n",
       "      <th>rank</th>\n",
       "      <td>22.845288</td>\n",
       "    </tr>\n",
       "    <tr>\n",
       "      <th>Unnamed: 0_y</th>\n",
       "      <td>99069.910149</td>\n",
       "    </tr>\n",
       "    <tr>\n",
       "      <th>popularity</th>\n",
       "      <td>60.785578</td>\n",
       "    </tr>\n",
       "    <tr>\n",
       "      <th>acousticness</th>\n",
       "      <td>0.196733</td>\n",
       "    </tr>\n",
       "    <tr>\n",
       "      <th>danceability</th>\n",
       "      <td>0.578171</td>\n",
       "    </tr>\n",
       "    <tr>\n",
       "      <th>duration_ms</th>\n",
       "      <td>249289.074971</td>\n",
       "    </tr>\n",
       "    <tr>\n",
       "      <th>energy</th>\n",
       "      <td>0.658416</td>\n",
       "    </tr>\n",
       "    <tr>\n",
       "      <th>instrumentalness</th>\n",
       "      <td>0.080438</td>\n",
       "    </tr>\n",
       "    <tr>\n",
       "      <th>liveness</th>\n",
       "      <td>0.205831</td>\n",
       "    </tr>\n",
       "    <tr>\n",
       "      <th>loudness</th>\n",
       "      <td>-7.266581</td>\n",
       "    </tr>\n",
       "    <tr>\n",
       "      <th>speechiness</th>\n",
       "      <td>0.112954</td>\n",
       "    </tr>\n",
       "    <tr>\n",
       "      <th>tempo</th>\n",
       "      <td>120.955369</td>\n",
       "    </tr>\n",
       "    <tr>\n",
       "      <th>valence</th>\n",
       "      <td>0.454993</td>\n",
       "    </tr>\n",
       "    <tr>\n",
       "      <th>boringness</th>\n",
       "      <td>237.285387</td>\n",
       "    </tr>\n",
       "  </tbody>\n",
       "</table>\n",
       "</div>"
      ],
      "text/plain": [
       "                              0\n",
       "Unnamed: 0_x          21.845288\n",
       "rank                  22.845288\n",
       "Unnamed: 0_y       99069.910149\n",
       "popularity            60.785578\n",
       "acousticness           0.196733\n",
       "danceability           0.578171\n",
       "duration_ms       249289.074971\n",
       "energy                 0.658416\n",
       "instrumentalness       0.080438\n",
       "liveness               0.205831\n",
       "loudness              -7.266581\n",
       "speechiness            0.112954\n",
       "tempo                120.955369\n",
       "valence                0.454993\n",
       "boringness           237.285387"
      ]
     },
     "execution_count": 90,
     "metadata": {},
     "output_type": "execute_result"
    }
   ],
   "source": [
    "df_avg_spain = pd.DataFrame(df_merge_spain.mean())\n",
    "df_avg_spain"
   ]
  },
  {
   "cell_type": "code",
   "execution_count": 85,
   "metadata": {},
   "outputs": [],
   "source": [
    "df_merge_spain.to_csv('/Users/yazanmasarweh/Desktop/IronHack/Bootcamp/Module_1/Project-Week-3-Data-Thieves/yazan/datasets/merge_spain.csv')"
   ]
  },
  {
   "cell_type": "code",
   "execution_count": 91,
   "metadata": {},
   "outputs": [],
   "source": [
    "df_switzerland = df_switzerland.rename(columns={'artist':'artist_name'})"
   ]
  },
  {
   "cell_type": "code",
   "execution_count": 92,
   "metadata": {},
   "outputs": [],
   "source": [
    "df_merge_switzerland = pd.merge(df_switzerland, df_boring, on='artist_name')"
   ]
  },
  {
   "cell_type": "markdown",
   "metadata": {},
   "source": [
    "## Create a summary of all means of audio features of Switzerland"
   ]
  },
  {
   "cell_type": "code",
   "execution_count": 47,
   "metadata": {},
   "outputs": [
    {
     "data": {
      "text/html": [
       "<div>\n",
       "<style scoped>\n",
       "    .dataframe tbody tr th:only-of-type {\n",
       "        vertical-align: middle;\n",
       "    }\n",
       "\n",
       "    .dataframe tbody tr th {\n",
       "        vertical-align: top;\n",
       "    }\n",
       "\n",
       "    .dataframe thead th {\n",
       "        text-align: right;\n",
       "    }\n",
       "</style>\n",
       "<table border=\"1\" class=\"dataframe\">\n",
       "  <thead>\n",
       "    <tr style=\"text-align: right;\">\n",
       "      <th></th>\n",
       "      <th>0</th>\n",
       "    </tr>\n",
       "  </thead>\n",
       "  <tbody>\n",
       "    <tr>\n",
       "      <th>Unnamed: 0_x</th>\n",
       "      <td>24.527603</td>\n",
       "    </tr>\n",
       "    <tr>\n",
       "      <th>rank</th>\n",
       "      <td>25.527603</td>\n",
       "    </tr>\n",
       "    <tr>\n",
       "      <th>Unnamed: 0_y</th>\n",
       "      <td>106211.318447</td>\n",
       "    </tr>\n",
       "    <tr>\n",
       "      <th>popularity</th>\n",
       "      <td>58.438510</td>\n",
       "    </tr>\n",
       "    <tr>\n",
       "      <th>acousticness</th>\n",
       "      <td>0.262283</td>\n",
       "    </tr>\n",
       "    <tr>\n",
       "      <th>danceability</th>\n",
       "      <td>0.572909</td>\n",
       "    </tr>\n",
       "    <tr>\n",
       "      <th>duration_ms</th>\n",
       "      <td>248775.711849</td>\n",
       "    </tr>\n",
       "    <tr>\n",
       "      <th>energy</th>\n",
       "      <td>0.617932</td>\n",
       "    </tr>\n",
       "    <tr>\n",
       "      <th>instrumentalness</th>\n",
       "      <td>0.093276</td>\n",
       "    </tr>\n",
       "    <tr>\n",
       "      <th>liveness</th>\n",
       "      <td>0.199313</td>\n",
       "    </tr>\n",
       "    <tr>\n",
       "      <th>loudness</th>\n",
       "      <td>-8.126977</td>\n",
       "    </tr>\n",
       "    <tr>\n",
       "      <th>speechiness</th>\n",
       "      <td>0.093808</td>\n",
       "    </tr>\n",
       "    <tr>\n",
       "      <th>tempo</th>\n",
       "      <td>120.050072</td>\n",
       "    </tr>\n",
       "    <tr>\n",
       "      <th>valence</th>\n",
       "      <td>0.454273</td>\n",
       "    </tr>\n",
       "    <tr>\n",
       "      <th>boringness</th>\n",
       "      <td>231.007166</td>\n",
       "    </tr>\n",
       "  </tbody>\n",
       "</table>\n",
       "</div>"
      ],
      "text/plain": [
       "                              0\n",
       "Unnamed: 0_x          24.527603\n",
       "rank                  25.527603\n",
       "Unnamed: 0_y      106211.318447\n",
       "popularity            58.438510\n",
       "acousticness           0.262283\n",
       "danceability           0.572909\n",
       "duration_ms       248775.711849\n",
       "energy                 0.617932\n",
       "instrumentalness       0.093276\n",
       "liveness               0.199313\n",
       "loudness              -8.126977\n",
       "speechiness            0.093808\n",
       "tempo                120.050072\n",
       "valence                0.454273\n",
       "boringness           231.007166"
      ]
     },
     "execution_count": 47,
     "metadata": {},
     "output_type": "execute_result"
    }
   ],
   "source": [
    "df_avg_switzerland = pd.DataFrame(df_merge_switzerland.mean())\n",
    "df_avg_switzerland"
   ]
  },
  {
   "cell_type": "code",
   "execution_count": 86,
   "metadata": {},
   "outputs": [],
   "source": [
    "df_merge_switzerland.to_csv('/Users/yazanmasarweh/Desktop/IronHack/Bootcamp/Module_1/Project-Week-3-Data-Thieves/yazan/datasets/merge_switzerland.csv')"
   ]
  },
  {
   "cell_type": "markdown",
   "metadata": {},
   "source": [
    "## Comparing Jordan vs Spain and Spain vs Switzerland"
   ]
  },
  {
   "cell_type": "code",
   "execution_count": 51,
   "metadata": {},
   "outputs": [],
   "source": [
    "df_jordan_vs_spain = df_avg_jordan - df_avg_spain\n",
    "df_jordan_vs_spain.to_csv('/Users/yazanmasarweh/Desktop/IronHack/Bootcamp/Module_1/Project-Week-3-Data-Thieves/yazan/datasets/jordan_vs_spain.csv')"
   ]
  },
  {
   "cell_type": "code",
   "execution_count": 52,
   "metadata": {},
   "outputs": [],
   "source": [
    "df_spain_vs_switzerland = df_avg_spain - df_avg_switzerland\n",
    "df_spain_vs_switzerland.to_csv('/Users/yazanmasarweh/Desktop/IronHack/Bootcamp/Module_1/Project-Week-3-Data-Thieves/yazan/datasets/spain_vs_switzerland.csv')"
   ]
  },
  {
   "cell_type": "markdown",
   "metadata": {},
   "source": [
    "## Grouping boringness by count"
   ]
  },
  {
   "cell_type": "code",
   "execution_count": 130,
   "metadata": {},
   "outputs": [],
   "source": [
    "jordan_boringness_count = pd.DataFrame(df_merge_jordan['boringness'].value_counts())\n",
    "jordan_boringness_count.to_csv('/Users/yazanmasarweh/Desktop/IronHack/Bootcamp/Module_1/Project-Week-3-Data-Thieves/yazan/datasets/jordan_boringness_count.csv')"
   ]
  },
  {
   "cell_type": "code",
   "execution_count": 100,
   "metadata": {},
   "outputs": [],
   "source": [
    "spain_boringness_count = pd.DataFrame(df_merge_spain['boringness'].value_counts())\n",
    "spain_boringness_count.to_csv('/Users/yazanmasarweh/Desktop/IronHack/Bootcamp/Module_1/Project-Week-3-Data-Thieves/yazan/datasets/spain_boringness_count.csv')"
   ]
  },
  {
   "cell_type": "code",
   "execution_count": 101,
   "metadata": {},
   "outputs": [],
   "source": [
    "switzerland_boringness_count = pd.DataFrame(df_merge_switzerland['boringness'].value_counts())\n",
    "switzerland_boringness_count.to_csv('/Users/yazanmasarweh/Desktop/IronHack/Bootcamp/Module_1/Project-Week-3-Data-Thieves/yazan/datasets/switzerland_boringness_count.csv')"
   ]
  },
  {
   "cell_type": "code",
   "execution_count": 106,
   "metadata": {},
   "outputs": [
    {
     "data": {
      "text/plain": [
       "boringness    431\n",
       "dtype: int64"
      ]
     },
     "execution_count": 106,
     "metadata": {},
     "output_type": "execute_result"
    }
   ],
   "source": [
    "switzerland_boringness_count.max()"
   ]
  },
  {
   "cell_type": "code",
   "execution_count": 132,
   "metadata": {},
   "outputs": [],
   "source": [
    "df_boringness_range = pd.DataFrame(pd.RangeIndex(start=0, stop=560, step=10))\n",
    "df_boringness_range.to_csv('/Users/yazanmasarweh/Desktop/IronHack/Bootcamp/Module_1/Project-Week-3-Data-Thieves/yazan/datasets/boringness_ranges.csv')"
   ]
  },
  {
   "cell_type": "code",
   "execution_count": null,
   "metadata": {},
   "outputs": [],
   "source": []
  }
 ],
 "metadata": {
  "kernelspec": {
   "display_name": "Python 3.7.5 64-bit",
   "language": "python",
   "name": "python37564bitdef1184102eb4621a9af56eac6b87910"
  },
  "language_info": {
   "codemirror_mode": {
    "name": "ipython",
    "version": 3
   },
   "file_extension": ".py",
   "mimetype": "text/x-python",
   "name": "python",
   "nbconvert_exporter": "python",
   "pygments_lexer": "ipython3",
   "version": "3.7.5-final"
  }
 },
 "nbformat": 4,
 "nbformat_minor": 2
}