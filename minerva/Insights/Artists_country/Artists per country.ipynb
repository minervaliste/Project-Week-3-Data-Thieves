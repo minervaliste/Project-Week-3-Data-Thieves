{
 "cells": [
  {
   "cell_type": "code",
   "execution_count": 1,
   "metadata": {},
   "outputs": [],
   "source": [
    "## Import libraries\n",
    "import requests\n",
    "import pandas as pd\n",
    "import pymysql\n",
    "from sqlalchemy import create_engine"
   ]
  },
  {
   "cell_type": "code",
   "execution_count": 2,
   "metadata": {},
   "outputs": [],
   "source": [
    "## Connect to MySQL DB - LOCAL   \n",
    "driver   = 'mysql+pymysql:'\n",
    "user     = 'root' ## the user you use to access the DB\n",
    "password = 'ML_LI_04' ## the password you use to access the DB\n",
    "ip       = '127.0.0.1' ## the DB host IP\n",
    "database = 'data_thieves_dummy' ## name_of_DB_you_want_to_connect\n",
    "\n",
    "# ## Connect to MySQL DB - CLOUD   \n",
    "# driver   = 'mysql+pymysql:'\n",
    "# user     = 'root' ## the user you use to access the DB\n",
    "# password = 'ML_LI_04' ## the password you use to access the DB\n",
    "# ip       = '35.195.172.42' ## the DB host IP\n",
    "# database = 'data_thieves' ## name_of_DB_you_want_to_connect\n",
    "\n",
    "connection_string = f'{driver}//{user}:{password}@{ip}/{database}'\n",
    "engine = create_engine(connection_string)"
   ]
  },
  {
   "cell_type": "code",
   "execution_count": 3,
   "metadata": {},
   "outputs": [
    {
     "name": "stderr",
     "output_type": "stream",
     "text": [
      "C:\\Users\\miner\\Anaconda3\\lib\\site-packages\\pymysql\\cursors.py:170: Warning: (1366, \"Incorrect string value: '\\\\xE1ndar ...' for column 'VARIABLE_VALUE' at row 1\")\n",
      "  result = self._query(query)\n"
     ]
    }
   ],
   "source": [
    "top_50_country = pd.read_sql('top_artists_country', engine)"
   ]
  },
  {
   "cell_type": "markdown",
   "metadata": {},
   "source": [
    "# Aggregate top 50 artists per country"
   ]
  },
  {
   "cell_type": "code",
   "execution_count": 4,
   "metadata": {},
   "outputs": [],
   "source": [
    "top_50_Jordan = top_50_country[top_50_country.country_name == 'Jordan'].copy()\n",
    "top_50_Jordan.to_csv('top_jordan_artists.csv', sep = ';')"
   ]
  },
  {
   "cell_type": "code",
   "execution_count": 5,
   "metadata": {},
   "outputs": [],
   "source": [
    "top_50_Switzerland = top_50_country[top_50_country.country_name == 'Switzerland'].copy()\n",
    "top_50_Switzerland.to_csv('top_switzerland_artists.csv', sep = ';')"
   ]
  },
  {
   "cell_type": "code",
   "execution_count": 6,
   "metadata": {},
   "outputs": [],
   "source": [
    "top_50_Spain = top_50_country[top_50_country.country_name == 'Spain'].copy()\n",
    "top_50_Spain.to_csv('top_spain_artists.csv', sep = ';')"
   ]
  }
 ],
 "metadata": {
  "kernelspec": {
   "display_name": "Python 3",
   "language": "python",
   "name": "python3"
  },
  "language_info": {
   "codemirror_mode": {
    "name": "ipython",
    "version": 3
   },
   "file_extension": ".py",
   "mimetype": "text/x-python",
   "name": "python",
   "nbconvert_exporter": "python",
   "pygments_lexer": "ipython3",
   "version": "3.7.4"
  }
 },
 "nbformat": 4,
 "nbformat_minor": 2
}
