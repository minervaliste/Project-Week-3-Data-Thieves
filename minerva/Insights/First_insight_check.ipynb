{
 "cells": [
  {
   "cell_type": "markdown",
   "metadata": {},
   "source": [
    "# Import libraries and info from DB"
   ]
  },
  {
   "cell_type": "code",
   "execution_count": 1,
   "metadata": {},
   "outputs": [],
   "source": [
    "## Import libraries\n",
    "import requests\n",
    "import pandas as pd\n",
    "import pymysql\n",
    "from sqlalchemy import create_engine"
   ]
  },
  {
   "cell_type": "code",
   "execution_count": 2,
   "metadata": {},
   "outputs": [],
   "source": [
    "## Connect to MySQL DB - LOCAL   \n",
    "driver   = 'mysql+pymysql:'\n",
    "user     = 'root' ## the user you use to access the DB\n",
    "password = 'ML_LI_04' ## the password you use to access the DB\n",
    "ip       = '127.0.0.1' ## the DB host IP\n",
    "database = 'data_thieves_dummy' ## name_of_DB_you_want_to_connect\n",
    "\n",
    "# ## Connect to MySQL DB - CLOUD   \n",
    "# driver   = 'mysql+pymysql:'\n",
    "# user     = 'root' ## the user you use to access the DB\n",
    "# password = 'ML_LI_04' ## the password you use to access the DB\n",
    "# ip       = '35.195.172.42' ## the DB host IP\n",
    "# database = 'data_thieves' ## name_of_DB_you_want_to_connect\n",
    "\n",
    "connection_string = f'{driver}//{user}:{password}@{ip}/{database}'\n",
    "engine = create_engine(connection_string)"
   ]
  },
  {
   "cell_type": "code",
   "execution_count": 3,
   "metadata": {},
   "outputs": [
    {
     "name": "stderr",
     "output_type": "stream",
     "text": [
      "C:\\Users\\miner\\Anaconda3\\lib\\site-packages\\pymysql\\cursors.py:170: Warning: (1366, \"Incorrect string value: '\\\\xE1ndar ...' for column 'VARIABLE_VALUE' at row 1\")\n",
      "  result = self._query(query)\n"
     ]
    }
   ],
   "source": [
    "tracks = pd.read_sql('track', engine)"
   ]
  },
  {
   "cell_type": "code",
   "execution_count": 4,
   "metadata": {},
   "outputs": [],
   "source": [
    "artists = pd.read_sql('artist', engine)"
   ]
  },
  {
   "cell_type": "code",
   "execution_count": 5,
   "metadata": {
    "scrolled": true
   },
   "outputs": [],
   "source": [
    "top_50_country = pd.read_sql('top_artists_country', engine)\n"
   ]
  },
  {
   "cell_type": "markdown",
   "metadata": {},
   "source": [
    "# Check music profile per country"
   ]
  },
  {
   "cell_type": "markdown",
   "metadata": {},
   "source": [
    "Merge columns in one dataframe:"
   ]
  },
  {
   "cell_type": "code",
   "execution_count": 6,
   "metadata": {},
   "outputs": [],
   "source": [
    "artists.rename(columns = {'ID': 'artist_id'}, inplace = True)"
   ]
  },
  {
   "cell_type": "code",
   "execution_count": 7,
   "metadata": {},
   "outputs": [
    {
     "data": {
      "text/html": [
       "<div>\n",
       "<style scoped>\n",
       "    .dataframe tbody tr th:only-of-type {\n",
       "        vertical-align: middle;\n",
       "    }\n",
       "\n",
       "    .dataframe tbody tr th {\n",
       "        vertical-align: top;\n",
       "    }\n",
       "\n",
       "    .dataframe thead th {\n",
       "        text-align: right;\n",
       "    }\n",
       "</style>\n",
       "<table border=\"1\" class=\"dataframe\">\n",
       "  <thead>\n",
       "    <tr style=\"text-align: right;\">\n",
       "      <th></th>\n",
       "      <th>track_id</th>\n",
       "      <th>track_name</th>\n",
       "      <th>spotify_id</th>\n",
       "      <th>acousticness</th>\n",
       "      <th>danceability</th>\n",
       "      <th>duration_ms</th>\n",
       "      <th>energy</th>\n",
       "      <th>instrumentalness</th>\n",
       "      <th>track_key</th>\n",
       "      <th>liveness</th>\n",
       "      <th>loudness</th>\n",
       "      <th>track_mode</th>\n",
       "      <th>speechiness</th>\n",
       "      <th>tempo</th>\n",
       "      <th>time_signature</th>\n",
       "      <th>valence</th>\n",
       "      <th>popularity</th>\n",
       "      <th>artist_id</th>\n",
       "      <th>artist_name</th>\n",
       "    </tr>\n",
       "  </thead>\n",
       "  <tbody>\n",
       "    <tr>\n",
       "      <td>0</td>\n",
       "      <td>1</td>\n",
       "      <td>C'est beau de faire un Show</td>\n",
       "      <td>0BRjO6ga9RKCKjfDqeFgWV</td>\n",
       "      <td>0.611</td>\n",
       "      <td>0.389</td>\n",
       "      <td>99373</td>\n",
       "      <td>0.9100</td>\n",
       "      <td>0.0</td>\n",
       "      <td>C#</td>\n",
       "      <td>0.3460</td>\n",
       "      <td>-1.828</td>\n",
       "      <td>Major</td>\n",
       "      <td>0.0525</td>\n",
       "      <td>166.969</td>\n",
       "      <td>4/4</td>\n",
       "      <td>0.814</td>\n",
       "      <td>0</td>\n",
       "      <td>1</td>\n",
       "      <td>Henri Salvador</td>\n",
       "    </tr>\n",
       "    <tr>\n",
       "      <td>1</td>\n",
       "      <td>2</td>\n",
       "      <td>Dis-moi Monsieur Gordon Cooper</td>\n",
       "      <td>0Gc6TVm52BwZD07Ki6tIvf</td>\n",
       "      <td>0.703</td>\n",
       "      <td>0.240</td>\n",
       "      <td>152427</td>\n",
       "      <td>0.3260</td>\n",
       "      <td>0.0</td>\n",
       "      <td>C#</td>\n",
       "      <td>0.0985</td>\n",
       "      <td>-12.178</td>\n",
       "      <td>Major</td>\n",
       "      <td>0.0395</td>\n",
       "      <td>171.758</td>\n",
       "      <td>4/4</td>\n",
       "      <td>0.227</td>\n",
       "      <td>0</td>\n",
       "      <td>1</td>\n",
       "      <td>Henri Salvador</td>\n",
       "    </tr>\n",
       "    <tr>\n",
       "      <td>2</td>\n",
       "      <td>3</td>\n",
       "      <td>Le petit souper aux chandelles</td>\n",
       "      <td>0Mf1jKa8eNAf1a4PwTbizj</td>\n",
       "      <td>0.749</td>\n",
       "      <td>0.578</td>\n",
       "      <td>160627</td>\n",
       "      <td>0.0948</td>\n",
       "      <td>0.0</td>\n",
       "      <td>C#</td>\n",
       "      <td>0.1070</td>\n",
       "      <td>-14.970</td>\n",
       "      <td>Major</td>\n",
       "      <td>0.1430</td>\n",
       "      <td>87.479</td>\n",
       "      <td>4/4</td>\n",
       "      <td>0.358</td>\n",
       "      <td>0</td>\n",
       "      <td>1</td>\n",
       "      <td>Henri Salvador</td>\n",
       "    </tr>\n",
       "  </tbody>\n",
       "</table>\n",
       "</div>"
      ],
      "text/plain": [
       "   track_id                      track_name              spotify_id  \\\n",
       "0         1     C'est beau de faire un Show  0BRjO6ga9RKCKjfDqeFgWV   \n",
       "1         2  Dis-moi Monsieur Gordon Cooper  0Gc6TVm52BwZD07Ki6tIvf   \n",
       "2         3  Le petit souper aux chandelles  0Mf1jKa8eNAf1a4PwTbizj   \n",
       "\n",
       "   acousticness  danceability  duration_ms  energy  instrumentalness  \\\n",
       "0         0.611         0.389        99373  0.9100               0.0   \n",
       "1         0.703         0.240       152427  0.3260               0.0   \n",
       "2         0.749         0.578       160627  0.0948               0.0   \n",
       "\n",
       "  track_key  liveness  loudness track_mode  speechiness    tempo  \\\n",
       "0        C#    0.3460    -1.828      Major       0.0525  166.969   \n",
       "1        C#    0.0985   -12.178      Major       0.0395  171.758   \n",
       "2        C#    0.1070   -14.970      Major       0.1430   87.479   \n",
       "\n",
       "  time_signature  valence  popularity  artist_id     artist_name  \n",
       "0            4/4    0.814           0          1  Henri Salvador  \n",
       "1            4/4    0.227           0          1  Henri Salvador  \n",
       "2            4/4    0.358           0          1  Henri Salvador  "
      ]
     },
     "execution_count": 7,
     "metadata": {},
     "output_type": "execute_result"
    }
   ],
   "source": [
    "tracks_with_artist = pd.merge(tracks, artists, on='artist_id')\n",
    "tracks_with_artist.rename(columns = {'ID': 'track_id'}, inplace = True)\n",
    "tracks_with_artist.head(3)"
   ]
  },
  {
   "cell_type": "code",
   "execution_count": 8,
   "metadata": {},
   "outputs": [
    {
     "data": {
      "text/html": [
       "<div>\n",
       "<style scoped>\n",
       "    .dataframe tbody tr th:only-of-type {\n",
       "        vertical-align: middle;\n",
       "    }\n",
       "\n",
       "    .dataframe tbody tr th {\n",
       "        vertical-align: top;\n",
       "    }\n",
       "\n",
       "    .dataframe thead th {\n",
       "        text-align: right;\n",
       "    }\n",
       "</style>\n",
       "<table border=\"1\" class=\"dataframe\">\n",
       "  <thead>\n",
       "    <tr style=\"text-align: right;\">\n",
       "      <th></th>\n",
       "      <th>track_id</th>\n",
       "      <th>track_name</th>\n",
       "      <th>spotify_id</th>\n",
       "      <th>acousticness</th>\n",
       "      <th>danceability</th>\n",
       "      <th>duration_ms</th>\n",
       "      <th>energy</th>\n",
       "      <th>instrumentalness</th>\n",
       "      <th>track_key</th>\n",
       "      <th>liveness</th>\n",
       "      <th>...</th>\n",
       "      <th>time_signature</th>\n",
       "      <th>valence</th>\n",
       "      <th>popularity</th>\n",
       "      <th>artist_id</th>\n",
       "      <th>artist_name_x</th>\n",
       "      <th>ID</th>\n",
       "      <th>ranking</th>\n",
       "      <th>artist_name_y</th>\n",
       "      <th>country_name</th>\n",
       "      <th>country_id</th>\n",
       "    </tr>\n",
       "  </thead>\n",
       "  <tbody>\n",
       "    <tr>\n",
       "      <td>0</td>\n",
       "      <td>17481</td>\n",
       "      <td>Desperado</td>\n",
       "      <td>6KFaHC9G178beAp7P0Vi5S</td>\n",
       "      <td>0.323</td>\n",
       "      <td>0.685</td>\n",
       "      <td>186467</td>\n",
       "      <td>0.61</td>\n",
       "      <td>0.0</td>\n",
       "      <td>C</td>\n",
       "      <td>0.102</td>\n",
       "      <td>...</td>\n",
       "      <td>3/4</td>\n",
       "      <td>0.323</td>\n",
       "      <td>63</td>\n",
       "      <td>37</td>\n",
       "      <td>Rihanna</td>\n",
       "      <td>47</td>\n",
       "      <td>17</td>\n",
       "      <td>Rihanna</td>\n",
       "      <td>Jordan</td>\n",
       "      <td>112</td>\n",
       "    </tr>\n",
       "    <tr>\n",
       "      <td>1</td>\n",
       "      <td>17481</td>\n",
       "      <td>Desperado</td>\n",
       "      <td>6KFaHC9G178beAp7P0Vi5S</td>\n",
       "      <td>0.323</td>\n",
       "      <td>0.685</td>\n",
       "      <td>186467</td>\n",
       "      <td>0.61</td>\n",
       "      <td>0.0</td>\n",
       "      <td>C</td>\n",
       "      <td>0.102</td>\n",
       "      <td>...</td>\n",
       "      <td>3/4</td>\n",
       "      <td>0.323</td>\n",
       "      <td>63</td>\n",
       "      <td>37</td>\n",
       "      <td>Rihanna</td>\n",
       "      <td>48</td>\n",
       "      <td>21</td>\n",
       "      <td>Rihanna</td>\n",
       "      <td>Switzerland</td>\n",
       "      <td>213</td>\n",
       "    </tr>\n",
       "    <tr>\n",
       "      <td>2</td>\n",
       "      <td>17481</td>\n",
       "      <td>Desperado</td>\n",
       "      <td>6KFaHC9G178beAp7P0Vi5S</td>\n",
       "      <td>0.323</td>\n",
       "      <td>0.685</td>\n",
       "      <td>186467</td>\n",
       "      <td>0.61</td>\n",
       "      <td>0.0</td>\n",
       "      <td>C</td>\n",
       "      <td>0.102</td>\n",
       "      <td>...</td>\n",
       "      <td>3/4</td>\n",
       "      <td>0.323</td>\n",
       "      <td>63</td>\n",
       "      <td>37</td>\n",
       "      <td>Rihanna</td>\n",
       "      <td>49</td>\n",
       "      <td>22</td>\n",
       "      <td>Rihanna</td>\n",
       "      <td>Spain</td>\n",
       "      <td>206</td>\n",
       "    </tr>\n",
       "  </tbody>\n",
       "</table>\n",
       "<p>3 rows × 24 columns</p>\n",
       "</div>"
      ],
      "text/plain": [
       "   track_id track_name              spotify_id  acousticness  danceability  \\\n",
       "0     17481  Desperado  6KFaHC9G178beAp7P0Vi5S         0.323         0.685   \n",
       "1     17481  Desperado  6KFaHC9G178beAp7P0Vi5S         0.323         0.685   \n",
       "2     17481  Desperado  6KFaHC9G178beAp7P0Vi5S         0.323         0.685   \n",
       "\n",
       "   duration_ms  energy  instrumentalness track_key  liveness  ...  \\\n",
       "0       186467    0.61               0.0         C     0.102  ...   \n",
       "1       186467    0.61               0.0         C     0.102  ...   \n",
       "2       186467    0.61               0.0         C     0.102  ...   \n",
       "\n",
       "   time_signature valence  popularity  artist_id artist_name_x  ID  ranking  \\\n",
       "0             3/4   0.323          63         37       Rihanna  47       17   \n",
       "1             3/4   0.323          63         37       Rihanna  48       21   \n",
       "2             3/4   0.323          63         37       Rihanna  49       22   \n",
       "\n",
       "   artist_name_y country_name  country_id  \n",
       "0        Rihanna       Jordan         112  \n",
       "1        Rihanna  Switzerland         213  \n",
       "2        Rihanna        Spain         206  \n",
       "\n",
       "[3 rows x 24 columns]"
      ]
     },
     "execution_count": 8,
     "metadata": {},
     "output_type": "execute_result"
    }
   ],
   "source": [
    "all_tracks_top_50 = pd.merge(tracks_with_artist, top_50_country, on='artist_id')\n",
    "all_tracks_top_50.head(3)"
   ]
  },
  {
   "cell_type": "code",
   "execution_count": 9,
   "metadata": {},
   "outputs": [],
   "source": [
    "all_tracks = all_tracks_top_50.drop(['spotify_id', 'artist_name_x', 'ID', 'artist_name_y'], axis = 1, inplace = True)"
   ]
  },
  {
   "cell_type": "code",
   "execution_count": 10,
   "metadata": {},
   "outputs": [],
   "source": [
    "#all_tracks.to_csv('all_tracks.csv', sep=\";\")"
   ]
  },
  {
   "cell_type": "markdown",
   "metadata": {},
   "source": [
    "\n",
    "Calculate mean for each 50 songs per country on the different values"
   ]
  },
  {
   "cell_type": "code",
   "execution_count": 11,
   "metadata": {},
   "outputs": [
    {
     "ename": "AttributeError",
     "evalue": "'NoneType' object has no attribute 'country_name'",
     "output_type": "error",
     "traceback": [
      "\u001b[1;31m---------------------------------------------------------------------------\u001b[0m",
      "\u001b[1;31mAttributeError\u001b[0m                            Traceback (most recent call last)",
      "\u001b[1;32m<ipython-input-11-c46446f1efd7>\u001b[0m in \u001b[0;36m<module>\u001b[1;34m\u001b[0m\n\u001b[1;32m----> 1\u001b[1;33m \u001b[0mjordan_tracks\u001b[0m \u001b[1;33m=\u001b[0m \u001b[0mall_tracks\u001b[0m\u001b[1;33m[\u001b[0m\u001b[1;33m(\u001b[0m\u001b[0mall_tracks\u001b[0m\u001b[1;33m.\u001b[0m\u001b[0mcountry_name\u001b[0m \u001b[1;33m==\u001b[0m \u001b[1;34m'Jordan'\u001b[0m\u001b[1;33m)\u001b[0m\u001b[1;33m]\u001b[0m\u001b[1;33m\u001b[0m\u001b[1;33m\u001b[0m\u001b[0m\n\u001b[0m\u001b[0;32m      2\u001b[0m \u001b[0mjordan_means\u001b[0m \u001b[1;33m=\u001b[0m \u001b[0mjordan_tracks\u001b[0m\u001b[1;33m.\u001b[0m\u001b[0mmean\u001b[0m\u001b[1;33m(\u001b[0m\u001b[0maxis\u001b[0m \u001b[1;33m=\u001b[0m \u001b[1;36m0\u001b[0m\u001b[1;33m)\u001b[0m\u001b[1;33m\u001b[0m\u001b[1;33m\u001b[0m\u001b[0m\n",
      "\u001b[1;31mAttributeError\u001b[0m: 'NoneType' object has no attribute 'country_name'"
     ]
    }
   ],
   "source": [
    "jordan_tracks = all_tracks[(all_tracks.country_name == 'Jordan')]\n",
    "jordan_means = jordan_tracks.mean(axis = 0) "
   ]
  },
  {
   "cell_type": "code",
   "execution_count": null,
   "metadata": {},
   "outputs": [],
   "source": [
    "switzerland_tracks = all_tracks[(all_tracks.country_name == 'Switzerland')]\n",
    "switzerland_means = switzerland_tracks.mean(axis = 0) "
   ]
  },
  {
   "cell_type": "code",
   "execution_count": null,
   "metadata": {},
   "outputs": [],
   "source": [
    "spain_tracks = all_tracks[(all_tracks.country_name == 'Spain')]\n",
    "spain_means = spain_tracks.mean(axis = 0) "
   ]
  },
  {
   "cell_type": "code",
   "execution_count": null,
   "metadata": {},
   "outputs": [],
   "source": []
  },
  {
   "cell_type": "markdown",
   "metadata": {},
   "source": [
    "\n",
    "Create compare table"
   ]
  },
  {
   "cell_type": "code",
   "execution_count": null,
   "metadata": {},
   "outputs": [],
   "source": [
    "compare_means = pd.concat([spain_means, switzerland_means, jordan_means], axis = 1)\n",
    "compare_means.columns = ['Spain', 'Switzerland', 'Jordan']"
   ]
  },
  {
   "cell_type": "code",
   "execution_count": null,
   "metadata": {},
   "outputs": [],
   "source": [
    "compare_means.head(3)"
   ]
  },
  {
   "cell_type": "code",
   "execution_count": null,
   "metadata": {},
   "outputs": [],
   "source": [
    "all_tracks[(all_tracks['ranking'] == 28)].groupby('artist_id').count()"
   ]
  },
  {
   "cell_type": "markdown",
   "metadata": {},
   "source": [
    "# Check possible tendencies in music styles in top 50 (per country)"
   ]
  },
  {
   "cell_type": "markdown",
   "metadata": {},
   "source": [
    "### Jordan"
   ]
  },
  {
   "cell_type": "code",
   "execution_count": null,
   "metadata": {
    "scrolled": true
   },
   "outputs": [],
   "source": [
    "jordan_tracks_2 = all_tracks[(all_tracks.country_name == 'Jordan')]\n",
    "jordan_tracks_ordered = jordan_tracks_2.sort_values(by=['ranking'])\n",
    "jordan_tracks_by_artist = jordan_tracks_ordered.groupby(['ranking', 'artist_name']).mean().copy()\n",
    "jordan_tracks_by_artist.drop('artist_id', axis = 1, inplace = True)\n",
    "jordan_tracks_by_artist"
   ]
  },
  {
   "cell_type": "markdown",
   "metadata": {},
   "source": [
    "### Switzerland"
   ]
  },
  {
   "cell_type": "code",
   "execution_count": null,
   "metadata": {
    "scrolled": false
   },
   "outputs": [],
   "source": [
    "switzerland_tracks_2 = all_tracks[(all_tracks.country_name == 'Switzerland')]\n",
    "switzerland_tracks_ordered = switzerland_tracks_2.sort_values(by=['ranking'])\n",
    "switzerland_tracks_by_artist = switzerland_tracks_ordered.groupby(['ranking', 'artist_name']).mean().copy()\n",
    "switzerland_tracks_by_artist.drop('artist_id', axis = 1, inplace = True)\n",
    "switzerland_tracks_by_artist"
   ]
  },
  {
   "cell_type": "code",
   "execution_count": null,
   "metadata": {
    "scrolled": true
   },
   "outputs": [],
   "source": [
    "# sw_for_plot = switzerland_tracks_by_artist.drop('duration_ms', axis = 1, inplace = True)\n",
    "switzerland_tracks_by_artist.plot()"
   ]
  },
  {
   "cell_type": "markdown",
   "metadata": {},
   "source": [
    "### Spain"
   ]
  },
  {
   "cell_type": "code",
   "execution_count": null,
   "metadata": {
    "scrolled": true
   },
   "outputs": [],
   "source": [
    "spain_tracks_2 = all_tracks[(all_tracks.country_name == 'Spain')]\n",
    "spain_tracks_ordered = spain_tracks_2.sort_values(by=['ranking'])\n",
    "spain_tracks_by_artist = spain_tracks_ordered.groupby(['ranking', 'artist_name']).mean().copy()\n",
    "spain_tracks_by_artist.drop('artist_id', axis = 1, inplace = True)\n",
    "spain_tracks_by_artist"
   ]
  },
  {
   "cell_type": "code",
   "execution_count": null,
   "metadata": {},
   "outputs": [],
   "source": [
    "compare_means_clean = compare_means.drop(['duration_ms','artist_id', 'ranking'], axis = 0).copy()"
   ]
  },
  {
   "cell_type": "code",
   "execution_count": null,
   "metadata": {
    "scrolled": true
   },
   "outputs": [],
   "source": [
    "compare_means_clean.plot()"
   ]
  },
  {
   "cell_type": "code",
   "execution_count": null,
   "metadata": {},
   "outputs": [],
   "source": [
    "spain_tracks_by_artist.to_csv('spain_top_50.csv')"
   ]
  }
 ],
 "metadata": {
  "kernelspec": {
   "display_name": "Python 3",
   "language": "python",
   "name": "python3"
  },
  "language_info": {
   "codemirror_mode": {
    "name": "ipython",
    "version": 3
   },
   "file_extension": ".py",
   "mimetype": "text/x-python",
   "name": "python",
   "nbconvert_exporter": "python",
   "pygments_lexer": "ipython3",
   "version": "3.7.4"
  }
 },
 "nbformat": 4,
 "nbformat_minor": 2
}
