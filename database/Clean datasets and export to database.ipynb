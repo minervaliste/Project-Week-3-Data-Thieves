{
 "cells": [
  {
   "cell_type": "code",
   "execution_count": 1,
   "metadata": {},
   "outputs": [],
   "source": [
    "## Import libraries\n",
    "import requests\n",
    "import pandas as pd\n",
    "import pymysql\n",
    "from sqlalchemy import create_engine"
   ]
  },
  {
   "cell_type": "code",
   "execution_count": 2,
   "metadata": {},
   "outputs": [],
   "source": [
    "## Connect to MySQL DB - CLOUD   \n",
    "driver   = 'mysql+pymysql:'\n",
    "user     = #####\n",
    "password = #####\n",
    "ip       = '35.195.172.42' \n",
    "database = 'country_battle' \n",
    "\n",
    "connection_string = f'{driver}//{user}:{password}@{ip}/{database}'\n",
    "engine = create_engine(connection_string)"
   ]
  },
  {
   "cell_type": "markdown",
   "metadata": {},
   "source": [
    "# Countries CSV\n",
    "\n",
    "Create a table with a list of the world countries"
   ]
  },
  {
   "cell_type": "code",
   "execution_count": 3,
   "metadata": {},
   "outputs": [
    {
     "data": {
      "text/html": [
       "<div>\n",
       "<style scoped>\n",
       "    .dataframe tbody tr th:only-of-type {\n",
       "        vertical-align: middle;\n",
       "    }\n",
       "\n",
       "    .dataframe tbody tr th {\n",
       "        vertical-align: top;\n",
       "    }\n",
       "\n",
       "    .dataframe thead th {\n",
       "        text-align: right;\n",
       "    }\n",
       "</style>\n",
       "<table border=\"1\" class=\"dataframe\">\n",
       "  <thead>\n",
       "    <tr style=\"text-align: right;\">\n",
       "      <th></th>\n",
       "      <th>English short name lower case</th>\n",
       "      <th>Alpha-2 code</th>\n",
       "      <th>Alpha-3 code</th>\n",
       "      <th>Numeric code</th>\n",
       "      <th>ISO 3166-2</th>\n",
       "    </tr>\n",
       "  </thead>\n",
       "  <tbody>\n",
       "    <tr>\n",
       "      <td>0</td>\n",
       "      <td>Afghanistan</td>\n",
       "      <td>AF</td>\n",
       "      <td>AFG</td>\n",
       "      <td>4</td>\n",
       "      <td>ISO 3166-2:AF</td>\n",
       "    </tr>\n",
       "    <tr>\n",
       "      <td>1</td>\n",
       "      <td>Åland Islands</td>\n",
       "      <td>AX</td>\n",
       "      <td>ALA</td>\n",
       "      <td>248</td>\n",
       "      <td>ISO 3166-2:AX</td>\n",
       "    </tr>\n",
       "    <tr>\n",
       "      <td>2</td>\n",
       "      <td>Albania</td>\n",
       "      <td>AL</td>\n",
       "      <td>ALB</td>\n",
       "      <td>8</td>\n",
       "      <td>ISO 3166-2:AL</td>\n",
       "    </tr>\n",
       "    <tr>\n",
       "      <td>3</td>\n",
       "      <td>Algeria</td>\n",
       "      <td>DZ</td>\n",
       "      <td>DZA</td>\n",
       "      <td>12</td>\n",
       "      <td>ISO 3166-2:DZ</td>\n",
       "    </tr>\n",
       "    <tr>\n",
       "      <td>4</td>\n",
       "      <td>American Samoa</td>\n",
       "      <td>AS</td>\n",
       "      <td>ASM</td>\n",
       "      <td>16</td>\n",
       "      <td>ISO 3166-2:AS</td>\n",
       "    </tr>\n",
       "    <tr>\n",
       "      <td>...</td>\n",
       "      <td>...</td>\n",
       "      <td>...</td>\n",
       "      <td>...</td>\n",
       "      <td>...</td>\n",
       "      <td>...</td>\n",
       "    </tr>\n",
       "    <tr>\n",
       "      <td>241</td>\n",
       "      <td>Wallis and Futuna</td>\n",
       "      <td>WF</td>\n",
       "      <td>WLF</td>\n",
       "      <td>876</td>\n",
       "      <td>ISO 3166-2:WF</td>\n",
       "    </tr>\n",
       "    <tr>\n",
       "      <td>242</td>\n",
       "      <td>Western Sahara</td>\n",
       "      <td>EH</td>\n",
       "      <td>ESH</td>\n",
       "      <td>732</td>\n",
       "      <td>ISO 3166-2:EH</td>\n",
       "    </tr>\n",
       "    <tr>\n",
       "      <td>243</td>\n",
       "      <td>Yemen</td>\n",
       "      <td>YE</td>\n",
       "      <td>YEM</td>\n",
       "      <td>887</td>\n",
       "      <td>ISO 3166-2:YE</td>\n",
       "    </tr>\n",
       "    <tr>\n",
       "      <td>244</td>\n",
       "      <td>Zambia</td>\n",
       "      <td>ZM</td>\n",
       "      <td>ZMB</td>\n",
       "      <td>894</td>\n",
       "      <td>ISO 3166-2:ZM</td>\n",
       "    </tr>\n",
       "    <tr>\n",
       "      <td>245</td>\n",
       "      <td>Zimbabwe</td>\n",
       "      <td>ZW</td>\n",
       "      <td>ZWE</td>\n",
       "      <td>716</td>\n",
       "      <td>ISO 3166-2:ZW</td>\n",
       "    </tr>\n",
       "  </tbody>\n",
       "</table>\n",
       "<p>246 rows × 5 columns</p>\n",
       "</div>"
      ],
      "text/plain": [
       "    English short name lower case Alpha-2 code Alpha-3 code  Numeric code  \\\n",
       "0                     Afghanistan           AF          AFG             4   \n",
       "1                   Åland Islands           AX          ALA           248   \n",
       "2                         Albania           AL          ALB             8   \n",
       "3                         Algeria           DZ          DZA            12   \n",
       "4                  American Samoa           AS          ASM            16   \n",
       "..                            ...          ...          ...           ...   \n",
       "241             Wallis and Futuna           WF          WLF           876   \n",
       "242                Western Sahara           EH          ESH           732   \n",
       "243                         Yemen           YE          YEM           887   \n",
       "244                        Zambia           ZM          ZMB           894   \n",
       "245                      Zimbabwe           ZW          ZWE           716   \n",
       "\n",
       "        ISO 3166-2  \n",
       "0    ISO 3166-2:AF  \n",
       "1    ISO 3166-2:AX  \n",
       "2    ISO 3166-2:AL  \n",
       "3    ISO 3166-2:DZ  \n",
       "4    ISO 3166-2:AS  \n",
       "..             ...  \n",
       "241  ISO 3166-2:WF  \n",
       "242  ISO 3166-2:EH  \n",
       "243  ISO 3166-2:YE  \n",
       "244  ISO 3166-2:ZM  \n",
       "245  ISO 3166-2:ZW  \n",
       "\n",
       "[246 rows x 5 columns]"
      ]
     },
     "execution_count": 3,
     "metadata": {},
     "output_type": "execute_result"
    }
   ],
   "source": [
    "### https://www.kaggle.com/juanumusic/countries-iso-codes\n",
    "countries = pd.read_csv('../datasets/countries-iso-codes/wikipedia-iso-country-codes.csv')\n",
    "original_countries = countries.copy()\n",
    "countries"
   ]
  },
  {
   "cell_type": "code",
   "execution_count": 4,
   "metadata": {},
   "outputs": [],
   "source": [
    "## Clean table\n",
    "countries.drop(['Alpha-3 code', 'Numeric code', 'ISO 3166-2'], axis = 1, inplace = True)\n",
    "countries.columns = ['country_name', 'alpha_2_code']"
   ]
  },
  {
   "cell_type": "code",
   "execution_count": 5,
   "metadata": {},
   "outputs": [
    {
     "name": "stderr",
     "output_type": "stream",
     "text": [
      "C:\\Users\\miner\\Anaconda3\\lib\\site-packages\\pymysql\\cursors.py:170: Warning: (1366, \"Incorrect string value: '\\\\xE1ndar ...' for column 'VARIABLE_VALUE' at row 1\")\n",
      "  result = self._query(query)\n"
     ]
    }
   ],
   "source": [
    "## Export it to MySQL\n",
    "countries.to_sql('country', con=engine, if_exists = 'append', index = False) "
   ]
  },
  {
   "cell_type": "code",
   "execution_count": 6,
   "metadata": {},
   "outputs": [
    {
     "name": "stdout",
     "output_type": "stream",
     "text": [
      "Len countries after DB:  246\n"
     ]
    }
   ],
   "source": [
    "##Import it back with the table PK\n",
    "countries_with_id = pd.read_sql('country', engine)\n",
    "print('Len countries after DB: ', len(countries_with_id))"
   ]
  },
  {
   "cell_type": "markdown",
   "metadata": {},
   "source": [
    "# Spotify CSV\n",
    "\n",
    "Create tables: track, artist and genre. Create track-genre relationship table."
   ]
  },
  {
   "cell_type": "markdown",
   "metadata": {},
   "source": [
    "### Import raw CSV"
   ]
  },
  {
   "cell_type": "code",
   "execution_count": 7,
   "metadata": {},
   "outputs": [],
   "source": [
    "### https://www.kaggle.com/zaheenhamidani/ultimate-spotify-tracks-db\n",
    "raw_data = pd.read_csv('../datasets/ultimate_spotify_tracks_db/SpotifyFeatures.csv')\n",
    "original_raw_data = pd.read_csv('../datasets/ultimate_spotify_tracks_db/SpotifyFeatures.csv')"
   ]
  },
  {
   "cell_type": "code",
   "execution_count": 8,
   "metadata": {},
   "outputs": [
    {
     "data": {
      "text/html": [
       "<div>\n",
       "<style scoped>\n",
       "    .dataframe tbody tr th:only-of-type {\n",
       "        vertical-align: middle;\n",
       "    }\n",
       "\n",
       "    .dataframe tbody tr th {\n",
       "        vertical-align: top;\n",
       "    }\n",
       "\n",
       "    .dataframe thead th {\n",
       "        text-align: right;\n",
       "    }\n",
       "</style>\n",
       "<table border=\"1\" class=\"dataframe\">\n",
       "  <thead>\n",
       "    <tr style=\"text-align: right;\">\n",
       "      <th></th>\n",
       "      <th>genre</th>\n",
       "      <th>artist_name</th>\n",
       "      <th>track_name</th>\n",
       "      <th>track_id</th>\n",
       "      <th>popularity</th>\n",
       "      <th>acousticness</th>\n",
       "      <th>danceability</th>\n",
       "      <th>duration_ms</th>\n",
       "      <th>energy</th>\n",
       "      <th>instrumentalness</th>\n",
       "      <th>key</th>\n",
       "      <th>liveness</th>\n",
       "      <th>loudness</th>\n",
       "      <th>mode</th>\n",
       "      <th>speechiness</th>\n",
       "      <th>tempo</th>\n",
       "      <th>time_signature</th>\n",
       "      <th>valence</th>\n",
       "    </tr>\n",
       "  </thead>\n",
       "  <tbody>\n",
       "    <tr>\n",
       "      <td>0</td>\n",
       "      <td>Movie</td>\n",
       "      <td>Henri Salvador</td>\n",
       "      <td>C'est beau de faire un Show</td>\n",
       "      <td>0BRjO6ga9RKCKjfDqeFgWV</td>\n",
       "      <td>0</td>\n",
       "      <td>0.611</td>\n",
       "      <td>0.389</td>\n",
       "      <td>99373</td>\n",
       "      <td>0.910</td>\n",
       "      <td>0.0</td>\n",
       "      <td>C#</td>\n",
       "      <td>0.346</td>\n",
       "      <td>-1.828</td>\n",
       "      <td>Major</td>\n",
       "      <td>0.0525</td>\n",
       "      <td>166.969</td>\n",
       "      <td>4/4</td>\n",
       "      <td>0.814</td>\n",
       "    </tr>\n",
       "    <tr>\n",
       "      <td>1</td>\n",
       "      <td>Movie</td>\n",
       "      <td>Martin &amp; les fées</td>\n",
       "      <td>Perdu d'avance (par Gad Elmaleh)</td>\n",
       "      <td>0BjC1NfoEOOusryehmNudP</td>\n",
       "      <td>1</td>\n",
       "      <td>0.246</td>\n",
       "      <td>0.590</td>\n",
       "      <td>137373</td>\n",
       "      <td>0.737</td>\n",
       "      <td>0.0</td>\n",
       "      <td>F#</td>\n",
       "      <td>0.151</td>\n",
       "      <td>-5.559</td>\n",
       "      <td>Minor</td>\n",
       "      <td>0.0868</td>\n",
       "      <td>174.003</td>\n",
       "      <td>4/4</td>\n",
       "      <td>0.816</td>\n",
       "    </tr>\n",
       "    <tr>\n",
       "      <td>2</td>\n",
       "      <td>Movie</td>\n",
       "      <td>Joseph Williams</td>\n",
       "      <td>Don't Let Me Be Lonely Tonight</td>\n",
       "      <td>0CoSDzoNIKCRs124s9uTVy</td>\n",
       "      <td>3</td>\n",
       "      <td>0.952</td>\n",
       "      <td>0.663</td>\n",
       "      <td>170267</td>\n",
       "      <td>0.131</td>\n",
       "      <td>0.0</td>\n",
       "      <td>C</td>\n",
       "      <td>0.103</td>\n",
       "      <td>-13.879</td>\n",
       "      <td>Minor</td>\n",
       "      <td>0.0362</td>\n",
       "      <td>99.488</td>\n",
       "      <td>5/4</td>\n",
       "      <td>0.368</td>\n",
       "    </tr>\n",
       "  </tbody>\n",
       "</table>\n",
       "</div>"
      ],
      "text/plain": [
       "   genre        artist_name                        track_name  \\\n",
       "0  Movie     Henri Salvador       C'est beau de faire un Show   \n",
       "1  Movie  Martin & les fées  Perdu d'avance (par Gad Elmaleh)   \n",
       "2  Movie    Joseph Williams    Don't Let Me Be Lonely Tonight   \n",
       "\n",
       "                 track_id  popularity  acousticness  danceability  \\\n",
       "0  0BRjO6ga9RKCKjfDqeFgWV           0         0.611         0.389   \n",
       "1  0BjC1NfoEOOusryehmNudP           1         0.246         0.590   \n",
       "2  0CoSDzoNIKCRs124s9uTVy           3         0.952         0.663   \n",
       "\n",
       "   duration_ms  energy  instrumentalness key  liveness  loudness   mode  \\\n",
       "0        99373   0.910               0.0  C#     0.346    -1.828  Major   \n",
       "1       137373   0.737               0.0  F#     0.151    -5.559  Minor   \n",
       "2       170267   0.131               0.0   C     0.103   -13.879  Minor   \n",
       "\n",
       "   speechiness    tempo time_signature  valence  \n",
       "0       0.0525  166.969            4/4    0.814  \n",
       "1       0.0868  174.003            4/4    0.816  \n",
       "2       0.0362   99.488            5/4    0.368  "
      ]
     },
     "execution_count": 8,
     "metadata": {},
     "output_type": "execute_result"
    }
   ],
   "source": [
    "raw_data.head(3)"
   ]
  },
  {
   "cell_type": "code",
   "execution_count": 9,
   "metadata": {},
   "outputs": [
    {
     "name": "stdout",
     "output_type": "stream",
     "text": [
      "<class 'pandas.core.frame.DataFrame'>\n",
      "RangeIndex: 232725 entries, 0 to 232724\n",
      "Data columns (total 18 columns):\n",
      "genre               232725 non-null object\n",
      "artist_name         232725 non-null object\n",
      "track_name          232725 non-null object\n",
      "track_id            232725 non-null object\n",
      "popularity          232725 non-null int64\n",
      "acousticness        232725 non-null float64\n",
      "danceability        232725 non-null float64\n",
      "duration_ms         232725 non-null int64\n",
      "energy              232725 non-null float64\n",
      "instrumentalness    232725 non-null float64\n",
      "key                 232725 non-null object\n",
      "liveness            232725 non-null float64\n",
      "loudness            232725 non-null float64\n",
      "mode                232725 non-null object\n",
      "speechiness         232725 non-null float64\n",
      "tempo               232725 non-null float64\n",
      "time_signature      232725 non-null object\n",
      "valence             232725 non-null float64\n",
      "dtypes: float64(9), int64(2), object(7)\n",
      "memory usage: 32.0+ MB\n"
     ]
    }
   ],
   "source": [
    "raw_data.info()"
   ]
  },
  {
   "cell_type": "code",
   "execution_count": 10,
   "metadata": {},
   "outputs": [
    {
     "data": {
      "text/plain": [
       "Index(['genre', 'artist_name', 'track_name', 'track_id', 'popularity',\n",
       "       'acousticness', 'danceability', 'duration_ms', 'energy',\n",
       "       'instrumentalness', 'key', 'liveness', 'loudness', 'mode',\n",
       "       'speechiness', 'tempo', 'time_signature', 'valence'],\n",
       "      dtype='object')"
      ]
     },
     "execution_count": 10,
     "metadata": {},
     "output_type": "execute_result"
    }
   ],
   "source": [
    "raw_data.columns"
   ]
  },
  {
   "cell_type": "markdown",
   "metadata": {},
   "source": [
    "### Explore CSV normalization needs"
   ]
  },
  {
   "cell_type": "code",
   "execution_count": 11,
   "metadata": {
    "scrolled": false
   },
   "outputs": [
    {
     "name": "stdout",
     "output_type": "stream",
     "text": [
      "['Movie' 'R&B' 'A Capella' 'Alternative' 'Country' 'Dance' 'Electronic'\n",
      " 'Anime' 'Folk' 'Blues' 'Opera' 'Hip-Hop' \"Children's Music\"\n",
      " 'Children’s Music' 'Rap' 'Indie' 'Classical' 'Pop' 'Reggae' 'Reggaeton'\n",
      " 'Jazz' 'Rock' 'Ska' 'Comedy' 'Soul' 'Soundtrack' 'World']\n"
     ]
    }
   ],
   "source": [
    "## Check if each genre is unique\n",
    "unique_genres = raw_data.genre.unique()\n",
    "print(unique_genres)"
   ]
  },
  {
   "cell_type": "code",
   "execution_count": 12,
   "metadata": {},
   "outputs": [
    {
     "name": "stdout",
     "output_type": "stream",
     "text": [
      "Raw data DF length after genre replace:  232725\n"
     ]
    }
   ],
   "source": [
    "## Unify values 'Children's Music' and 'Children’s Music' in genre column\n",
    "## Also in the original data as this is not a manipulation of data but a correction\n",
    "raw_data['genre'].replace('Children’s Music', 'Children\\'s Music', inplace = True)\n",
    "original_raw_data['genre'].replace('Children’s Music', 'Children\\'s Music', inplace = True)\n",
    "print('Raw data DF length after genre replace: ', len(raw_data))"
   ]
  },
  {
   "cell_type": "code",
   "execution_count": 13,
   "metadata": {},
   "outputs": [
    {
     "name": "stdout",
     "output_type": "stream",
     "text": [
      "Raw data DF length after genre replace:  232725\n"
     ]
    }
   ],
   "source": [
    "## Normalize all artist names -- we will titlecase them as a first mesasure to ensure that different spellings don't \n",
    "## create duplicates\n",
    "raw_data['artist_name'] = raw_data['artist_name'].apply(lambda x : x.title())\n",
    "original_raw_data['artist_name'] = original_raw_data['artist_name'].apply(lambda x : x.title())\n",
    "print('Raw data DF length after genre replace: ', len(raw_data))"
   ]
  },
  {
   "cell_type": "code",
   "execution_count": 14,
   "metadata": {},
   "outputs": [
    {
     "name": "stdout",
     "output_type": "stream",
     "text": [
      "Raw data DF length after genre replace:  232725\n"
     ]
    }
   ],
   "source": [
    "## Normalize all tracks names -- we will titlecase them as a first mesasure to ensure that different spellings don't \n",
    "## create duplicates\n",
    "raw_data['track_name'] = raw_data['track_name'].apply(lambda x : x.title())\n",
    "original_raw_data['track_name'] = original_raw_data['track_name'].apply(lambda x : x.title())\n",
    "print('Raw data DF length after genre replace: ', len(raw_data))"
   ]
  },
  {
   "cell_type": "markdown",
   "metadata": {},
   "source": [
    "### Create artists table"
   ]
  },
  {
   "cell_type": "code",
   "execution_count": 15,
   "metadata": {},
   "outputs": [
    {
     "name": "stdout",
     "output_type": "stream",
     "text": [
      "Len artist name:  232725\n"
     ]
    }
   ],
   "source": [
    "## Extract series 'artist_name' from the raw data\n",
    "artists = raw_data['artist_name'].copy()\n",
    "print('Len artist name: ', len(artists))"
   ]
  },
  {
   "cell_type": "code",
   "execution_count": 16,
   "metadata": {},
   "outputs": [
    {
     "name": "stdout",
     "output_type": "stream",
     "text": [
      "Len artist name unique:  14561\n"
     ]
    }
   ],
   "source": [
    "## Delete duplicated values\n",
    "artists.drop_duplicates(keep='first', inplace=True)\n",
    "print('Len artist name unique: ', len(artists))"
   ]
  },
  {
   "cell_type": "code",
   "execution_count": 17,
   "metadata": {},
   "outputs": [],
   "source": [
    "## Export it to MySQL\n",
    "artists.to_sql('artist', con=engine, if_exists = 'append', index = False) "
   ]
  },
  {
   "cell_type": "code",
   "execution_count": 18,
   "metadata": {},
   "outputs": [
    {
     "name": "stdout",
     "output_type": "stream",
     "text": [
      "Len artists after DB:  14561\n"
     ]
    }
   ],
   "source": [
    "##Import it back with the table PK\n",
    "artists_with_id = pd.read_sql('artist', engine)\n",
    "print('Len artists after DB: ', len(artists_with_id))"
   ]
  },
  {
   "cell_type": "code",
   "execution_count": 19,
   "metadata": {},
   "outputs": [],
   "source": [
    "##Add the artist_id to the raw table\n",
    "raw_with_artist_id = pd.merge(raw_data, artists_with_id, on='artist_name')"
   ]
  },
  {
   "cell_type": "code",
   "execution_count": 20,
   "metadata": {},
   "outputs": [],
   "source": [
    "##Change name of artist_id column\n",
    "raw_with_artist_id = raw_with_artist_id.rename(columns={'ID':'artist_id'})"
   ]
  },
  {
   "cell_type": "code",
   "execution_count": 21,
   "metadata": {},
   "outputs": [
    {
     "data": {
      "text/html": [
       "<div>\n",
       "<style scoped>\n",
       "    .dataframe tbody tr th:only-of-type {\n",
       "        vertical-align: middle;\n",
       "    }\n",
       "\n",
       "    .dataframe tbody tr th {\n",
       "        vertical-align: top;\n",
       "    }\n",
       "\n",
       "    .dataframe thead th {\n",
       "        text-align: right;\n",
       "    }\n",
       "</style>\n",
       "<table border=\"1\" class=\"dataframe\">\n",
       "  <thead>\n",
       "    <tr style=\"text-align: right;\">\n",
       "      <th></th>\n",
       "      <th>genre</th>\n",
       "      <th>artist_name</th>\n",
       "      <th>track_name</th>\n",
       "      <th>track_id</th>\n",
       "      <th>popularity</th>\n",
       "      <th>acousticness</th>\n",
       "      <th>danceability</th>\n",
       "      <th>duration_ms</th>\n",
       "      <th>energy</th>\n",
       "      <th>instrumentalness</th>\n",
       "      <th>key</th>\n",
       "      <th>liveness</th>\n",
       "      <th>loudness</th>\n",
       "      <th>mode</th>\n",
       "      <th>speechiness</th>\n",
       "      <th>tempo</th>\n",
       "      <th>time_signature</th>\n",
       "      <th>valence</th>\n",
       "      <th>artist_id</th>\n",
       "    </tr>\n",
       "  </thead>\n",
       "  <tbody>\n",
       "    <tr>\n",
       "      <td>0</td>\n",
       "      <td>Movie</td>\n",
       "      <td>Henri Salvador</td>\n",
       "      <td>C'Est Beau De Faire Un Show</td>\n",
       "      <td>0BRjO6ga9RKCKjfDqeFgWV</td>\n",
       "      <td>0</td>\n",
       "      <td>0.611</td>\n",
       "      <td>0.389</td>\n",
       "      <td>99373</td>\n",
       "      <td>0.9100</td>\n",
       "      <td>0.0</td>\n",
       "      <td>C#</td>\n",
       "      <td>0.3460</td>\n",
       "      <td>-1.828</td>\n",
       "      <td>Major</td>\n",
       "      <td>0.0525</td>\n",
       "      <td>166.969</td>\n",
       "      <td>4/4</td>\n",
       "      <td>0.814</td>\n",
       "      <td>1</td>\n",
       "    </tr>\n",
       "    <tr>\n",
       "      <td>1</td>\n",
       "      <td>Movie</td>\n",
       "      <td>Henri Salvador</td>\n",
       "      <td>Dis-Moi Monsieur Gordon Cooper</td>\n",
       "      <td>0Gc6TVm52BwZD07Ki6tIvf</td>\n",
       "      <td>0</td>\n",
       "      <td>0.703</td>\n",
       "      <td>0.240</td>\n",
       "      <td>152427</td>\n",
       "      <td>0.3260</td>\n",
       "      <td>0.0</td>\n",
       "      <td>C#</td>\n",
       "      <td>0.0985</td>\n",
       "      <td>-12.178</td>\n",
       "      <td>Major</td>\n",
       "      <td>0.0395</td>\n",
       "      <td>171.758</td>\n",
       "      <td>4/4</td>\n",
       "      <td>0.227</td>\n",
       "      <td>1</td>\n",
       "    </tr>\n",
       "    <tr>\n",
       "      <td>2</td>\n",
       "      <td>Movie</td>\n",
       "      <td>Henri Salvador</td>\n",
       "      <td>Le Petit Souper Aux Chandelles</td>\n",
       "      <td>0Mf1jKa8eNAf1a4PwTbizj</td>\n",
       "      <td>0</td>\n",
       "      <td>0.749</td>\n",
       "      <td>0.578</td>\n",
       "      <td>160627</td>\n",
       "      <td>0.0948</td>\n",
       "      <td>0.0</td>\n",
       "      <td>C#</td>\n",
       "      <td>0.1070</td>\n",
       "      <td>-14.970</td>\n",
       "      <td>Major</td>\n",
       "      <td>0.1430</td>\n",
       "      <td>87.479</td>\n",
       "      <td>4/4</td>\n",
       "      <td>0.358</td>\n",
       "      <td>1</td>\n",
       "    </tr>\n",
       "  </tbody>\n",
       "</table>\n",
       "</div>"
      ],
      "text/plain": [
       "   genre     artist_name                      track_name  \\\n",
       "0  Movie  Henri Salvador     C'Est Beau De Faire Un Show   \n",
       "1  Movie  Henri Salvador  Dis-Moi Monsieur Gordon Cooper   \n",
       "2  Movie  Henri Salvador  Le Petit Souper Aux Chandelles   \n",
       "\n",
       "                 track_id  popularity  acousticness  danceability  \\\n",
       "0  0BRjO6ga9RKCKjfDqeFgWV           0         0.611         0.389   \n",
       "1  0Gc6TVm52BwZD07Ki6tIvf           0         0.703         0.240   \n",
       "2  0Mf1jKa8eNAf1a4PwTbizj           0         0.749         0.578   \n",
       "\n",
       "   duration_ms  energy  instrumentalness key  liveness  loudness   mode  \\\n",
       "0        99373  0.9100               0.0  C#    0.3460    -1.828  Major   \n",
       "1       152427  0.3260               0.0  C#    0.0985   -12.178  Major   \n",
       "2       160627  0.0948               0.0  C#    0.1070   -14.970  Major   \n",
       "\n",
       "   speechiness    tempo time_signature  valence  artist_id  \n",
       "0       0.0525  166.969            4/4    0.814          1  \n",
       "1       0.0395  171.758            4/4    0.227          1  \n",
       "2       0.1430   87.479            4/4    0.358          1  "
      ]
     },
     "execution_count": 21,
     "metadata": {},
     "output_type": "execute_result"
    }
   ],
   "source": [
    "##Check changes on the raw_table\n",
    "raw_with_artist_id.head(3)"
   ]
  },
  {
   "cell_type": "code",
   "execution_count": 22,
   "metadata": {},
   "outputs": [
    {
     "name": "stdout",
     "output_type": "stream",
     "text": [
      "Raw data DF length after adding artist ID:  232725\n"
     ]
    }
   ],
   "source": [
    "print('Raw data DF length after adding artist ID: ', len(raw_with_artist_id))"
   ]
  },
  {
   "cell_type": "markdown",
   "metadata": {},
   "source": [
    "### Create genre table"
   ]
  },
  {
   "cell_type": "code",
   "execution_count": 23,
   "metadata": {
    "scrolled": true
   },
   "outputs": [
    {
     "name": "stdout",
     "output_type": "stream",
     "text": [
      "Len genres:  232725\n"
     ]
    }
   ],
   "source": [
    "## Extract series 'genre' from the raw data\n",
    "genres = raw_data['genre'].copy()\n",
    "print('Len genres: ', len(genres))"
   ]
  },
  {
   "cell_type": "code",
   "execution_count": 24,
   "metadata": {},
   "outputs": [
    {
     "name": "stdout",
     "output_type": "stream",
     "text": [
      "Len genres unique:  26\n"
     ]
    }
   ],
   "source": [
    "## Delete duplicated values\n",
    "genres.drop_duplicates(keep='first', inplace=True)\n",
    "print('Len genres unique: ', len(genres))"
   ]
  },
  {
   "cell_type": "code",
   "execution_count": 25,
   "metadata": {},
   "outputs": [],
   "source": [
    "## Change name of column 'name' to 'genre_name'\n",
    "genres.name = 'genre_name' "
   ]
  },
  {
   "cell_type": "code",
   "execution_count": 26,
   "metadata": {},
   "outputs": [],
   "source": [
    "## Export it to MySQL\n",
    "genres.to_sql('genre', con=engine, if_exists = 'append', index = False) "
   ]
  },
  {
   "cell_type": "code",
   "execution_count": 27,
   "metadata": {},
   "outputs": [
    {
     "name": "stdout",
     "output_type": "stream",
     "text": [
      "Len genres after DB:  26\n"
     ]
    }
   ],
   "source": [
    "##Import it back with the table PK\n",
    "genres_with_id = pd.read_sql('genre', engine)\n",
    "print('Len genres after DB: ', len(genres_with_id))"
   ]
  },
  {
   "cell_type": "code",
   "execution_count": 28,
   "metadata": {},
   "outputs": [
    {
     "data": {
      "text/html": [
       "<div>\n",
       "<style scoped>\n",
       "    .dataframe tbody tr th:only-of-type {\n",
       "        vertical-align: middle;\n",
       "    }\n",
       "\n",
       "    .dataframe tbody tr th {\n",
       "        vertical-align: top;\n",
       "    }\n",
       "\n",
       "    .dataframe thead th {\n",
       "        text-align: right;\n",
       "    }\n",
       "</style>\n",
       "<table border=\"1\" class=\"dataframe\">\n",
       "  <thead>\n",
       "    <tr style=\"text-align: right;\">\n",
       "      <th></th>\n",
       "      <th>ID</th>\n",
       "      <th>genre</th>\n",
       "    </tr>\n",
       "  </thead>\n",
       "  <tbody>\n",
       "    <tr>\n",
       "      <td>0</td>\n",
       "      <td>1</td>\n",
       "      <td>Movie</td>\n",
       "    </tr>\n",
       "    <tr>\n",
       "      <td>1</td>\n",
       "      <td>2</td>\n",
       "      <td>R&amp;B</td>\n",
       "    </tr>\n",
       "    <tr>\n",
       "      <td>2</td>\n",
       "      <td>3</td>\n",
       "      <td>A Capella</td>\n",
       "    </tr>\n",
       "  </tbody>\n",
       "</table>\n",
       "</div>"
      ],
      "text/plain": [
       "   ID      genre\n",
       "0   1      Movie\n",
       "1   2        R&B\n",
       "2   3  A Capella"
      ]
     },
     "execution_count": 28,
     "metadata": {},
     "output_type": "execute_result"
    }
   ],
   "source": [
    "genres_with_id = genres_with_id.rename(columns={'genre_name':'genre'})\n",
    "genres_with_id.head(3)"
   ]
  },
  {
   "cell_type": "code",
   "execution_count": 29,
   "metadata": {},
   "outputs": [],
   "source": [
    "##Add the genre_id to the raw table\n",
    "raw_with_artist_genre_id = pd.merge(raw_with_artist_id, genres_with_id, on='genre')"
   ]
  },
  {
   "cell_type": "code",
   "execution_count": 30,
   "metadata": {},
   "outputs": [
    {
     "data": {
      "text/html": [
       "<div>\n",
       "<style scoped>\n",
       "    .dataframe tbody tr th:only-of-type {\n",
       "        vertical-align: middle;\n",
       "    }\n",
       "\n",
       "    .dataframe tbody tr th {\n",
       "        vertical-align: top;\n",
       "    }\n",
       "\n",
       "    .dataframe thead th {\n",
       "        text-align: right;\n",
       "    }\n",
       "</style>\n",
       "<table border=\"1\" class=\"dataframe\">\n",
       "  <thead>\n",
       "    <tr style=\"text-align: right;\">\n",
       "      <th></th>\n",
       "      <th>genre</th>\n",
       "      <th>artist_name</th>\n",
       "      <th>track_name</th>\n",
       "      <th>track_id</th>\n",
       "      <th>popularity</th>\n",
       "      <th>acousticness</th>\n",
       "      <th>danceability</th>\n",
       "      <th>duration_ms</th>\n",
       "      <th>energy</th>\n",
       "      <th>instrumentalness</th>\n",
       "      <th>key</th>\n",
       "      <th>liveness</th>\n",
       "      <th>loudness</th>\n",
       "      <th>mode</th>\n",
       "      <th>speechiness</th>\n",
       "      <th>tempo</th>\n",
       "      <th>time_signature</th>\n",
       "      <th>valence</th>\n",
       "      <th>artist_id</th>\n",
       "      <th>genre_id</th>\n",
       "    </tr>\n",
       "  </thead>\n",
       "  <tbody>\n",
       "    <tr>\n",
       "      <td>0</td>\n",
       "      <td>Movie</td>\n",
       "      <td>Henri Salvador</td>\n",
       "      <td>C'Est Beau De Faire Un Show</td>\n",
       "      <td>0BRjO6ga9RKCKjfDqeFgWV</td>\n",
       "      <td>0</td>\n",
       "      <td>0.611</td>\n",
       "      <td>0.389</td>\n",
       "      <td>99373</td>\n",
       "      <td>0.9100</td>\n",
       "      <td>0.0</td>\n",
       "      <td>C#</td>\n",
       "      <td>0.3460</td>\n",
       "      <td>-1.828</td>\n",
       "      <td>Major</td>\n",
       "      <td>0.0525</td>\n",
       "      <td>166.969</td>\n",
       "      <td>4/4</td>\n",
       "      <td>0.814</td>\n",
       "      <td>1</td>\n",
       "      <td>1</td>\n",
       "    </tr>\n",
       "    <tr>\n",
       "      <td>1</td>\n",
       "      <td>Movie</td>\n",
       "      <td>Henri Salvador</td>\n",
       "      <td>Dis-Moi Monsieur Gordon Cooper</td>\n",
       "      <td>0Gc6TVm52BwZD07Ki6tIvf</td>\n",
       "      <td>0</td>\n",
       "      <td>0.703</td>\n",
       "      <td>0.240</td>\n",
       "      <td>152427</td>\n",
       "      <td>0.3260</td>\n",
       "      <td>0.0</td>\n",
       "      <td>C#</td>\n",
       "      <td>0.0985</td>\n",
       "      <td>-12.178</td>\n",
       "      <td>Major</td>\n",
       "      <td>0.0395</td>\n",
       "      <td>171.758</td>\n",
       "      <td>4/4</td>\n",
       "      <td>0.227</td>\n",
       "      <td>1</td>\n",
       "      <td>1</td>\n",
       "    </tr>\n",
       "    <tr>\n",
       "      <td>2</td>\n",
       "      <td>Movie</td>\n",
       "      <td>Henri Salvador</td>\n",
       "      <td>Le Petit Souper Aux Chandelles</td>\n",
       "      <td>0Mf1jKa8eNAf1a4PwTbizj</td>\n",
       "      <td>0</td>\n",
       "      <td>0.749</td>\n",
       "      <td>0.578</td>\n",
       "      <td>160627</td>\n",
       "      <td>0.0948</td>\n",
       "      <td>0.0</td>\n",
       "      <td>C#</td>\n",
       "      <td>0.1070</td>\n",
       "      <td>-14.970</td>\n",
       "      <td>Major</td>\n",
       "      <td>0.1430</td>\n",
       "      <td>87.479</td>\n",
       "      <td>4/4</td>\n",
       "      <td>0.358</td>\n",
       "      <td>1</td>\n",
       "      <td>1</td>\n",
       "    </tr>\n",
       "  </tbody>\n",
       "</table>\n",
       "</div>"
      ],
      "text/plain": [
       "   genre     artist_name                      track_name  \\\n",
       "0  Movie  Henri Salvador     C'Est Beau De Faire Un Show   \n",
       "1  Movie  Henri Salvador  Dis-Moi Monsieur Gordon Cooper   \n",
       "2  Movie  Henri Salvador  Le Petit Souper Aux Chandelles   \n",
       "\n",
       "                 track_id  popularity  acousticness  danceability  \\\n",
       "0  0BRjO6ga9RKCKjfDqeFgWV           0         0.611         0.389   \n",
       "1  0Gc6TVm52BwZD07Ki6tIvf           0         0.703         0.240   \n",
       "2  0Mf1jKa8eNAf1a4PwTbizj           0         0.749         0.578   \n",
       "\n",
       "   duration_ms  energy  instrumentalness key  liveness  loudness   mode  \\\n",
       "0        99373  0.9100               0.0  C#    0.3460    -1.828  Major   \n",
       "1       152427  0.3260               0.0  C#    0.0985   -12.178  Major   \n",
       "2       160627  0.0948               0.0  C#    0.1070   -14.970  Major   \n",
       "\n",
       "   speechiness    tempo time_signature  valence  artist_id  genre_id  \n",
       "0       0.0525  166.969            4/4    0.814          1         1  \n",
       "1       0.0395  171.758            4/4    0.227          1         1  \n",
       "2       0.1430   87.479            4/4    0.358          1         1  "
      ]
     },
     "execution_count": 30,
     "metadata": {},
     "output_type": "execute_result"
    }
   ],
   "source": [
    "##Change name of genre_id column\n",
    "raw_with_artist_genre_id = raw_with_artist_genre_id.rename(columns={'ID':'genre_id'})\n",
    "raw_with_artist_genre_id.head(3)"
   ]
  },
  {
   "cell_type": "code",
   "execution_count": 31,
   "metadata": {},
   "outputs": [
    {
     "name": "stdout",
     "output_type": "stream",
     "text": [
      "Raw data DF length after adding genre ID:  232725\n"
     ]
    }
   ],
   "source": [
    "print('Raw data DF length after adding genre ID: ', len(raw_with_artist_genre_id))"
   ]
  },
  {
   "cell_type": "markdown",
   "metadata": {},
   "source": [
    "\n",
    "### Create track table\n",
    "\n",
    "Track table should include all the information on the tracks + the artist ID as a FK"
   ]
  },
  {
   "cell_type": "code",
   "execution_count": 32,
   "metadata": {},
   "outputs": [],
   "source": [
    "## We will create a copy of the original data to work, so we ensure that the records have not been altered.\n",
    "raw_data_2 = original_raw_data.copy()"
   ]
  },
  {
   "cell_type": "code",
   "execution_count": 33,
   "metadata": {},
   "outputs": [
    {
     "data": {
      "text/plain": [
       "176774"
      ]
     },
     "execution_count": 33,
     "metadata": {},
     "output_type": "execute_result"
    }
   ],
   "source": [
    "##Check duplicates. Track name is not optimal, as we can assume that some tracks may have the same title, but be different\n",
    "##songs, by different artists. Luckily, we have the Spotify ID, which will identify each song uniquely. \n",
    "\n",
    "##Count unique values on track_id column\n",
    "len(raw_data_2.track_id.unique())"
   ]
  },
  {
   "cell_type": "markdown",
   "metadata": {},
   "source": [
    "#### Clean duplicates: drop genre"
   ]
  },
  {
   "cell_type": "code",
   "execution_count": 34,
   "metadata": {},
   "outputs": [
    {
     "data": {
      "text/plain": [
       "191049"
      ]
     },
     "execution_count": 34,
     "metadata": {},
     "output_type": "execute_result"
    }
   ],
   "source": [
    "## First intuition will be to consider that a song can belong to many genres, therefore creating several rows in the CSV.\n",
    "\n",
    "## Drop genre column and drop duplicates after not considering that column\n",
    "raw_data_no_genre = raw_data_2[raw_data_2.columns[1:]].copy()\n",
    "raw_data_no_genre = raw_data_no_genre.drop_duplicates()\n",
    "len(raw_data_no_genre)"
   ]
  },
  {
   "cell_type": "markdown",
   "metadata": {},
   "source": [
    "#### Clean duplicates: average popularity"
   ]
  },
  {
   "cell_type": "code",
   "execution_count": 35,
   "metadata": {},
   "outputs": [
    {
     "data": {
      "text/html": [
       "<div>\n",
       "<style scoped>\n",
       "    .dataframe tbody tr th:only-of-type {\n",
       "        vertical-align: middle;\n",
       "    }\n",
       "\n",
       "    .dataframe tbody tr th {\n",
       "        vertical-align: top;\n",
       "    }\n",
       "\n",
       "    .dataframe thead th {\n",
       "        text-align: right;\n",
       "    }\n",
       "</style>\n",
       "<table border=\"1\" class=\"dataframe\">\n",
       "  <thead>\n",
       "    <tr style=\"text-align: right;\">\n",
       "      <th></th>\n",
       "      <th>index</th>\n",
       "      <th>track_id</th>\n",
       "    </tr>\n",
       "  </thead>\n",
       "  <tbody>\n",
       "    <tr>\n",
       "      <td>0</td>\n",
       "      <td>2QOcDtnLi8V3aBjq4m7dbI</td>\n",
       "      <td>3</td>\n",
       "    </tr>\n",
       "    <tr>\n",
       "      <td>1</td>\n",
       "      <td>16DhvbuyvJob4Q9GHNYu2n</td>\n",
       "      <td>3</td>\n",
       "    </tr>\n",
       "    <tr>\n",
       "      <td>2</td>\n",
       "      <td>4dVbhS6OiYvFikshyaQaCN</td>\n",
       "      <td>3</td>\n",
       "    </tr>\n",
       "    <tr>\n",
       "      <td>3</td>\n",
       "      <td>5HPnumlogzZtpLEaORZjz1</td>\n",
       "      <td>3</td>\n",
       "    </tr>\n",
       "    <tr>\n",
       "      <td>4</td>\n",
       "      <td>6kayAD8DHrHe1bn5Russar</td>\n",
       "      <td>3</td>\n",
       "    </tr>\n",
       "    <tr>\n",
       "      <td>...</td>\n",
       "      <td>...</td>\n",
       "      <td>...</td>\n",
       "    </tr>\n",
       "    <tr>\n",
       "      <td>176769</td>\n",
       "      <td>7rJPkmJs8zkdyGJzkjdCif</td>\n",
       "      <td>1</td>\n",
       "    </tr>\n",
       "    <tr>\n",
       "      <td>176770</td>\n",
       "      <td>75yRHbCeR5tY00X9vLNRuj</td>\n",
       "      <td>1</td>\n",
       "    </tr>\n",
       "    <tr>\n",
       "      <td>176771</td>\n",
       "      <td>6dcgcciPlpMMsJ1mzxnjHM</td>\n",
       "      <td>1</td>\n",
       "    </tr>\n",
       "    <tr>\n",
       "      <td>176772</td>\n",
       "      <td>4DCKfM7M9G7dIeaqrGqpSs</td>\n",
       "      <td>1</td>\n",
       "    </tr>\n",
       "    <tr>\n",
       "      <td>176773</td>\n",
       "      <td>031HU1NDK3ILbLFVm7eXQs</td>\n",
       "      <td>1</td>\n",
       "    </tr>\n",
       "  </tbody>\n",
       "</table>\n",
       "<p>176774 rows × 2 columns</p>\n",
       "</div>"
      ],
      "text/plain": [
       "                         index  track_id\n",
       "0       2QOcDtnLi8V3aBjq4m7dbI         3\n",
       "1       16DhvbuyvJob4Q9GHNYu2n         3\n",
       "2       4dVbhS6OiYvFikshyaQaCN         3\n",
       "3       5HPnumlogzZtpLEaORZjz1         3\n",
       "4       6kayAD8DHrHe1bn5Russar         3\n",
       "...                        ...       ...\n",
       "176769  7rJPkmJs8zkdyGJzkjdCif         1\n",
       "176770  75yRHbCeR5tY00X9vLNRuj         1\n",
       "176771  6dcgcciPlpMMsJ1mzxnjHM         1\n",
       "176772  4DCKfM7M9G7dIeaqrGqpSs         1\n",
       "176773  031HU1NDK3ILbLFVm7eXQs         1\n",
       "\n",
       "[176774 rows x 2 columns]"
      ]
     },
     "execution_count": 35,
     "metadata": {},
     "output_type": "execute_result"
    }
   ],
   "source": [
    "##The rest of attributes should be always the same for the same unique song (i.e.: a song can't have two different 'energy'\n",
    "## values). We can check which IDs are repeated in the track_id column no perform a manual inspection that can provide more \n",
    "##insight:\n",
    "\n",
    "##Count how many times each ID is repeated in the track_id column and create a list with the ones that are repeated more than \n",
    "##once:\n",
    "repeated_track_ids = pd.DataFrame(raw_data_no_genre.track_id.value_counts()).reset_index().copy()\n",
    "repeated_track_ids"
   ]
  },
  {
   "cell_type": "code",
   "execution_count": 36,
   "metadata": {},
   "outputs": [
    {
     "data": {
      "text/html": [
       "<div>\n",
       "<style scoped>\n",
       "    .dataframe tbody tr th:only-of-type {\n",
       "        vertical-align: middle;\n",
       "    }\n",
       "\n",
       "    .dataframe tbody tr th {\n",
       "        vertical-align: top;\n",
       "    }\n",
       "\n",
       "    .dataframe thead th {\n",
       "        text-align: right;\n",
       "    }\n",
       "</style>\n",
       "<table border=\"1\" class=\"dataframe\">\n",
       "  <thead>\n",
       "    <tr style=\"text-align: right;\">\n",
       "      <th></th>\n",
       "      <th>index</th>\n",
       "      <th>track_id</th>\n",
       "    </tr>\n",
       "  </thead>\n",
       "  <tbody>\n",
       "    <tr>\n",
       "      <td>0</td>\n",
       "      <td>2QOcDtnLi8V3aBjq4m7dbI</td>\n",
       "      <td>3</td>\n",
       "    </tr>\n",
       "    <tr>\n",
       "      <td>1</td>\n",
       "      <td>16DhvbuyvJob4Q9GHNYu2n</td>\n",
       "      <td>3</td>\n",
       "    </tr>\n",
       "    <tr>\n",
       "      <td>2</td>\n",
       "      <td>4dVbhS6OiYvFikshyaQaCN</td>\n",
       "      <td>3</td>\n",
       "    </tr>\n",
       "    <tr>\n",
       "      <td>3</td>\n",
       "      <td>5HPnumlogzZtpLEaORZjz1</td>\n",
       "      <td>3</td>\n",
       "    </tr>\n",
       "    <tr>\n",
       "      <td>4</td>\n",
       "      <td>6kayAD8DHrHe1bn5Russar</td>\n",
       "      <td>3</td>\n",
       "    </tr>\n",
       "    <tr>\n",
       "      <td>...</td>\n",
       "      <td>...</td>\n",
       "      <td>...</td>\n",
       "    </tr>\n",
       "    <tr>\n",
       "      <td>12629</td>\n",
       "      <td>5ytmV00jr7di9K0O10dkBO</td>\n",
       "      <td>2</td>\n",
       "    </tr>\n",
       "    <tr>\n",
       "      <td>12630</td>\n",
       "      <td>5ODOI1L5b65QrDNBGVpRvJ</td>\n",
       "      <td>2</td>\n",
       "    </tr>\n",
       "    <tr>\n",
       "      <td>12631</td>\n",
       "      <td>3ti4eDm3s0dGWxQKeJ1OeM</td>\n",
       "      <td>2</td>\n",
       "    </tr>\n",
       "    <tr>\n",
       "      <td>12632</td>\n",
       "      <td>2JuasWPUodaUxf5nwNpciQ</td>\n",
       "      <td>2</td>\n",
       "    </tr>\n",
       "    <tr>\n",
       "      <td>12633</td>\n",
       "      <td>2kGuCPhjrJUtTO8pwqHVCW</td>\n",
       "      <td>2</td>\n",
       "    </tr>\n",
       "  </tbody>\n",
       "</table>\n",
       "<p>12634 rows × 2 columns</p>\n",
       "</div>"
      ],
      "text/plain": [
       "                        index  track_id\n",
       "0      2QOcDtnLi8V3aBjq4m7dbI         3\n",
       "1      16DhvbuyvJob4Q9GHNYu2n         3\n",
       "2      4dVbhS6OiYvFikshyaQaCN         3\n",
       "3      5HPnumlogzZtpLEaORZjz1         3\n",
       "4      6kayAD8DHrHe1bn5Russar         3\n",
       "...                       ...       ...\n",
       "12629  5ytmV00jr7di9K0O10dkBO         2\n",
       "12630  5ODOI1L5b65QrDNBGVpRvJ         2\n",
       "12631  3ti4eDm3s0dGWxQKeJ1OeM         2\n",
       "12632  2JuasWPUodaUxf5nwNpciQ         2\n",
       "12633  2kGuCPhjrJUtTO8pwqHVCW         2\n",
       "\n",
       "[12634 rows x 2 columns]"
      ]
     },
     "execution_count": 36,
     "metadata": {},
     "output_type": "execute_result"
    }
   ],
   "source": [
    "repeated_track_ids = repeated_track_ids[repeated_track_ids['track_id'] > 1].copy()\n",
    "repeated_track_ids"
   ]
  },
  {
   "cell_type": "code",
   "execution_count": 37,
   "metadata": {},
   "outputs": [
    {
     "data": {
      "text/html": [
       "<div>\n",
       "<style scoped>\n",
       "    .dataframe tbody tr th:only-of-type {\n",
       "        vertical-align: middle;\n",
       "    }\n",
       "\n",
       "    .dataframe tbody tr th {\n",
       "        vertical-align: top;\n",
       "    }\n",
       "\n",
       "    .dataframe thead th {\n",
       "        text-align: right;\n",
       "    }\n",
       "</style>\n",
       "<table border=\"1\" class=\"dataframe\">\n",
       "  <thead>\n",
       "    <tr style=\"text-align: right;\">\n",
       "      <th></th>\n",
       "      <th>index</th>\n",
       "      <th>track_id</th>\n",
       "    </tr>\n",
       "  </thead>\n",
       "  <tbody>\n",
       "    <tr>\n",
       "      <td>0</td>\n",
       "      <td>2QOcDtnLi8V3aBjq4m7dbI</td>\n",
       "      <td>3</td>\n",
       "    </tr>\n",
       "    <tr>\n",
       "      <td>1</td>\n",
       "      <td>16DhvbuyvJob4Q9GHNYu2n</td>\n",
       "      <td>3</td>\n",
       "    </tr>\n",
       "    <tr>\n",
       "      <td>2</td>\n",
       "      <td>4dVbhS6OiYvFikshyaQaCN</td>\n",
       "      <td>3</td>\n",
       "    </tr>\n",
       "    <tr>\n",
       "      <td>3</td>\n",
       "      <td>5HPnumlogzZtpLEaORZjz1</td>\n",
       "      <td>3</td>\n",
       "    </tr>\n",
       "    <tr>\n",
       "      <td>4</td>\n",
       "      <td>6kayAD8DHrHe1bn5Russar</td>\n",
       "      <td>3</td>\n",
       "    </tr>\n",
       "    <tr>\n",
       "      <td>5</td>\n",
       "      <td>2XEdrmqNM9ZQQ24ViuceB0</td>\n",
       "      <td>3</td>\n",
       "    </tr>\n",
       "    <tr>\n",
       "      <td>6</td>\n",
       "      <td>2Y0iGXY6m6immVb2ktbseM</td>\n",
       "      <td>3</td>\n",
       "    </tr>\n",
       "    <tr>\n",
       "      <td>7</td>\n",
       "      <td>4Ahphc0UzRSoMpJRHgnGQK</td>\n",
       "      <td>3</td>\n",
       "    </tr>\n",
       "    <tr>\n",
       "      <td>8</td>\n",
       "      <td>7Ml1vXT6LaH34jVBGYygWY</td>\n",
       "      <td>3</td>\n",
       "    </tr>\n",
       "    <tr>\n",
       "      <td>9</td>\n",
       "      <td>7lLAOmWJXM9csJkg3yKrph</td>\n",
       "      <td>3</td>\n",
       "    </tr>\n",
       "    <tr>\n",
       "      <td>10</td>\n",
       "      <td>7mnJgJhtuBEMRNoERn1OOa</td>\n",
       "      <td>3</td>\n",
       "    </tr>\n",
       "    <tr>\n",
       "      <td>11</td>\n",
       "      <td>4G8Eu3EDQZYhHPfJMFCv8V</td>\n",
       "      <td>3</td>\n",
       "    </tr>\n",
       "    <tr>\n",
       "      <td>12</td>\n",
       "      <td>6HN6xC99joXDRhcEzLTPvj</td>\n",
       "      <td>3</td>\n",
       "    </tr>\n",
       "    <tr>\n",
       "      <td>13</td>\n",
       "      <td>0yf6ORR6kV4iEn6T78XKbZ</td>\n",
       "      <td>3</td>\n",
       "    </tr>\n",
       "    <tr>\n",
       "      <td>14</td>\n",
       "      <td>67fRHOlaYQQFG67D9DkdnW</td>\n",
       "      <td>3</td>\n",
       "    </tr>\n",
       "    <tr>\n",
       "      <td>15</td>\n",
       "      <td>36QwvXHlo8kqob3AmH1Z3I</td>\n",
       "      <td>3</td>\n",
       "    </tr>\n",
       "    <tr>\n",
       "      <td>16</td>\n",
       "      <td>5Gnx5bNAglWcclJkuJnrys</td>\n",
       "      <td>3</td>\n",
       "    </tr>\n",
       "    <tr>\n",
       "      <td>17</td>\n",
       "      <td>1OLeA7zpNAHkHOzBwjYfy7</td>\n",
       "      <td>3</td>\n",
       "    </tr>\n",
       "    <tr>\n",
       "      <td>18</td>\n",
       "      <td>57SvWiDWI5nNHVf46vZvbM</td>\n",
       "      <td>3</td>\n",
       "    </tr>\n",
       "    <tr>\n",
       "      <td>19</td>\n",
       "      <td>010ALbbh5KlQ4fKWgSdhRd</td>\n",
       "      <td>3</td>\n",
       "    </tr>\n",
       "  </tbody>\n",
       "</table>\n",
       "</div>"
      ],
      "text/plain": [
       "                     index  track_id\n",
       "0   2QOcDtnLi8V3aBjq4m7dbI         3\n",
       "1   16DhvbuyvJob4Q9GHNYu2n         3\n",
       "2   4dVbhS6OiYvFikshyaQaCN         3\n",
       "3   5HPnumlogzZtpLEaORZjz1         3\n",
       "4   6kayAD8DHrHe1bn5Russar         3\n",
       "5   2XEdrmqNM9ZQQ24ViuceB0         3\n",
       "6   2Y0iGXY6m6immVb2ktbseM         3\n",
       "7   4Ahphc0UzRSoMpJRHgnGQK         3\n",
       "8   7Ml1vXT6LaH34jVBGYygWY         3\n",
       "9   7lLAOmWJXM9csJkg3yKrph         3\n",
       "10  7mnJgJhtuBEMRNoERn1OOa         3\n",
       "11  4G8Eu3EDQZYhHPfJMFCv8V         3\n",
       "12  6HN6xC99joXDRhcEzLTPvj         3\n",
       "13  0yf6ORR6kV4iEn6T78XKbZ         3\n",
       "14  67fRHOlaYQQFG67D9DkdnW         3\n",
       "15  36QwvXHlo8kqob3AmH1Z3I         3\n",
       "16  5Gnx5bNAglWcclJkuJnrys         3\n",
       "17  1OLeA7zpNAHkHOzBwjYfy7         3\n",
       "18  57SvWiDWI5nNHVf46vZvbM         3\n",
       "19  010ALbbh5KlQ4fKWgSdhRd         3"
      ]
     },
     "execution_count": 37,
     "metadata": {},
     "output_type": "execute_result"
    }
   ],
   "source": [
    "##This represents less than 5,5% of the data. We perform a manual inspection to understand a little more:\n",
    "repeated_track_ids.head(20)"
   ]
  },
  {
   "cell_type": "code",
   "execution_count": 38,
   "metadata": {},
   "outputs": [
    {
     "data": {
      "text/html": [
       "<div>\n",
       "<style scoped>\n",
       "    .dataframe tbody tr th:only-of-type {\n",
       "        vertical-align: middle;\n",
       "    }\n",
       "\n",
       "    .dataframe tbody tr th {\n",
       "        vertical-align: top;\n",
       "    }\n",
       "\n",
       "    .dataframe thead th {\n",
       "        text-align: right;\n",
       "    }\n",
       "</style>\n",
       "<table border=\"1\" class=\"dataframe\">\n",
       "  <thead>\n",
       "    <tr style=\"text-align: right;\">\n",
       "      <th></th>\n",
       "      <th>artist_name</th>\n",
       "      <th>track_name</th>\n",
       "      <th>track_id</th>\n",
       "      <th>popularity</th>\n",
       "      <th>acousticness</th>\n",
       "      <th>danceability</th>\n",
       "      <th>duration_ms</th>\n",
       "      <th>energy</th>\n",
       "      <th>instrumentalness</th>\n",
       "      <th>key</th>\n",
       "      <th>liveness</th>\n",
       "      <th>loudness</th>\n",
       "      <th>mode</th>\n",
       "      <th>speechiness</th>\n",
       "      <th>tempo</th>\n",
       "      <th>time_signature</th>\n",
       "      <th>valence</th>\n",
       "    </tr>\n",
       "  </thead>\n",
       "  <tbody>\n",
       "    <tr>\n",
       "      <td>10367</td>\n",
       "      <td>Jhene Aiko</td>\n",
       "      <td>You Are Here</td>\n",
       "      <td>7tX9wItFwaTPCuVBneLrHs</td>\n",
       "      <td>46</td>\n",
       "      <td>0.187</td>\n",
       "      <td>0.376</td>\n",
       "      <td>219520</td>\n",
       "      <td>0.699</td>\n",
       "      <td>0.00244</td>\n",
       "      <td>E</td>\n",
       "      <td>0.33</td>\n",
       "      <td>-7.635</td>\n",
       "      <td>Minor</td>\n",
       "      <td>0.0745</td>\n",
       "      <td>141.085</td>\n",
       "      <td>4/4</td>\n",
       "      <td>0.133</td>\n",
       "    </tr>\n",
       "    <tr>\n",
       "      <td>20203</td>\n",
       "      <td>Jhene Aiko</td>\n",
       "      <td>You Are Here</td>\n",
       "      <td>7tX9wItFwaTPCuVBneLrHs</td>\n",
       "      <td>50</td>\n",
       "      <td>0.187</td>\n",
       "      <td>0.376</td>\n",
       "      <td>219520</td>\n",
       "      <td>0.699</td>\n",
       "      <td>0.00244</td>\n",
       "      <td>E</td>\n",
       "      <td>0.33</td>\n",
       "      <td>-7.635</td>\n",
       "      <td>Minor</td>\n",
       "      <td>0.0745</td>\n",
       "      <td>141.085</td>\n",
       "      <td>4/4</td>\n",
       "      <td>0.133</td>\n",
       "    </tr>\n",
       "    <tr>\n",
       "      <td>59688</td>\n",
       "      <td>Jhene Aiko</td>\n",
       "      <td>You Are Here</td>\n",
       "      <td>7tX9wItFwaTPCuVBneLrHs</td>\n",
       "      <td>51</td>\n",
       "      <td>0.187</td>\n",
       "      <td>0.376</td>\n",
       "      <td>219520</td>\n",
       "      <td>0.699</td>\n",
       "      <td>0.00244</td>\n",
       "      <td>E</td>\n",
       "      <td>0.33</td>\n",
       "      <td>-7.635</td>\n",
       "      <td>Minor</td>\n",
       "      <td>0.0745</td>\n",
       "      <td>141.085</td>\n",
       "      <td>4/4</td>\n",
       "      <td>0.133</td>\n",
       "    </tr>\n",
       "  </tbody>\n",
       "</table>\n",
       "</div>"
      ],
      "text/plain": [
       "      artist_name    track_name                track_id  popularity  \\\n",
       "10367  Jhene Aiko  You Are Here  7tX9wItFwaTPCuVBneLrHs          46   \n",
       "20203  Jhene Aiko  You Are Here  7tX9wItFwaTPCuVBneLrHs          50   \n",
       "59688  Jhene Aiko  You Are Here  7tX9wItFwaTPCuVBneLrHs          51   \n",
       "\n",
       "       acousticness  danceability  duration_ms  energy  instrumentalness key  \\\n",
       "10367         0.187         0.376       219520   0.699           0.00244   E   \n",
       "20203         0.187         0.376       219520   0.699           0.00244   E   \n",
       "59688         0.187         0.376       219520   0.699           0.00244   E   \n",
       "\n",
       "       liveness  loudness   mode  speechiness    tempo time_signature  valence  \n",
       "10367      0.33    -7.635  Minor       0.0745  141.085            4/4    0.133  \n",
       "20203      0.33    -7.635  Minor       0.0745  141.085            4/4    0.133  \n",
       "59688      0.33    -7.635  Minor       0.0745  141.085            4/4    0.133  "
      ]
     },
     "execution_count": 38,
     "metadata": {},
     "output_type": "execute_result"
    }
   ],
   "source": [
    "raw_data_no_genre[raw_data_no_genre['track_id'] == '7tX9wItFwaTPCuVBneLrHs']"
   ]
  },
  {
   "cell_type": "code",
   "execution_count": 39,
   "metadata": {},
   "outputs": [],
   "source": [
    "## The attribute that seems to change is popularity. The rest of the parameters seem to be kept the same. After some\n",
    "## consideration on the way to proceed, we decide to unify these records and calculate the mean popularity among the \n",
    "## different records of the same track, because: a) in case we need these tracks for our analysis, all the other parameters \n",
    "## can still be considered valid. b) since we will keep a list of the tracks that are being modified, we will be able to \n",
    "## control how this biased data may affect our data (if it does.)"
   ]
  },
  {
   "cell_type": "code",
   "execution_count": 40,
   "metadata": {
    "scrolled": true
   },
   "outputs": [],
   "source": [
    "## Group by Spotify ID (and other text columns) and mean the rest of columns\n",
    "raw_data_for_tracks_grouped = raw_data_no_genre.groupby(['track_id','track_name', 'artist_name'], as_index=False).mean()"
   ]
  },
  {
   "cell_type": "code",
   "execution_count": 41,
   "metadata": {},
   "outputs": [
    {
     "data": {
      "text/plain": [
       "176893"
      ]
     },
     "execution_count": 41,
     "metadata": {},
     "output_type": "execute_result"
    }
   ],
   "source": [
    "len(raw_data_for_tracks_grouped)"
   ]
  },
  {
   "cell_type": "code",
   "execution_count": 42,
   "metadata": {},
   "outputs": [
    {
     "data": {
      "text/html": [
       "<div>\n",
       "<style scoped>\n",
       "    .dataframe tbody tr th:only-of-type {\n",
       "        vertical-align: middle;\n",
       "    }\n",
       "\n",
       "    .dataframe tbody tr th {\n",
       "        vertical-align: top;\n",
       "    }\n",
       "\n",
       "    .dataframe thead th {\n",
       "        text-align: right;\n",
       "    }\n",
       "</style>\n",
       "<table border=\"1\" class=\"dataframe\">\n",
       "  <thead>\n",
       "    <tr style=\"text-align: right;\">\n",
       "      <th></th>\n",
       "      <th>index</th>\n",
       "      <th>track_id</th>\n",
       "    </tr>\n",
       "  </thead>\n",
       "  <tbody>\n",
       "    <tr>\n",
       "      <td>0</td>\n",
       "      <td>3yawCOFKiw8TVVdCubX4hu</td>\n",
       "      <td>2</td>\n",
       "    </tr>\n",
       "    <tr>\n",
       "      <td>1</td>\n",
       "      <td>5yQ9iMZXGcr5rlO4hoLsP4</td>\n",
       "      <td>2</td>\n",
       "    </tr>\n",
       "    <tr>\n",
       "      <td>2</td>\n",
       "      <td>0ritgEzDOsxbd2IfYX96S9</td>\n",
       "      <td>2</td>\n",
       "    </tr>\n",
       "    <tr>\n",
       "      <td>3</td>\n",
       "      <td>4tggZyGJMNJMooWuRbvN5q</td>\n",
       "      <td>2</td>\n",
       "    </tr>\n",
       "    <tr>\n",
       "      <td>4</td>\n",
       "      <td>1FTBGFF2CJIEsMdkRMHo6z</td>\n",
       "      <td>2</td>\n",
       "    </tr>\n",
       "    <tr>\n",
       "      <td>...</td>\n",
       "      <td>...</td>\n",
       "      <td>...</td>\n",
       "    </tr>\n",
       "    <tr>\n",
       "      <td>176769</td>\n",
       "      <td>0MVUm3Nied9ocRAkDjRWvP</td>\n",
       "      <td>1</td>\n",
       "    </tr>\n",
       "    <tr>\n",
       "      <td>176770</td>\n",
       "      <td>6EKR5o7FNosJP3UwZgv7bG</td>\n",
       "      <td>1</td>\n",
       "    </tr>\n",
       "    <tr>\n",
       "      <td>176771</td>\n",
       "      <td>6USfUUlSFATxDSrSGG2xNS</td>\n",
       "      <td>1</td>\n",
       "    </tr>\n",
       "    <tr>\n",
       "      <td>176772</td>\n",
       "      <td>2KnTNMXc5aSpaiijRiNWlh</td>\n",
       "      <td>1</td>\n",
       "    </tr>\n",
       "    <tr>\n",
       "      <td>176773</td>\n",
       "      <td>031HU1NDK3ILbLFVm7eXQs</td>\n",
       "      <td>1</td>\n",
       "    </tr>\n",
       "  </tbody>\n",
       "</table>\n",
       "<p>176774 rows × 2 columns</p>\n",
       "</div>"
      ],
      "text/plain": [
       "                         index  track_id\n",
       "0       3yawCOFKiw8TVVdCubX4hu         2\n",
       "1       5yQ9iMZXGcr5rlO4hoLsP4         2\n",
       "2       0ritgEzDOsxbd2IfYX96S9         2\n",
       "3       4tggZyGJMNJMooWuRbvN5q         2\n",
       "4       1FTBGFF2CJIEsMdkRMHo6z         2\n",
       "...                        ...       ...\n",
       "176769  0MVUm3Nied9ocRAkDjRWvP         1\n",
       "176770  6EKR5o7FNosJP3UwZgv7bG         1\n",
       "176771  6USfUUlSFATxDSrSGG2xNS         1\n",
       "176772  2KnTNMXc5aSpaiijRiNWlh         1\n",
       "176773  031HU1NDK3ILbLFVm7eXQs         1\n",
       "\n",
       "[176774 rows x 2 columns]"
      ]
     },
     "execution_count": 42,
     "metadata": {},
     "output_type": "execute_result"
    }
   ],
   "source": [
    "## This number is still higher than the amount of unique spotify IDs. Let's perform a second iteration searching for\n",
    "##duplicated values on the table.\n",
    "repeated_track_ids_2 = pd.DataFrame(raw_data_for_tracks_grouped.track_id.value_counts()).reset_index().copy()\n",
    "repeated_track_ids_2"
   ]
  },
  {
   "cell_type": "code",
   "execution_count": 43,
   "metadata": {},
   "outputs": [
    {
     "data": {
      "text/html": [
       "<div>\n",
       "<style scoped>\n",
       "    .dataframe tbody tr th:only-of-type {\n",
       "        vertical-align: middle;\n",
       "    }\n",
       "\n",
       "    .dataframe tbody tr th {\n",
       "        vertical-align: top;\n",
       "    }\n",
       "\n",
       "    .dataframe thead th {\n",
       "        text-align: right;\n",
       "    }\n",
       "</style>\n",
       "<table border=\"1\" class=\"dataframe\">\n",
       "  <thead>\n",
       "    <tr style=\"text-align: right;\">\n",
       "      <th></th>\n",
       "      <th>index</th>\n",
       "      <th>track_id</th>\n",
       "    </tr>\n",
       "  </thead>\n",
       "  <tbody>\n",
       "    <tr>\n",
       "      <td>0</td>\n",
       "      <td>3yawCOFKiw8TVVdCubX4hu</td>\n",
       "      <td>2</td>\n",
       "    </tr>\n",
       "    <tr>\n",
       "      <td>1</td>\n",
       "      <td>5yQ9iMZXGcr5rlO4hoLsP4</td>\n",
       "      <td>2</td>\n",
       "    </tr>\n",
       "    <tr>\n",
       "      <td>2</td>\n",
       "      <td>0ritgEzDOsxbd2IfYX96S9</td>\n",
       "      <td>2</td>\n",
       "    </tr>\n",
       "    <tr>\n",
       "      <td>3</td>\n",
       "      <td>4tggZyGJMNJMooWuRbvN5q</td>\n",
       "      <td>2</td>\n",
       "    </tr>\n",
       "    <tr>\n",
       "      <td>4</td>\n",
       "      <td>1FTBGFF2CJIEsMdkRMHo6z</td>\n",
       "      <td>2</td>\n",
       "    </tr>\n",
       "    <tr>\n",
       "      <td>5</td>\n",
       "      <td>2g9EvzLR2sYscJQubwKGqu</td>\n",
       "      <td>2</td>\n",
       "    </tr>\n",
       "    <tr>\n",
       "      <td>6</td>\n",
       "      <td>6rx4jBTSagd1W4ZkQI63oK</td>\n",
       "      <td>2</td>\n",
       "    </tr>\n",
       "    <tr>\n",
       "      <td>7</td>\n",
       "      <td>2g4SumkFZpHOypfF5xng9Z</td>\n",
       "      <td>2</td>\n",
       "    </tr>\n",
       "    <tr>\n",
       "      <td>8</td>\n",
       "      <td>4NqxAPv6ZAg9Lccf1QFTVg</td>\n",
       "      <td>2</td>\n",
       "    </tr>\n",
       "    <tr>\n",
       "      <td>9</td>\n",
       "      <td>4MYb7NWLwXNDB7bYs3HeX8</td>\n",
       "      <td>2</td>\n",
       "    </tr>\n",
       "    <tr>\n",
       "      <td>10</td>\n",
       "      <td>59h3i22MBicerNR1llNXqv</td>\n",
       "      <td>2</td>\n",
       "    </tr>\n",
       "    <tr>\n",
       "      <td>11</td>\n",
       "      <td>1klqBqLXdUN6ilIhtOAYtm</td>\n",
       "      <td>2</td>\n",
       "    </tr>\n",
       "    <tr>\n",
       "      <td>12</td>\n",
       "      <td>1c4OpZ2G1MEcEKSknUZjdD</td>\n",
       "      <td>2</td>\n",
       "    </tr>\n",
       "    <tr>\n",
       "      <td>13</td>\n",
       "      <td>6TNNMVpOgn8K5NoDC7alG6</td>\n",
       "      <td>2</td>\n",
       "    </tr>\n",
       "    <tr>\n",
       "      <td>14</td>\n",
       "      <td>3WTXFQ4sHegQbrsLSuwLrW</td>\n",
       "      <td>2</td>\n",
       "    </tr>\n",
       "    <tr>\n",
       "      <td>15</td>\n",
       "      <td>3pEwXiu1AVstyAluolJnW7</td>\n",
       "      <td>2</td>\n",
       "    </tr>\n",
       "    <tr>\n",
       "      <td>16</td>\n",
       "      <td>3IRovqSVYx3CNtDWRebsET</td>\n",
       "      <td>2</td>\n",
       "    </tr>\n",
       "    <tr>\n",
       "      <td>17</td>\n",
       "      <td>0lVdukU9ejbFQwZIhg47hx</td>\n",
       "      <td>2</td>\n",
       "    </tr>\n",
       "    <tr>\n",
       "      <td>18</td>\n",
       "      <td>3Lbxie6whOW4eMt4jtI32k</td>\n",
       "      <td>2</td>\n",
       "    </tr>\n",
       "    <tr>\n",
       "      <td>19</td>\n",
       "      <td>6olS0TmHmsGr0hXtcBsiVM</td>\n",
       "      <td>2</td>\n",
       "    </tr>\n",
       "  </tbody>\n",
       "</table>\n",
       "</div>"
      ],
      "text/plain": [
       "                     index  track_id\n",
       "0   3yawCOFKiw8TVVdCubX4hu         2\n",
       "1   5yQ9iMZXGcr5rlO4hoLsP4         2\n",
       "2   0ritgEzDOsxbd2IfYX96S9         2\n",
       "3   4tggZyGJMNJMooWuRbvN5q         2\n",
       "4   1FTBGFF2CJIEsMdkRMHo6z         2\n",
       "5   2g9EvzLR2sYscJQubwKGqu         2\n",
       "6   6rx4jBTSagd1W4ZkQI63oK         2\n",
       "7   2g4SumkFZpHOypfF5xng9Z         2\n",
       "8   4NqxAPv6ZAg9Lccf1QFTVg         2\n",
       "9   4MYb7NWLwXNDB7bYs3HeX8         2\n",
       "10  59h3i22MBicerNR1llNXqv         2\n",
       "11  1klqBqLXdUN6ilIhtOAYtm         2\n",
       "12  1c4OpZ2G1MEcEKSknUZjdD         2\n",
       "13  6TNNMVpOgn8K5NoDC7alG6         2\n",
       "14  3WTXFQ4sHegQbrsLSuwLrW         2\n",
       "15  3pEwXiu1AVstyAluolJnW7         2\n",
       "16  3IRovqSVYx3CNtDWRebsET         2\n",
       "17  0lVdukU9ejbFQwZIhg47hx         2\n",
       "18  3Lbxie6whOW4eMt4jtI32k         2\n",
       "19  6olS0TmHmsGr0hXtcBsiVM         2"
      ]
     },
     "execution_count": 43,
     "metadata": {},
     "output_type": "execute_result"
    }
   ],
   "source": [
    "repeated_track_ids_2 = repeated_track_ids_2[repeated_track_ids_2['track_id'] > 1].copy()\n",
    "repeated_track_ids_2.head(20)"
   ]
  },
  {
   "cell_type": "code",
   "execution_count": 44,
   "metadata": {
    "scrolled": true
   },
   "outputs": [
    {
     "data": {
      "text/html": [
       "<div>\n",
       "<style scoped>\n",
       "    .dataframe tbody tr th:only-of-type {\n",
       "        vertical-align: middle;\n",
       "    }\n",
       "\n",
       "    .dataframe tbody tr th {\n",
       "        vertical-align: top;\n",
       "    }\n",
       "\n",
       "    .dataframe thead th {\n",
       "        text-align: right;\n",
       "    }\n",
       "</style>\n",
       "<table border=\"1\" class=\"dataframe\">\n",
       "  <thead>\n",
       "    <tr style=\"text-align: right;\">\n",
       "      <th></th>\n",
       "      <th>track_id</th>\n",
       "      <th>track_name</th>\n",
       "      <th>artist_name</th>\n",
       "      <th>popularity</th>\n",
       "      <th>acousticness</th>\n",
       "      <th>danceability</th>\n",
       "      <th>duration_ms</th>\n",
       "      <th>energy</th>\n",
       "      <th>instrumentalness</th>\n",
       "      <th>liveness</th>\n",
       "      <th>loudness</th>\n",
       "      <th>speechiness</th>\n",
       "      <th>tempo</th>\n",
       "      <th>valence</th>\n",
       "    </tr>\n",
       "  </thead>\n",
       "  <tbody>\n",
       "    <tr>\n",
       "      <td>102924</td>\n",
       "      <td>4WUduEPZZG6wiE9B5IklnY</td>\n",
       "      <td>Let Me In</td>\n",
       "      <td>Grouplove</td>\n",
       "      <td>58.5</td>\n",
       "      <td>0.00397</td>\n",
       "      <td>0.476</td>\n",
       "      <td>239658.0</td>\n",
       "      <td>0.744</td>\n",
       "      <td>0.000173</td>\n",
       "      <td>0.0982</td>\n",
       "      <td>-6.602</td>\n",
       "      <td>0.0515</td>\n",
       "      <td>127.934</td>\n",
       "      <td>0.159</td>\n",
       "    </tr>\n",
       "    <tr>\n",
       "      <td>102925</td>\n",
       "      <td>4WUduEPZZG6wiE9B5IklnY</td>\n",
       "      <td>Let Me In - Soundtrack Version</td>\n",
       "      <td>Grouplove</td>\n",
       "      <td>55.0</td>\n",
       "      <td>0.00397</td>\n",
       "      <td>0.476</td>\n",
       "      <td>239658.0</td>\n",
       "      <td>0.744</td>\n",
       "      <td>0.000173</td>\n",
       "      <td>0.0982</td>\n",
       "      <td>-6.602</td>\n",
       "      <td>0.0515</td>\n",
       "      <td>127.934</td>\n",
       "      <td>0.159</td>\n",
       "    </tr>\n",
       "  </tbody>\n",
       "</table>\n",
       "</div>"
      ],
      "text/plain": [
       "                      track_id                      track_name artist_name  \\\n",
       "102924  4WUduEPZZG6wiE9B5IklnY                       Let Me In   Grouplove   \n",
       "102925  4WUduEPZZG6wiE9B5IklnY  Let Me In - Soundtrack Version   Grouplove   \n",
       "\n",
       "        popularity  acousticness  danceability  duration_ms  energy  \\\n",
       "102924        58.5       0.00397         0.476     239658.0   0.744   \n",
       "102925        55.0       0.00397         0.476     239658.0   0.744   \n",
       "\n",
       "        instrumentalness  liveness  loudness  speechiness    tempo  valence  \n",
       "102924          0.000173    0.0982    -6.602       0.0515  127.934    0.159  \n",
       "102925          0.000173    0.0982    -6.602       0.0515  127.934    0.159  "
      ]
     },
     "execution_count": 44,
     "metadata": {},
     "output_type": "execute_result"
    }
   ],
   "source": [
    "raw_data_for_tracks_grouped[raw_data_for_tracks_grouped['track_id'] == '4WUduEPZZG6wiE9B5IklnY']"
   ]
  },
  {
   "cell_type": "code",
   "execution_count": 45,
   "metadata": {},
   "outputs": [
    {
     "data": {
      "text/plain": [
       "119"
      ]
     },
     "execution_count": 45,
     "metadata": {},
     "output_type": "execute_result"
    }
   ],
   "source": [
    "## After all normalization, there are still 119 duplicates, which account for less than 0,07% of the data. The normalization of\n",
    "## these tracks will require a manual exploration to decide the action to take in this case. For the purpose of our current\n",
    "## study, this level of detail won't generate significant biases on the results. Therefore we decide to keep these duplicates.\n",
    "len(raw_data_for_tracks_grouped) - len(raw_data_2.track_id.unique())"
   ]
  },
  {
   "cell_type": "markdown",
   "metadata": {},
   "source": [
    "#### Create final track table: "
   ]
  },
  {
   "cell_type": "code",
   "execution_count": 46,
   "metadata": {},
   "outputs": [],
   "source": [
    "##Add the artist_id to the  table\n",
    "tracks_table = pd.merge(raw_data_for_tracks_grouped, artists_with_id, on='artist_name')"
   ]
  },
  {
   "cell_type": "code",
   "execution_count": 47,
   "metadata": {},
   "outputs": [],
   "source": [
    "## Create a table only with the columns that we want to keep on the track table\n",
    "tracks = tracks_table[['track_name', 'track_id', 'popularity','acousticness', 'danceability', 'duration_ms', \n",
    "        'energy', 'instrumentalness', 'liveness', 'loudness', 'speechiness', 'tempo', 'valence', 'ID']]"
   ]
  },
  {
   "cell_type": "code",
   "execution_count": 48,
   "metadata": {},
   "outputs": [],
   "source": [
    "##Change the names to meet the DB columns\n",
    "tracks.columns = ['track_name', 'spotify_id', 'popularity', 'acousticness', 'danceability', 'duration_ms', 'energy',\n",
    "       'instrumentalness', 'liveness', 'loudness', 'speechiness', 'tempo', 'valence', 'artist_id']"
   ]
  },
  {
   "cell_type": "code",
   "execution_count": 49,
   "metadata": {},
   "outputs": [],
   "source": [
    "## Export it to MySQL\n",
    "tracks.to_sql('track', con=engine, if_exists = 'append', index = False)"
   ]
  },
  {
   "cell_type": "code",
   "execution_count": 50,
   "metadata": {},
   "outputs": [
    {
     "name": "stdout",
     "output_type": "stream",
     "text": [
      "Len tracks after DB:  176893\n"
     ]
    }
   ],
   "source": [
    "##Import it back with the table PK\n",
    "tracks_with_id = pd.read_sql('track', engine)\n",
    "print('Len tracks after DB: ', len(tracks_with_id))"
   ]
  },
  {
   "cell_type": "markdown",
   "metadata": {},
   "source": [
    "### Create track_genre relationship table"
   ]
  },
  {
   "cell_type": "code",
   "execution_count": 51,
   "metadata": {},
   "outputs": [
    {
     "data": {
      "text/plain": [
       "176893"
      ]
     },
     "execution_count": 51,
     "metadata": {},
     "output_type": "execute_result"
    }
   ],
   "source": [
    "##Create a table with Spotify_id + track_id\n",
    "track_id_by_spotify_id_minimal = tracks_with_id[['ID', 'spotify_id']]\n",
    "track_id_by_spotify_id_minimal = track_id_by_spotify_id_minimal.rename(columns={'ID':'track_id'})\n",
    "len(track_id_by_spotify_id_minimal)"
   ]
  },
  {
   "cell_type": "code",
   "execution_count": 52,
   "metadata": {},
   "outputs": [],
   "source": [
    "##Create a table with Spotify_id + genre_id\n",
    "genre_id_by_spotify_id_minimal = raw_with_artist_genre_id[['track_id', 'genre_id']]\n",
    "genre_id_by_spotify_id_minimal = genre_id_by_spotify_id_minimal.rename(columns={'track_id':'spotify_id'})"
   ]
  },
  {
   "cell_type": "code",
   "execution_count": 53,
   "metadata": {},
   "outputs": [
    {
     "data": {
      "text/plain": [
       "232725"
      ]
     },
     "execution_count": 53,
     "metadata": {},
     "output_type": "execute_result"
    }
   ],
   "source": [
    "len(genre_id_by_spotify_id_minimal)"
   ]
  },
  {
   "cell_type": "code",
   "execution_count": 54,
   "metadata": {},
   "outputs": [
    {
     "data": {
      "text/plain": [
       "233097"
      ]
     },
     "execution_count": 54,
     "metadata": {},
     "output_type": "execute_result"
    }
   ],
   "source": [
    "##Create the relation table. The difference in rows is caused by the existing duplicates that we have detected in the tracks\n",
    "##table already\n",
    "genre_id_track_id = pd.merge(genre_id_by_spotify_id_minimal, track_id_by_spotify_id_minimal, on='spotify_id')\n",
    "genre_id_track_id.drop(columns=['spotify_id'], inplace = True)\n",
    "len(genre_id_track_id)"
   ]
  },
  {
   "cell_type": "code",
   "execution_count": 55,
   "metadata": {},
   "outputs": [],
   "source": [
    "## Export it to MySQL\n",
    "genre_id_track_id.to_sql('track_genre', con=engine, if_exists = 'append', index = False)"
   ]
  },
  {
   "cell_type": "code",
   "execution_count": 56,
   "metadata": {},
   "outputs": [
    {
     "name": "stdout",
     "output_type": "stream",
     "text": [
      "Len track-genre table after DB:  233097\n"
     ]
    }
   ],
   "source": [
    "##Import it back with the table PK\n",
    "track_genre_with_id = pd.read_sql('track_genre', engine)\n",
    "print('Len track-genre table after DB: ', len(track_genre_with_id))"
   ]
  },
  {
   "cell_type": "markdown",
   "metadata": {},
   "source": [
    "# Last FM API dataset integration"
   ]
  },
  {
   "cell_type": "markdown",
   "metadata": {},
   "source": [
    "### Import and normalize artist table from DB"
   ]
  },
  {
   "cell_type": "code",
   "execution_count": 57,
   "metadata": {},
   "outputs": [],
   "source": [
    "##Read table\n",
    "artists_table = pd.read_sql('artist', engine)"
   ]
  },
  {
   "cell_type": "code",
   "execution_count": 58,
   "metadata": {},
   "outputs": [
    {
     "data": {
      "text/html": [
       "<div>\n",
       "<style scoped>\n",
       "    .dataframe tbody tr th:only-of-type {\n",
       "        vertical-align: middle;\n",
       "    }\n",
       "\n",
       "    .dataframe tbody tr th {\n",
       "        vertical-align: top;\n",
       "    }\n",
       "\n",
       "    .dataframe thead th {\n",
       "        text-align: right;\n",
       "    }\n",
       "</style>\n",
       "<table border=\"1\" class=\"dataframe\">\n",
       "  <thead>\n",
       "    <tr style=\"text-align: right;\">\n",
       "      <th></th>\n",
       "      <th>artist_id</th>\n",
       "      <th>artist</th>\n",
       "    </tr>\n",
       "  </thead>\n",
       "  <tbody>\n",
       "    <tr>\n",
       "      <td>0</td>\n",
       "      <td>1</td>\n",
       "      <td>Henri Salvador</td>\n",
       "    </tr>\n",
       "    <tr>\n",
       "      <td>1</td>\n",
       "      <td>2</td>\n",
       "      <td>Martin &amp; Les Fées</td>\n",
       "    </tr>\n",
       "    <tr>\n",
       "      <td>2</td>\n",
       "      <td>3</td>\n",
       "      <td>Joseph Williams</td>\n",
       "    </tr>\n",
       "  </tbody>\n",
       "</table>\n",
       "</div>"
      ],
      "text/plain": [
       "   artist_id             artist\n",
       "0          1     Henri Salvador\n",
       "1          2  Martin & Les Fées\n",
       "2          3    Joseph Williams"
      ]
     },
     "execution_count": 58,
     "metadata": {},
     "output_type": "execute_result"
    }
   ],
   "source": [
    "##Rename columns\n",
    "artists_table = artists_table.rename(columns={'artist_name':'artist'})\n",
    "artists_table = artists_table.rename(columns={'ID':'artist_id'})\n",
    "artists_table.head(3)"
   ]
  },
  {
   "cell_type": "markdown",
   "metadata": {},
   "source": [
    "### Import and normalize country table from DB"
   ]
  },
  {
   "cell_type": "code",
   "execution_count": 59,
   "metadata": {},
   "outputs": [],
   "source": [
    "##Read table\n",
    "country_table = pd.read_sql('country', engine)"
   ]
  },
  {
   "cell_type": "code",
   "execution_count": 60,
   "metadata": {},
   "outputs": [
    {
     "data": {
      "text/html": [
       "<div>\n",
       "<style scoped>\n",
       "    .dataframe tbody tr th:only-of-type {\n",
       "        vertical-align: middle;\n",
       "    }\n",
       "\n",
       "    .dataframe tbody tr th {\n",
       "        vertical-align: top;\n",
       "    }\n",
       "\n",
       "    .dataframe thead th {\n",
       "        text-align: right;\n",
       "    }\n",
       "</style>\n",
       "<table border=\"1\" class=\"dataframe\">\n",
       "  <thead>\n",
       "    <tr style=\"text-align: right;\">\n",
       "      <th></th>\n",
       "      <th>country_id</th>\n",
       "      <th>country_name</th>\n",
       "      <th>alpha_2_code</th>\n",
       "    </tr>\n",
       "  </thead>\n",
       "  <tbody>\n",
       "    <tr>\n",
       "      <td>0</td>\n",
       "      <td>1</td>\n",
       "      <td>Afghanistan</td>\n",
       "      <td>AF</td>\n",
       "    </tr>\n",
       "    <tr>\n",
       "      <td>1</td>\n",
       "      <td>2</td>\n",
       "      <td>Åland Islands</td>\n",
       "      <td>AX</td>\n",
       "    </tr>\n",
       "    <tr>\n",
       "      <td>2</td>\n",
       "      <td>3</td>\n",
       "      <td>Albania</td>\n",
       "      <td>AL</td>\n",
       "    </tr>\n",
       "  </tbody>\n",
       "</table>\n",
       "</div>"
      ],
      "text/plain": [
       "   country_id   country_name alpha_2_code\n",
       "0           1    Afghanistan           AF\n",
       "1           2  Åland Islands           AX\n",
       "2           3        Albania           AL"
      ]
     },
     "execution_count": 60,
     "metadata": {},
     "output_type": "execute_result"
    }
   ],
   "source": [
    "##Rename columns\n",
    "country_table = country_table.rename(columns={'ID':'country_id'})\n",
    "country_table.head(3)"
   ]
  },
  {
   "cell_type": "markdown",
   "metadata": {},
   "source": [
    "### Wrangle and match data"
   ]
  },
  {
   "cell_type": "markdown",
   "metadata": {},
   "source": [
    "#### Jordan's top artist list"
   ]
  },
  {
   "cell_type": "code",
   "execution_count": 61,
   "metadata": {},
   "outputs": [
    {
     "data": {
      "text/html": [
       "<div>\n",
       "<style scoped>\n",
       "    .dataframe tbody tr th:only-of-type {\n",
       "        vertical-align: middle;\n",
       "    }\n",
       "\n",
       "    .dataframe tbody tr th {\n",
       "        vertical-align: top;\n",
       "    }\n",
       "\n",
       "    .dataframe thead th {\n",
       "        text-align: right;\n",
       "    }\n",
       "</style>\n",
       "<table border=\"1\" class=\"dataframe\">\n",
       "  <thead>\n",
       "    <tr style=\"text-align: right;\">\n",
       "      <th></th>\n",
       "      <th>Unnamed: 0</th>\n",
       "      <th>rank</th>\n",
       "      <th>artist</th>\n",
       "      <th>country</th>\n",
       "    </tr>\n",
       "  </thead>\n",
       "  <tbody>\n",
       "    <tr>\n",
       "      <td>0</td>\n",
       "      <td>0</td>\n",
       "      <td>1</td>\n",
       "      <td>Lana Del Rey</td>\n",
       "      <td>Jordan</td>\n",
       "    </tr>\n",
       "    <tr>\n",
       "      <td>1</td>\n",
       "      <td>1</td>\n",
       "      <td>2</td>\n",
       "      <td>Pink Floyd</td>\n",
       "      <td>Jordan</td>\n",
       "    </tr>\n",
       "    <tr>\n",
       "      <td>2</td>\n",
       "      <td>2</td>\n",
       "      <td>3</td>\n",
       "      <td>Queen</td>\n",
       "      <td>Jordan</td>\n",
       "    </tr>\n",
       "  </tbody>\n",
       "</table>\n",
       "</div>"
      ],
      "text/plain": [
       "   Unnamed: 0  rank        artist country\n",
       "0           0     1  Lana Del Rey  Jordan\n",
       "1           1     2    Pink Floyd  Jordan\n",
       "2           2     3         Queen  Jordan"
      ]
     },
     "execution_count": 61,
     "metadata": {},
     "output_type": "execute_result"
    }
   ],
   "source": [
    "top_artist_jordan = pd.read_csv('../datasets/lastfm_api/top_artist_jordan.csv')\n",
    "top_artist_jordan.head(3)"
   ]
  },
  {
   "cell_type": "code",
   "execution_count": 62,
   "metadata": {},
   "outputs": [
    {
     "data": {
      "text/html": [
       "<div>\n",
       "<style scoped>\n",
       "    .dataframe tbody tr th:only-of-type {\n",
       "        vertical-align: middle;\n",
       "    }\n",
       "\n",
       "    .dataframe tbody tr th {\n",
       "        vertical-align: top;\n",
       "    }\n",
       "\n",
       "    .dataframe thead th {\n",
       "        text-align: right;\n",
       "    }\n",
       "</style>\n",
       "<table border=\"1\" class=\"dataframe\">\n",
       "  <thead>\n",
       "    <tr style=\"text-align: right;\">\n",
       "      <th></th>\n",
       "      <th>country_id</th>\n",
       "      <th>country_name</th>\n",
       "      <th>alpha_2_code</th>\n",
       "    </tr>\n",
       "  </thead>\n",
       "  <tbody>\n",
       "    <tr>\n",
       "      <td>111</td>\n",
       "      <td>112</td>\n",
       "      <td>Jordan</td>\n",
       "      <td>JO</td>\n",
       "    </tr>\n",
       "  </tbody>\n",
       "</table>\n",
       "</div>"
      ],
      "text/plain": [
       "     country_id country_name alpha_2_code\n",
       "111         112       Jordan           JO"
      ]
     },
     "execution_count": 62,
     "metadata": {},
     "output_type": "execute_result"
    }
   ],
   "source": [
    "## Check country name in country table\n",
    "country_table[country_table['country_name'] == 'Jordan']"
   ]
  },
  {
   "cell_type": "code",
   "execution_count": 63,
   "metadata": {},
   "outputs": [
    {
     "name": "stdout",
     "output_type": "stream",
     "text": [
      "Fairuz\n",
      "Frank Sinatra\n"
     ]
    }
   ],
   "source": [
    "## Title case artists for artist matching\n",
    "top_artist_jordan\n",
    "top_artist_jordan['artist'] = top_artist_jordan['artist'].apply(lambda x : x.title())\n",
    "\n",
    "##Find missing artists\n",
    "artist_jordan_list = list(top_artist_jordan.artist)\n",
    "artists_table_list = list(artists_table.artist)\n",
    "for i in artist_jordan_list:\n",
    "    if i not in artists_table_list:\n",
    "        print(i)"
   ]
  },
  {
   "cell_type": "markdown",
   "metadata": {},
   "source": [
    "#### Switzerland's top artitst list"
   ]
  },
  {
   "cell_type": "code",
   "execution_count": 64,
   "metadata": {},
   "outputs": [
    {
     "data": {
      "text/html": [
       "<div>\n",
       "<style scoped>\n",
       "    .dataframe tbody tr th:only-of-type {\n",
       "        vertical-align: middle;\n",
       "    }\n",
       "\n",
       "    .dataframe tbody tr th {\n",
       "        vertical-align: top;\n",
       "    }\n",
       "\n",
       "    .dataframe thead th {\n",
       "        text-align: right;\n",
       "    }\n",
       "</style>\n",
       "<table border=\"1\" class=\"dataframe\">\n",
       "  <thead>\n",
       "    <tr style=\"text-align: right;\">\n",
       "      <th></th>\n",
       "      <th>Unnamed: 0</th>\n",
       "      <th>rank</th>\n",
       "      <th>artist</th>\n",
       "      <th>country</th>\n",
       "    </tr>\n",
       "  </thead>\n",
       "  <tbody>\n",
       "    <tr>\n",
       "      <td>0</td>\n",
       "      <td>0</td>\n",
       "      <td>1</td>\n",
       "      <td>Coldplay</td>\n",
       "      <td>Switzerland</td>\n",
       "    </tr>\n",
       "    <tr>\n",
       "      <td>1</td>\n",
       "      <td>1</td>\n",
       "      <td>2</td>\n",
       "      <td>Queen</td>\n",
       "      <td>Switzerland</td>\n",
       "    </tr>\n",
       "    <tr>\n",
       "      <td>2</td>\n",
       "      <td>2</td>\n",
       "      <td>3</td>\n",
       "      <td>David Bowie</td>\n",
       "      <td>Switzerland</td>\n",
       "    </tr>\n",
       "  </tbody>\n",
       "</table>\n",
       "</div>"
      ],
      "text/plain": [
       "   Unnamed: 0  rank       artist      country\n",
       "0           0     1     Coldplay  Switzerland\n",
       "1           1     2        Queen  Switzerland\n",
       "2           2     3  David Bowie  Switzerland"
      ]
     },
     "execution_count": 64,
     "metadata": {},
     "output_type": "execute_result"
    }
   ],
   "source": [
    "top_artist_switzerland = pd.read_csv('../datasets/lastfm_api/top_artist_switzerland.csv')\n",
    "top_artist_switzerland.head(3)"
   ]
  },
  {
   "cell_type": "code",
   "execution_count": 65,
   "metadata": {},
   "outputs": [
    {
     "data": {
      "text/html": [
       "<div>\n",
       "<style scoped>\n",
       "    .dataframe tbody tr th:only-of-type {\n",
       "        vertical-align: middle;\n",
       "    }\n",
       "\n",
       "    .dataframe tbody tr th {\n",
       "        vertical-align: top;\n",
       "    }\n",
       "\n",
       "    .dataframe thead th {\n",
       "        text-align: right;\n",
       "    }\n",
       "</style>\n",
       "<table border=\"1\" class=\"dataframe\">\n",
       "  <thead>\n",
       "    <tr style=\"text-align: right;\">\n",
       "      <th></th>\n",
       "      <th>country_id</th>\n",
       "      <th>country_name</th>\n",
       "      <th>alpha_2_code</th>\n",
       "    </tr>\n",
       "  </thead>\n",
       "  <tbody>\n",
       "    <tr>\n",
       "      <td>212</td>\n",
       "      <td>213</td>\n",
       "      <td>Switzerland</td>\n",
       "      <td>CH</td>\n",
       "    </tr>\n",
       "  </tbody>\n",
       "</table>\n",
       "</div>"
      ],
      "text/plain": [
       "     country_id country_name alpha_2_code\n",
       "212         213  Switzerland           CH"
      ]
     },
     "execution_count": 65,
     "metadata": {},
     "output_type": "execute_result"
    }
   ],
   "source": [
    "## Check country name in country table\n",
    "country_table[country_table['country_name'] == 'Switzerland']"
   ]
  },
  {
   "cell_type": "code",
   "execution_count": 66,
   "metadata": {},
   "outputs": [
    {
     "name": "stdout",
     "output_type": "stream",
     "text": [
      "Mumford & Sons\n"
     ]
    }
   ],
   "source": [
    "## Title case artists for artist matching\n",
    "top_artist_switzerland\n",
    "top_artist_switzerland['artist'] = top_artist_switzerland['artist'].apply(lambda x : x.title())\n",
    "\n",
    "##Find missing artists\n",
    "artist_switzerland_list = list(top_artist_switzerland.artist)\n",
    "artists_table_list = list(artists_table.artist)\n",
    "for i in artist_switzerland_list:\n",
    "    if i not in artists_table_list:\n",
    "        print(i)"
   ]
  },
  {
   "cell_type": "markdown",
   "metadata": {},
   "source": [
    "#### Wrangling Spain's top artist list"
   ]
  },
  {
   "cell_type": "code",
   "execution_count": 67,
   "metadata": {},
   "outputs": [
    {
     "data": {
      "text/html": [
       "<div>\n",
       "<style scoped>\n",
       "    .dataframe tbody tr th:only-of-type {\n",
       "        vertical-align: middle;\n",
       "    }\n",
       "\n",
       "    .dataframe tbody tr th {\n",
       "        vertical-align: top;\n",
       "    }\n",
       "\n",
       "    .dataframe thead th {\n",
       "        text-align: right;\n",
       "    }\n",
       "</style>\n",
       "<table border=\"1\" class=\"dataframe\">\n",
       "  <thead>\n",
       "    <tr style=\"text-align: right;\">\n",
       "      <th></th>\n",
       "      <th>Unnamed: 0</th>\n",
       "      <th>rank</th>\n",
       "      <th>artist</th>\n",
       "      <th>country</th>\n",
       "    </tr>\n",
       "  </thead>\n",
       "  <tbody>\n",
       "    <tr>\n",
       "      <td>0</td>\n",
       "      <td>0</td>\n",
       "      <td>1</td>\n",
       "      <td>Radiohead</td>\n",
       "      <td>Spain</td>\n",
       "    </tr>\n",
       "    <tr>\n",
       "      <td>1</td>\n",
       "      <td>1</td>\n",
       "      <td>2</td>\n",
       "      <td>David Bowie</td>\n",
       "      <td>Spain</td>\n",
       "    </tr>\n",
       "    <tr>\n",
       "      <td>2</td>\n",
       "      <td>2</td>\n",
       "      <td>3</td>\n",
       "      <td>Kanye West</td>\n",
       "      <td>Spain</td>\n",
       "    </tr>\n",
       "  </tbody>\n",
       "</table>\n",
       "</div>"
      ],
      "text/plain": [
       "   Unnamed: 0  rank       artist country\n",
       "0           0     1    Radiohead   Spain\n",
       "1           1     2  David Bowie   Spain\n",
       "2           2     3   Kanye West   Spain"
      ]
     },
     "execution_count": 67,
     "metadata": {},
     "output_type": "execute_result"
    }
   ],
   "source": [
    "top_artist_spain = pd.read_csv('../datasets/lastfm_api/top_artist_spain.csv')\n",
    "top_artist_spain.head(3)"
   ]
  },
  {
   "cell_type": "code",
   "execution_count": 68,
   "metadata": {},
   "outputs": [
    {
     "data": {
      "text/html": [
       "<div>\n",
       "<style scoped>\n",
       "    .dataframe tbody tr th:only-of-type {\n",
       "        vertical-align: middle;\n",
       "    }\n",
       "\n",
       "    .dataframe tbody tr th {\n",
       "        vertical-align: top;\n",
       "    }\n",
       "\n",
       "    .dataframe thead th {\n",
       "        text-align: right;\n",
       "    }\n",
       "</style>\n",
       "<table border=\"1\" class=\"dataframe\">\n",
       "  <thead>\n",
       "    <tr style=\"text-align: right;\">\n",
       "      <th></th>\n",
       "      <th>country_id</th>\n",
       "      <th>country_name</th>\n",
       "      <th>alpha_2_code</th>\n",
       "    </tr>\n",
       "  </thead>\n",
       "  <tbody>\n",
       "    <tr>\n",
       "      <td>205</td>\n",
       "      <td>206</td>\n",
       "      <td>Spain</td>\n",
       "      <td>ES</td>\n",
       "    </tr>\n",
       "  </tbody>\n",
       "</table>\n",
       "</div>"
      ],
      "text/plain": [
       "     country_id country_name alpha_2_code\n",
       "205         206        Spain           ES"
      ]
     },
     "execution_count": 68,
     "metadata": {},
     "output_type": "execute_result"
    }
   ],
   "source": [
    "## Check country name in country table\n",
    "country_table[country_table['country_name'] == 'Spain']"
   ]
  },
  {
   "cell_type": "code",
   "execution_count": 69,
   "metadata": {},
   "outputs": [],
   "source": [
    "## Title case artists for artist matching\n",
    "top_artist_spain\n",
    "top_artist_spain['artist'] = top_artist_spain['artist'].apply(lambda x : x.title())\n",
    "\n",
    "##Find missing artists\n",
    "artist_spain_list = list(top_artist_spain.artist)\n",
    "artists_table_list = list(artists_table.artist)\n",
    "for i in artist_spain_list:\n",
    "    if i not in artists_table_list:\n",
    "        print(i)"
   ]
  },
  {
   "cell_type": "markdown",
   "metadata": {},
   "source": [
    "#### Find parcial coincidences in artist table for missing artists:\n",
    "\n",
    "* Fairuz\n",
    "* Frank Sinatra\n",
    "* Mumford & Sons"
   ]
  },
  {
   "cell_type": "code",
   "execution_count": 70,
   "metadata": {},
   "outputs": [
    {
     "data": {
      "text/html": [
       "<div>\n",
       "<style scoped>\n",
       "    .dataframe tbody tr th:only-of-type {\n",
       "        vertical-align: middle;\n",
       "    }\n",
       "\n",
       "    .dataframe tbody tr th {\n",
       "        vertical-align: top;\n",
       "    }\n",
       "\n",
       "    .dataframe thead th {\n",
       "        text-align: right;\n",
       "    }\n",
       "</style>\n",
       "<table border=\"1\" class=\"dataframe\">\n",
       "  <thead>\n",
       "    <tr style=\"text-align: right;\">\n",
       "      <th></th>\n",
       "      <th>artist_id</th>\n",
       "      <th>artist</th>\n",
       "    </tr>\n",
       "  </thead>\n",
       "  <tbody>\n",
       "    <tr>\n",
       "      <td>3792</td>\n",
       "      <td>3793</td>\n",
       "      <td>Michiru Oshima</td>\n",
       "    </tr>\n",
       "    <tr>\n",
       "      <td>4218</td>\n",
       "      <td>4219</td>\n",
       "      <td>Beirut</td>\n",
       "    </tr>\n",
       "    <tr>\n",
       "      <td>6098</td>\n",
       "      <td>6099</td>\n",
       "      <td>Pirulo Y La Tribu</td>\n",
       "    </tr>\n",
       "    <tr>\n",
       "      <td>9528</td>\n",
       "      <td>9529</td>\n",
       "      <td>Natiruts</td>\n",
       "    </tr>\n",
       "  </tbody>\n",
       "</table>\n",
       "</div>"
      ],
      "text/plain": [
       "      artist_id             artist\n",
       "3792       3793     Michiru Oshima\n",
       "4218       4219             Beirut\n",
       "6098       6099  Pirulo Y La Tribu\n",
       "9528       9529           Natiruts"
      ]
     },
     "execution_count": 70,
     "metadata": {},
     "output_type": "execute_result"
    }
   ],
   "source": [
    "## Fairuz\n",
    "artists_table.loc[artists_table.artist.str.contains(\"iru\")]"
   ]
  },
  {
   "cell_type": "code",
   "execution_count": 71,
   "metadata": {},
   "outputs": [
    {
     "data": {
      "text/html": [
       "<div>\n",
       "<style scoped>\n",
       "    .dataframe tbody tr th:only-of-type {\n",
       "        vertical-align: middle;\n",
       "    }\n",
       "\n",
       "    .dataframe tbody tr th {\n",
       "        vertical-align: top;\n",
       "    }\n",
       "\n",
       "    .dataframe thead th {\n",
       "        text-align: right;\n",
       "    }\n",
       "</style>\n",
       "<table border=\"1\" class=\"dataframe\">\n",
       "  <thead>\n",
       "    <tr style=\"text-align: right;\">\n",
       "      <th></th>\n",
       "      <th>artist_id</th>\n",
       "      <th>artist</th>\n",
       "    </tr>\n",
       "  </thead>\n",
       "  <tbody>\n",
       "    <tr>\n",
       "      <td>4307</td>\n",
       "      <td>4308</td>\n",
       "      <td>Nancy Sinatra</td>\n",
       "    </tr>\n",
       "  </tbody>\n",
       "</table>\n",
       "</div>"
      ],
      "text/plain": [
       "      artist_id         artist\n",
       "4307       4308  Nancy Sinatra"
      ]
     },
     "execution_count": 71,
     "metadata": {},
     "output_type": "execute_result"
    }
   ],
   "source": [
    "## Frank Sinatra\n",
    "artists_table.loc[artists_table.artist.str.contains(\"inatra\")]"
   ]
  },
  {
   "cell_type": "code",
   "execution_count": 72,
   "metadata": {},
   "outputs": [
    {
     "data": {
      "text/html": [
       "<div>\n",
       "<style scoped>\n",
       "    .dataframe tbody tr th:only-of-type {\n",
       "        vertical-align: middle;\n",
       "    }\n",
       "\n",
       "    .dataframe tbody tr th {\n",
       "        vertical-align: top;\n",
       "    }\n",
       "\n",
       "    .dataframe thead th {\n",
       "        text-align: right;\n",
       "    }\n",
       "</style>\n",
       "<table border=\"1\" class=\"dataframe\">\n",
       "  <thead>\n",
       "    <tr style=\"text-align: right;\">\n",
       "      <th></th>\n",
       "      <th>artist_id</th>\n",
       "      <th>artist</th>\n",
       "    </tr>\n",
       "  </thead>\n",
       "  <tbody>\n",
       "    <tr>\n",
       "      <td>1228</td>\n",
       "      <td>1229</td>\n",
       "      <td>Sons Of Bill</td>\n",
       "    </tr>\n",
       "    <tr>\n",
       "      <td>1271</td>\n",
       "      <td>1272</td>\n",
       "      <td>Rival Sons</td>\n",
       "    </tr>\n",
       "    <tr>\n",
       "      <td>4115</td>\n",
       "      <td>4116</td>\n",
       "      <td>Sons Of The East</td>\n",
       "    </tr>\n",
       "    <tr>\n",
       "      <td>6949</td>\n",
       "      <td>6950</td>\n",
       "      <td>The Glorious Sons</td>\n",
       "    </tr>\n",
       "    <tr>\n",
       "      <td>7951</td>\n",
       "      <td>7952</td>\n",
       "      <td>Young Rising Sons</td>\n",
       "    </tr>\n",
       "    <tr>\n",
       "      <td>8856</td>\n",
       "      <td>8857</td>\n",
       "      <td>Sons Of Zion</td>\n",
       "    </tr>\n",
       "    <tr>\n",
       "      <td>9236</td>\n",
       "      <td>9237</td>\n",
       "      <td>Sons Of Apollo</td>\n",
       "    </tr>\n",
       "    <tr>\n",
       "      <td>10848</td>\n",
       "      <td>10849</td>\n",
       "      <td>Summers Sons</td>\n",
       "    </tr>\n",
       "    <tr>\n",
       "      <td>11173</td>\n",
       "      <td>11174</td>\n",
       "      <td>Sons Of Kemet</td>\n",
       "    </tr>\n",
       "    <tr>\n",
       "      <td>11699</td>\n",
       "      <td>11700</td>\n",
       "      <td>The Arrogant Sons Of Bitches</td>\n",
       "    </tr>\n",
       "    <tr>\n",
       "      <td>13856</td>\n",
       "      <td>13857</td>\n",
       "      <td>All Sons &amp; Daughters</td>\n",
       "    </tr>\n",
       "    <tr>\n",
       "      <td>14040</td>\n",
       "      <td>14041</td>\n",
       "      <td>Sons Of Korah</td>\n",
       "    </tr>\n",
       "  </tbody>\n",
       "</table>\n",
       "</div>"
      ],
      "text/plain": [
       "       artist_id                        artist\n",
       "1228        1229                  Sons Of Bill\n",
       "1271        1272                    Rival Sons\n",
       "4115        4116              Sons Of The East\n",
       "6949        6950             The Glorious Sons\n",
       "7951        7952             Young Rising Sons\n",
       "8856        8857                  Sons Of Zion\n",
       "9236        9237                Sons Of Apollo\n",
       "10848      10849                  Summers Sons\n",
       "11173      11174                 Sons Of Kemet\n",
       "11699      11700  The Arrogant Sons Of Bitches\n",
       "13856      13857          All Sons & Daughters\n",
       "14040      14041                 Sons Of Korah"
      ]
     },
     "execution_count": 72,
     "metadata": {},
     "output_type": "execute_result"
    }
   ],
   "source": [
    "## Mumford & Sons\n",
    "artists_table.loc[artists_table.artist.str.contains(\"Sons\")]"
   ]
  },
  {
   "cell_type": "markdown",
   "metadata": {},
   "source": [
    "These artists don't exist in our current DB. We need to add them."
   ]
  },
  {
   "cell_type": "markdown",
   "metadata": {},
   "source": [
    "#### Artists list update on DB"
   ]
  },
  {
   "cell_type": "code",
   "execution_count": 73,
   "metadata": {},
   "outputs": [],
   "source": [
    "##Create DataFrame with the missing artists\n",
    "new_artists = ['Mumford & Sons', 'Fairuz', 'Frank Sinatra']\n",
    "df_new_artists = pd.DataFrame(new_artists)\n",
    "df_new_artists.columns = ['artist_name']"
   ]
  },
  {
   "cell_type": "code",
   "execution_count": 74,
   "metadata": {},
   "outputs": [],
   "source": [
    "##Add the missing artists to the DB table\n",
    "df_new_artists.to_sql('artist', con=engine, if_exists = 'append', index = False) "
   ]
  },
  {
   "cell_type": "code",
   "execution_count": 75,
   "metadata": {},
   "outputs": [],
   "source": [
    "##Import table with new added artists\n",
    "new_artists_table = pd.read_sql('artist', engine)"
   ]
  },
  {
   "cell_type": "markdown",
   "metadata": {},
   "source": [
    "### Create new top charts table"
   ]
  },
  {
   "cell_type": "code",
   "execution_count": 76,
   "metadata": {},
   "outputs": [],
   "source": [
    "##Create a unique DF with all countries\n",
    "top_artists = pd.concat([top_artist_jordan, top_artist_switzerland, top_artist_spain], axis=0)\n",
    "top_artists.drop('Unnamed: 0', axis=1, inplace = True)"
   ]
  },
  {
   "cell_type": "code",
   "execution_count": 77,
   "metadata": {},
   "outputs": [],
   "source": [
    "##Add the country_id to the top_artists table\n",
    "top_artists = top_artists.rename(columns={'country':'country_name'})\n",
    "top_artists = pd.merge(top_artists, country_table, on='country_name')"
   ]
  },
  {
   "cell_type": "code",
   "execution_count": 78,
   "metadata": {},
   "outputs": [],
   "source": [
    "##Add the artist_id to the top_artists table\n",
    "top_artists = top_artists.rename(columns={'artist':'artist_name'})\n",
    "new_artists_table = new_artists_table.rename(columns={'ID':'artist_id'})\n",
    "top_artists = pd.merge(top_artists, new_artists_table, on='artist_name')"
   ]
  },
  {
   "cell_type": "code",
   "execution_count": 79,
   "metadata": {},
   "outputs": [
    {
     "data": {
      "text/html": [
       "<div>\n",
       "<style scoped>\n",
       "    .dataframe tbody tr th:only-of-type {\n",
       "        vertical-align: middle;\n",
       "    }\n",
       "\n",
       "    .dataframe tbody tr th {\n",
       "        vertical-align: top;\n",
       "    }\n",
       "\n",
       "    .dataframe thead th {\n",
       "        text-align: right;\n",
       "    }\n",
       "</style>\n",
       "<table border=\"1\" class=\"dataframe\">\n",
       "  <thead>\n",
       "    <tr style=\"text-align: right;\">\n",
       "      <th></th>\n",
       "      <th>rank</th>\n",
       "      <th>artist_name</th>\n",
       "      <th>country_name</th>\n",
       "      <th>country_id</th>\n",
       "      <th>alpha_2_code</th>\n",
       "      <th>artist_id</th>\n",
       "    </tr>\n",
       "  </thead>\n",
       "  <tbody>\n",
       "    <tr>\n",
       "      <td>0</td>\n",
       "      <td>1</td>\n",
       "      <td>Lana Del Rey</td>\n",
       "      <td>Jordan</td>\n",
       "      <td>112</td>\n",
       "      <td>JO</td>\n",
       "      <td>2357</td>\n",
       "    </tr>\n",
       "    <tr>\n",
       "      <td>1</td>\n",
       "      <td>20</td>\n",
       "      <td>Lana Del Rey</td>\n",
       "      <td>Switzerland</td>\n",
       "      <td>213</td>\n",
       "      <td>CH</td>\n",
       "      <td>2357</td>\n",
       "    </tr>\n",
       "    <tr>\n",
       "      <td>2</td>\n",
       "      <td>18</td>\n",
       "      <td>Lana Del Rey</td>\n",
       "      <td>Spain</td>\n",
       "      <td>206</td>\n",
       "      <td>ES</td>\n",
       "      <td>2357</td>\n",
       "    </tr>\n",
       "  </tbody>\n",
       "</table>\n",
       "</div>"
      ],
      "text/plain": [
       "   rank   artist_name country_name  country_id alpha_2_code  artist_id\n",
       "0     1  Lana Del Rey       Jordan         112           JO       2357\n",
       "1    20  Lana Del Rey  Switzerland         213           CH       2357\n",
       "2    18  Lana Del Rey        Spain         206           ES       2357"
      ]
     },
     "execution_count": 79,
     "metadata": {},
     "output_type": "execute_result"
    }
   ],
   "source": [
    "top_artists.head(3)"
   ]
  },
  {
   "cell_type": "code",
   "execution_count": 80,
   "metadata": {},
   "outputs": [],
   "source": [
    "##Drop unnecessary columns\n",
    "top_artists.drop(['alpha_2_code', 'artist_name', 'country_name'], axis=1, inplace = True)"
   ]
  },
  {
   "cell_type": "code",
   "execution_count": 81,
   "metadata": {},
   "outputs": [],
   "source": [
    "## Export it to MySQL\n",
    "top_artists.columns = ['ranking', 'country_id', 'artist_id']\n",
    "top_artists.to_sql('top_artists_country', con=engine, if_exists = 'append', index = False) "
   ]
  },
  {
   "cell_type": "code",
   "execution_count": 82,
   "metadata": {},
   "outputs": [
    {
     "name": "stdout",
     "output_type": "stream",
     "text": [
      "Len top artists table after DB:  150\n"
     ]
    }
   ],
   "source": [
    "##Import it back with the table PK\n",
    "top_artists_with_id = pd.read_sql('top_artists_country', engine)\n",
    "print('Len top artists table after DB: ', len(top_artists_with_id))"
   ]
  }
 ],
 "metadata": {
  "kernelspec": {
   "display_name": "Python 3",
   "language": "python",
   "name": "python3"
  },
  "language_info": {
   "codemirror_mode": {
    "name": "ipython",
    "version": 3
   },
   "file_extension": ".py",
   "mimetype": "text/x-python",
   "name": "python",
   "nbconvert_exporter": "python",
   "pygments_lexer": "ipython3",
   "version": "3.7.4"
  }
 },
 "nbformat": 4,
 "nbformat_minor": 2
}
